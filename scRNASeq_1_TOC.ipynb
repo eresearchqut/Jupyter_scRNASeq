{
 "cells": [
  {
   "cell_type": "markdown",
   "id": "e7d5630d-8d42-4fbe-8740-820e5d120aee",
   "metadata": {
    "jp-MarkdownHeadingCollapsed": true,
    "tags": []
   },
   "source": [
    "# Contents\n",
    "[1. How to use this notebook](#overview)\n",
    "\n",
    "[2. scRNA-Seq Analysis pipeline](#pipeline)\n",
    "\n",
    "[3. Importing your data](#import)\n",
    "\n",
    "[4. Results summary](#summary)\n",
    "\n",
    "[5. Filtering cells and clustering](./scRNASeq_5_Filter_Cells.ipynb)\n",
    "\n",
    "[6. Aggregate clustering](./scRNASeq_6_aggregate_cluster.ipynb)\n",
    "\n",
    "[7. Differential expression](./scRNASeq_7_DE.ipynb)\n"
   ]
  },
  {
   "cell_type": "markdown",
   "id": "f39fc2bd-9ffd-4f0f-9d52-42fc2994c086",
   "metadata": {
    "tags": []
   },
   "source": [
    "# 1. How to use this notebook <a class=\"anchor\" id=\"overview\"></a>\n",
    "\n",
    "This is a [Jupyter notebook](https://jupyter.org/) for downstream analysis of single cell RNA-Seq (scRNA-Seq) data that has been initially processed by the [10x Cell Ranger](https://support.10xgenomics.com/single-cell-gene-expression/software/pipelines/latest/what-is-cell-ranger) pipeline.\n",
    "\n",
    "The majority of the sections in this notebook can be opened as separate Jupyter notebooks (by clicking on the link in the table of contents) and are designed to be run completely independantly (this also means some of the initial code steps, such as defining your working directory, are repeated in each section).\n",
    "\n",
    "Jupyter notebooks are interactive documents that contain 'live code', which allows the user to complete an analysis by running code 'cells', which can be modified, updated or added to by the user.\n",
    "\n",
    "Individual Jupyter notebooks are based on a specific 'kernel', or analysis envirnment (mostly programming languages). This particular notebook is based on R. To see which version of R this notebook is based on, and as an example of running a code cell, click on the cell below and press the 'Run' button (top of the page)."
   ]
  },
  {
   "cell_type": "code",
   "execution_count": null,
   "id": "4de16865-1592-493f-84d0-1394d689fee9",
   "metadata": {},
   "outputs": [],
   "source": [
    "R.Version()"
   ]
  },
  {
   "cell_type": "markdown",
   "id": "7bb112ad-c554-4910-b00e-880d5a977d9a",
   "metadata": {
    "tags": []
   },
   "source": [
    "You should now see details about the version of R installed for this notebook. Every other code cell can be run similarly. There are two main types of code cells, plain R code (as seen above) and [markdown](https://www.rstudio.com/wp-content/uploads/2015/02/rmarkdown-cheatsheet.pdf). \n",
    "\n",
    "Markdown is a simple language for formatting text and the instructions (including this cell), headings, etc are written in markdown code cells. See: https://www.rstudio.com/wp-content/uploads/2015/02/rmarkdown-cheatsheet.pdf. You can add additional cells (markdown or R) by clicking on the plus sign, and then in the dropdown box, selecting 'Markdown' or 'code'. This way you can add your own analysis code cells or your own notes in markdown."
   ]
  },
  {
   "cell_type": "markdown",
   "id": "6e03312b-b757-437a-aca3-1c3ae55e21b5",
   "metadata": {
    "jp-MarkdownHeadingCollapsed": true,
    "tags": []
   },
   "source": [
    "# 2. scRNA-Seq analysis pipeline <a class=\"anchor\" id=\"pipeline\"></a>\n",
    "\n",
    "\n",
    "\n",
    "**IMPORTANT: This notebook is for downstream analysis of [10x Genomics single cell RNA-Seq](https://www.10xgenomics.com/products/single-cell-gene-expression). It assumes that initial, upstream analysis has been completed using 10x Genomics analysis tool, [Cell Ranger](https://support.10xgenomics.com/single-cell-gene-expression/software/pipelines/latest/what-is-cell-ranger).**\n",
    "\n",
    "![](https://support.10xgenomics.com/img/single-cell-gex/gex-analysis-tour-1.png)\n",
    "\n",
    "Processing of 10x scRNA-Seq data using Cell Ranger involves 3 main steps:\n",
    "\n",
    "1. [cellranger mkfastq](https://support.10xgenomics.com/single-cell-gene-expression/software/pipelines/latest/using/mkfastq) is used to demultiplex raw base call data files and convert these to fastq format files.\n",
    "\n",
    "2. [cellranger count](https://support.10xgenomics.com/single-cell-gene-expression/software/pipelines/latest/using/count) is the core analysis tool, aligning and sequences to a reference genome and quantifying the number of aligned sequences per genomic feature (e.g. gene). Differentially expressed genes are calculated from this data.\n",
    "\n",
    "3. [cellranger aggr](https://support.10xgenomics.com/single-cell-gene-expression/software/pipelines/latest/using/aggregate) aggregates the output from multiple cellranger count runs. Counts are re-quantified based on relative library size (normalisation) and gene expression is re-calculated.\n",
    "\n",
    "Output directories and files from CellRanger follow a standard directory structure and naming convention, which allows the code in this notebook to be run on any CellRanger output with minimal modifications (e.g. experiment-specific information such as sample groups).\n",
    "\n",
    "## R analysis\n",
    "\n",
    "Cell Ranger is usually run on a Linux server or cloud service. The Cell Ranger output is used in this R-based Jupyter workflow to do downstream analysis (generate figures, statistics, etc) on this data.\n",
    "\n",
    "The main R package used in this workflow is [Seurat: 'R toolkit for single cell genomics'](https://satijalab.org/seurat/). Seurat has been designed to be able to directly import 10X Genomics datasets and analyse this data in a wide variety of ways. See the Seurat website for more details. https://satijalab.org/seurat/\n",
    "\n",
    "To cite Seurat:\n",
    "\n",
    ">Hao, Y., Hao, S., Andersen-Nissen, E., Mauck III, W.M., Zheng, S., Butler, A., Lee, M.J., Wilk, A.J., Darby, C., Zager, M. and Hoffman, P., 2021. Integrated analysis of multimodal single-cell data. Cell, 184(13), pp.3573-3587.\n",
    "\n",
    "## cloupe files\n",
    "\n",
    "The CellRanger output includes a ‘cloupe’ file, which is a 10X database designed to be open and viewed in 10X’s Loupe browser:\n",
    "\n",
    "https://support.10xgenomics.com/single-cell-gene-expression/software/visualization/latest/what-is-loupe-cell-browser\n",
    "\n",
    "The Loupe browser can easily be installed on a Windows or macOS computer. This can be used as an alternative to using the R-based analysis in this notebook."
   ]
  },
  {
   "cell_type": "markdown",
   "id": "1842f207-142d-4dce-b42f-cd2367f3ada4",
   "metadata": {},
   "source": [
    "# 3. Importing your data <a class=\"anchor\" id=\"import\"></a>\n",
    "\n",
    "This analysis pipeline imports several database files that have been generated by Cell Ranger.\n",
    "Cell Ranger creates a default directory structure, described here: https://support.10xgenomics.com/single-cell-gene-expression/software/pipelines/latest/output/overview\n",
    "This analysis pipeline is also based on R, which calls in files from a [working directory](https://intro2r.com/work-d.html) that is defined in the script. This means anyone who has Cell Ranger data can use the location of this data to define the working directory in R, and then the script will automatically find the relevant database files needed to complete this analysis.\n",
    "\n",
    "**NOTE** At time of writing (27-04-2022) the QUT Jupyter Hub is not connected to the main QUT file storage system, thus someone following this pipeline needs to first upload their Cell Ranger data to the Jupyter Hub. In the left hand panel of this notebook is an 'upload' button. Click on this to upload files. Unfortunately, Jupyter can only upload single files, so you will need to first 1) zip your entire Cell Ranger output directories, then 2) upload this single zip file to Jupyter, and finally 3) extract this file using a terminal in Jupyter (in the 'launcher' tab is a button to launch a terminal). These 3 steps are fairly easy to figure out with a small amount of Googling, or contact Paul Whatmore at eResearch (paul.whatmore@qut.edu.au) if you are still having difficulties doing this.\n",
    "\n",
    "We are currently working on integrating QUTs file system to this Jupyter Hub, and when this is complete you will simply need to make the location of your Cell Ranger results as the working directory (i.e. no uploading and unzipping of files to the Jupyter Hub)."
   ]
  },
  {
   "cell_type": "markdown",
   "id": "246e4dc8-9e0d-488e-ba93-80fd5b30b709",
   "metadata": {},
   "source": [
    "## Set your working directory and check your data\n",
    "\n",
    "To make sure you now have everything correctly set up (i.e. all your Cell Ranger database files) to run the following analysis, we will now chck your data.\n",
    "\n",
    "R needs a base directory to work from (a 'working directory'). Set this to be the 'scDATA' directory by running the below code cell."
   ]
  },
  {
   "cell_type": "code",
   "execution_count": null,
   "id": "b7513bd3-885d-47e7-8280-76dd36917825",
   "metadata": {},
   "outputs": [],
   "source": [
    "setwd(\"~/scDATA\")"
   ]
  },
  {
   "cell_type": "markdown",
   "id": "2d1a716f-8d64-42a5-857a-be5ee90e300a",
   "metadata": {},
   "source": [
    "<mark><font color=\"red\">**Fazeleh, your datasets are both already there. You can skip the data import and instead run one of the below cells to set the working directory to process either your first or second dataset. If you want to switch between datasets, just run the 'setwd' code cell for that dataset.**</font></mark>"
   ]
  },
  {
   "cell_type": "markdown",
   "id": "bdcfc626-b734-4e6f-9c67-603d8c6b1858",
   "metadata": {},
   "source": [
    "First record the root working directory, so you can switch between datasets as needed."
   ]
  },
  {
   "cell_type": "code",
   "execution_count": null,
   "id": "24b5f477-a392-4cc1-93b5-c12943b0f253",
   "metadata": {},
   "outputs": [],
   "source": [
    "setwd(\"~/Fazeleh/Dataset1/scDATA\")"
   ]
  },
  {
   "cell_type": "code",
   "execution_count": null,
   "id": "13c9f700-d6ed-4244-88cf-6a78819fea17",
   "metadata": {},
   "outputs": [],
   "source": [
    "setwd(\"~/Fazeleh/Dataset2/scDATA\")"
   ]
  },
  {
   "cell_type": "markdown",
   "id": "bf93a834-0419-4e4e-9b6c-a495234e5a82",
   "metadata": {},
   "source": [
    "Now you can see what is in this directory by running the list.dirs() function:"
   ]
  },
  {
   "cell_type": "code",
   "execution_count": null,
   "id": "b13911f7-ef0e-42cd-85b8-d303d2bbf772",
   "metadata": {},
   "outputs": [],
   "source": [
    "list.dirs(full.names = F, recursive = F)"
   ]
  },
  {
   "cell_type": "markdown",
   "id": "f985a656-8148-4b06-9507-fe40f81367bb",
   "metadata": {},
   "source": [
    "You should see a list of all the sample directories for your dataset.\n",
    "You can see all the files under each directory by using the dir_tree() command from the **fs** package. First, install and load the fs package by running the below code cell."
   ]
  },
  {
   "cell_type": "code",
   "execution_count": null,
   "id": "c53bdb02-b5de-4ab7-bfb8-068387e487ec",
   "metadata": {},
   "outputs": [],
   "source": [
    "library(fs)"
   ]
  },
  {
   "cell_type": "markdown",
   "id": "cad8b9f6-c410-4059-bcc1-23460dec5540",
   "metadata": {},
   "source": [
    "Now run the the dir_tree() command"
   ]
  },
  {
   "cell_type": "code",
   "execution_count": null,
   "id": "3e13b828-170e-4617-8998-3ebb300e09ce",
   "metadata": {},
   "outputs": [],
   "source": [
    "dir_tree(recurse=2, type = \"directory\")"
   ]
  },
  {
   "cell_type": "markdown",
   "id": "667d5447-9d9b-4ff0-8a8e-5fbaefe9eca7",
   "metadata": {},
   "source": [
    "You should see each of your sample directories with the analysis subdirectories and data files in them. If not, go back to the top of the 'Importing your data' section and make sure you followed every step."
   ]
  },
  {
   "cell_type": "markdown",
   "id": "3831d257-3c32-4ff0-a30d-1906cb56ff69",
   "metadata": {},
   "source": [
    "# 4. Results summary <a class=\"anchor\" id=\"summary\"></a>\n"
   ]
  },
  {
   "cell_type": "markdown",
   "id": "1dcb860e-03a7-4b98-a341-b37f28e34119",
   "metadata": {},
   "source": [
    "The **metrics_summary.csv** file contains information about each sample, such as estimated number of cells, number of reads, read quality metrics, where reads mapped to genomic regions, etc.\n",
    "See: https://support.10xgenomics.com/single-cell-gene-expression/software/pipelines/latest/output/metrics-summary-csv\n"
   ]
  },
  {
   "cell_type": "markdown",
   "id": "1eae98a4-8e3a-4b83-89cb-ba3a2a79364b",
   "metadata": {},
   "source": [
    "**NOTE: the 'metrics_summary.csv' file is only available for individual samples. If you are working on an aggregate dataset (see Aggregate Clustering section) then the below commands won't work.**"
   ]
  },
  {
   "cell_type": "markdown",
   "id": "a1f4f272-7750-4961-bf32-f516a4bcdd94",
   "metadata": {},
   "source": [
    "To view the data, read it in to R using the `read.csv` function. First, enter which sample you wish to examine (based on the sample directory names in your Cell Ranger output) in the code cell below. E.g. if your sample directory is called \"Liver\", the below cell will be `sample <- \"Liver\"`"
   ]
  },
  {
   "cell_type": "code",
   "execution_count": null,
   "id": "9322ba6c-d3c2-4687-90fd-b68df6fc363a",
   "metadata": {},
   "outputs": [],
   "source": [
    "sample <- \"Cerebellum\""
   ]
  },
  {
   "cell_type": "markdown",
   "id": "78ff0b92-d3ce-4af6-be40-88321aae6906",
   "metadata": {},
   "source": [
    "Now the following cell can run based on the sample directory information you provided. "
   ]
  },
  {
   "cell_type": "code",
   "execution_count": null,
   "id": "f0d4db1e-092c-41d5-ae31-27d181930b64",
   "metadata": {},
   "outputs": [],
   "source": [
    "metrics <- read.csv(paste0(\"./\" , sample, \"/metrics_summary.csv\"))"
   ]
  },
  {
   "cell_type": "markdown",
   "id": "0163a6ea-f2a2-4f88-9e38-6f50779e94ed",
   "metadata": {},
   "source": [
    "View the metrics as a table"
   ]
  },
  {
   "cell_type": "code",
   "execution_count": null,
   "id": "8258ec48-c2d5-45cc-856c-51c5a2f4d43a",
   "metadata": {},
   "outputs": [],
   "source": [
    "paste(sample, \"metrics\")\n",
    "t(metrics)"
   ]
  },
  {
   "cell_type": "markdown",
   "id": "10fd1e6b-6379-4539-8916-0cc9242a39e4",
   "metadata": {},
   "source": [
    "You can go back and change the sample name then re-run the last two code cells to display metrics on each sample."
   ]
  },
  {
   "cell_type": "markdown",
   "id": "e13c6216-a854-41f2-898d-cb1bb1bef158",
   "metadata": {},
   "source": [
    "[Click here to go to the next section: Filtering cells using markers](./scRNASeq_5_Filter_Cells.ipynb)"
   ]
  }
 ],
 "metadata": {
  "kernelspec": {
   "display_name": "R .conda-rnotebook",
   "language": "R",
   "name": "conda-env-.conda-rnotebook-r"
  },
  "language_info": {
   "codemirror_mode": "r",
   "file_extension": ".r",
   "mimetype": "text/x-r-source",
   "name": "R",
   "pygments_lexer": "r",
   "version": "4.2.0"
  }
 },
 "nbformat": 4,
 "nbformat_minor": 5
}
