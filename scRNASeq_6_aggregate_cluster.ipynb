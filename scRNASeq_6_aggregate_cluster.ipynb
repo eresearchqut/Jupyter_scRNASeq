{
 "cells": [
  {
   "cell_type": "markdown",
   "id": "8bc1c06d-6b88-4e94-b0d8-624bcde91f95",
   "metadata": {},
   "source": [
    "# 6. Aggregate clustering <a class=\"anchor\" id=\"clust\"></a>\n"
   ]
  },
  {
   "cell_type": "markdown",
   "id": "695de94b-c712-4ff2-aff4-39939c441d85",
   "metadata": {},
   "source": [
    "### Overview\n",
    "\n",
    "This section of the report involves combining (aggregating) two or more sample datasets. This allows a direct comparison of these samples, rather than analysing them separately.\n",
    "\n",
    "**IMPORTANT: To run this section, you must have processed all the samples you wish to combine in the '5. Filtering cells and clustering' section. This means that outliers and non-target cells have already been identified and removed. Section 5 only has to run once for each sample, as it outputs a datafile for each sample that is imported into this section.**\n",
    "\n",
    "**ALSO IMPORTANT: Aggregate datasets can be very large and utilise a lot of memory. You can see at the bottom of the page the memory usage ('Mem: xxx/xxxMB'). Keep an eye on this. If you use all available memory the server may crash.**"
   ]
  },
  {
   "cell_type": "markdown",
   "id": "2a0c7c7d-7a34-4a9a-998c-a05d95d9e605",
   "metadata": {},
   "source": [
    "*************************************"
   ]
  },
  {
   "cell_type": "markdown",
   "id": "ac573662-7944-47c0-8f91-bc44767e616e",
   "metadata": {},
   "source": [
    "## Contents\n",
    "\n",
    "[6a. Initial setup](#setupag)\n",
    "\n",
    "[6b. Choose samples to aggregate and import data](#sampleag)\n",
    "\n",
    "[6c. Processing expression data (dimensionality reduction)](#dimag)\n",
    "\n",
    "[6d. PCA, UMAP and t-SNE plots (plotting dimenstionality reduction data)](#dimplotag)\n",
    "\n",
    "[6e. Visualise gene expression by marker](#plotag)\n",
    "\n",
    "[6f. Differential expression between samples](#deag)"
   ]
  },
  {
   "cell_type": "markdown",
   "id": "bf2e5e10-2be7-4eda-8c8d-81c3f5723625",
   "metadata": {},
   "source": [
    "**************************"
   ]
  },
  {
   "cell_type": "markdown",
   "id": "6b0aa83b-336c-4c29-a96e-81d2dc69b43f",
   "metadata": {},
   "source": [
    "## <font color=\"green\">6a. Initial setup</font> <a class=\"anchor\" id=\"setupag\"></a>"
   ]
  },
  {
   "cell_type": "markdown",
   "id": "fb9c5c38-9fc8-4a8c-8bb8-80894fbde232",
   "metadata": {},
   "source": [
    "<font color=\"green\">**Each section is designed to be run independently, therefore there is some repeated setup code that needs to be run first. That code is within this subsection, indicated by green text.**</font>"
   ]
  },
  {
   "cell_type": "markdown",
   "id": "94744ac3-51c1-45e1-b975-0a42a877123a",
   "metadata": {},
   "source": [
    "<font color=\"green\">Choose which dataset you want to work on by clicking on one of the setwd() commands below. This sets the working directory for your dataset of choice.</font>"
   ]
  },
  {
   "cell_type": "code",
   "execution_count": null,
   "id": "62275a9e-d1a8-42d1-bb96-a74ee93288e3",
   "metadata": {},
   "outputs": [],
   "source": [
    "setwd(\"~/Fazeleh/Dataset1/scDATA\")"
   ]
  },
  {
   "cell_type": "code",
   "execution_count": null,
   "id": "4237f217-06ef-4ca2-ba90-17a144b275e5",
   "metadata": {},
   "outputs": [],
   "source": [
    "setwd(\"~/Fazeleh/Dataset2/scDATA\")"
   ]
  },
  {
   "cell_type": "markdown",
   "id": "fbcdcfb0-e4c4-4a8e-a4fd-6eb7aaeb5ac4",
   "metadata": {},
   "source": [
    "<font color=\"green\">Load the R packages required for this section. If packages are already installed they can be used simply by loading them with the `library()` function.</font>"
   ]
  },
  {
   "cell_type": "code",
   "execution_count": null,
   "id": "0c7636d0-b9e1-4d59-9638-5be3c76ebb89",
   "metadata": {
    "tags": []
   },
   "outputs": [],
   "source": [
    "library(ggplot2)\n",
    "library(tidyverse)\n",
    "library(viridis)"
   ]
  },
  {
   "cell_type": "markdown",
   "id": "b3e74ef7-f7fe-4b9a-b4ec-44a9cd09cca4",
   "metadata": {},
   "source": [
    "<font color=\"green\">Install R packages required for this section. Packages not installed on the server need to be installed first, then loaded with `library()`.</font>\n",
    "\n",
    "<font color=\"green\">Seurat (https://satijalab.org/seurat/) is the main package we will be using in this analysis workflow. Seurat installs multiple dependencies, so you may need to wait a few minutes for installation to complete.</font>"
   ]
  },
  {
   "cell_type": "code",
   "execution_count": null,
   "id": "4e1f9804-56b6-47b0-b2d3-d9f86840fecf",
   "metadata": {},
   "outputs": [],
   "source": [
    "install.packages(\"Seurat\")\n",
    "install.packages(\"patchwork\")\n",
    "library(Seurat)\n",
    "library(patchwork)"
   ]
  },
  {
   "cell_type": "markdown",
   "id": "5713d639-1d2a-458a-be2a-5f32d5ef10dc",
   "metadata": {},
   "source": [
    "<font color=\"green\">Define a set of colours for plotting. Some of these plots have multiple clusters and it's difficult to find enough contrasting colours to visually separate the clusters. I've developed a set of 25 colours that I've found contrast well, that we can use in the plots for this (and other) sections.</font>"
   ]
  },
  {
   "cell_type": "code",
   "execution_count": null,
   "id": "cbd36570-9cbd-4ad3-8c2a-259bab6b5357",
   "metadata": {},
   "outputs": [],
   "source": [
    "c25 <- c(\n",
    "  \"dodgerblue2\", \"#E31A1C\", # red\n",
    "  \"green4\",\n",
    "  \"#6A3D9A\", # purple\n",
    "  \"#FF7F00\", # orange\n",
    "  \"black\", \"gold1\",\n",
    "  \"skyblue2\", \"#FB9A99\", # lt pink\n",
    "  \"palegreen2\",\n",
    "  \"#CAB2D6\", # lt purple\n",
    "  \"#FDBF6F\", # lt orange\n",
    "  \"gray70\", \"khaki2\",\n",
    "  \"maroon\", \"orchid1\", \"deeppink1\", \"blue1\", \"steelblue4\",\n",
    "  \"darkturquoise\", \"green1\", \"yellow4\", \"yellow3\",\n",
    "  \"darkorange4\", \"brown\"\n",
    ")"
   ]
  },
  {
   "cell_type": "markdown",
   "id": "f802a9d4-5ec9-42b2-862b-ff4c0342c9f9",
   "metadata": {},
   "source": [
    "<font color=\"green\">Set the default width and height for plots output on this Notebook. You can modify this as you prefer. Note that every plot in this Notebook is followed by code to output it as a file and this code defines width/height separately from the options below.</font>"
   ]
  },
  {
   "cell_type": "code",
   "execution_count": null,
   "id": "a6ae7e93-96f0-4568-af33-9af84563430d",
   "metadata": {},
   "outputs": [],
   "source": [
    "options(repr.plot.width=12, repr.plot.height=8)"
   ]
  },
  {
   "cell_type": "markdown",
   "id": "80d3a5c0-db42-48be-b717-5d8d7df36576",
   "metadata": {},
   "source": [
    "***********************************"
   ]
  },
  {
   "cell_type": "markdown",
   "id": "98ce00ec-709c-4e3b-a061-02824b37ece5",
   "metadata": {},
   "source": [
    "## 6b. Choose samples to aggregate and import data <a class=\"anchor\" id=\"sample2\"></a>"
   ]
  },
  {
   "cell_type": "markdown",
   "id": "0d6e15a7-0bed-44d6-b713-f3eff49927da",
   "metadata": {},
   "source": [
    "**IMPORTANT: As mentioned in the Overview section, you need to have run section 5 at least once for your chosen sample. Section 5 outputs a data file of your clustered, quality filtered cells, that will now be imported below.\n",
    "\n",
    "Running your sample through section 5 created a datafile called 'sample_name_seurat_filtered.rds', so if your sample was called 'liver', the file would be 'liver_seurat_filtered.rds'.\n",
    "\n",
    "These datafiles will be in your working directories. You can see which samples you've run through section 5 (and thus have generated the required output files) by running the `dir()` command below:"
   ]
  },
  {
   "cell_type": "code",
   "execution_count": null,
   "id": "dace1108-d9b2-4836-99f0-63aa6b843288",
   "metadata": {},
   "outputs": [],
   "source": [
    "dir(pattern = \"seurat_filtered.rds\")"
   ]
  },
  {
   "cell_type": "markdown",
   "id": "0f8fc1d0-25b4-44ea-8348-c3bdff8c5bf2",
   "metadata": {},
   "source": [
    "Choose the sample names you wish to work with from the list above (just the names, without the '_seurat_filtered.rds').\n",
    "\n",
    "Add or remove samples as needed to the `samples` object below:"
   ]
  },
  {
   "cell_type": "code",
   "execution_count": null,
   "id": "cdbd4cd1-fa7e-467a-af8d-1a474cf54549",
   "metadata": {},
   "outputs": [],
   "source": [
    "samples <- c(\"Pia\", \"Choroid\")"
   ]
  },
  {
   "cell_type": "markdown",
   "id": "3d784153-0649-487e-b4a5-bc84f5eb3905",
   "metadata": {},
   "source": [
    "Give your aggregate samples a name (for example, \"high_low\"). This is for naming plots and such."
   ]
  },
  {
   "cell_type": "code",
   "execution_count": null,
   "id": "0fac9d55-38c7-4830-a285-31aee06954ff",
   "metadata": {},
   "outputs": [],
   "source": [
    "sample <- \"Pia_Choroid\""
   ]
  },
  {
   "cell_type": "markdown",
   "id": "fdd94a14-1c2b-47c1-9b57-e33bd353a6a5",
   "metadata": {},
   "source": [
    "Now import the data files for those samples."
   ]
  },
  {
   "cell_type": "code",
   "execution_count": null,
   "id": "58fdfa54-32b5-4e6f-a9dd-c33187ff07f9",
   "metadata": {},
   "outputs": [],
   "source": [
    "samplist <- list()\n",
    "for (i in 1:length(samples)){\n",
    "    assign(samples[i], readRDS(paste0(samples[i], \"_seurat_filtered.rds\")))\n",
    "    samplist[[i]] <- get(samples[i])\n",
    "    }"
   ]
  },
  {
   "cell_type": "markdown",
   "id": "0a06a40d-c4b0-474e-890b-039fb388f339",
   "metadata": {},
   "source": [
    "Then merge these datasets (note that this tags your cells with your sample names):"
   ]
  },
  {
   "cell_type": "code",
   "execution_count": null,
   "id": "51b4e23e-6585-4533-9b62-cef6876c890a",
   "metadata": {},
   "outputs": [],
   "source": [
    "data <- merge(samplist[[1]], y = samplist[[2:length(samplist)]], add.cell.ids = samples, project = sample)"
   ]
  },
  {
   "cell_type": "markdown",
   "id": "4f2391af-adf4-4945-8c1c-02a3101202ff",
   "metadata": {},
   "source": [
    "See a summary of your data object (note that 'samples' means cells and 'features' means genes):"
   ]
  },
  {
   "cell_type": "code",
   "execution_count": null,
   "id": "2ac6bf86-6a62-4119-8541-5ea0ae4cb8bb",
   "metadata": {},
   "outputs": [],
   "source": [
    "data"
   ]
  },
  {
   "cell_type": "markdown",
   "id": "be025cfe-2830-4687-893d-dba9605881d4",
   "metadata": {},
   "source": [
    "This should contain the combined number of cells from all your samples. You can see the number of cells in each sample by typing the sample name below."
   ]
  },
  {
   "cell_type": "code",
   "execution_count": null,
   "id": "53c0a3a0-0f07-4340-9bfa-48fdca6e293b",
   "metadata": {},
   "outputs": [],
   "source": [
    "Pia"
   ]
  },
  {
   "cell_type": "markdown",
   "id": "6547a823-5d06-4e03-8ced-ed334258aa26",
   "metadata": {},
   "source": [
    "**********************************"
   ]
  },
  {
   "cell_type": "markdown",
   "id": "712946bf-5d38-4f0c-9777-a04127709e74",
   "metadata": {},
   "source": [
    "## 6c. Processing expression data (dimensionality reduction) <a class=\"anchor\" id=\"dimag\"></a>"
   ]
  },
  {
   "cell_type": "markdown",
   "id": "05aa25e4-e0b8-44c1-b832-1f2e3b9e7f5f",
   "metadata": {},
   "source": [
    "This is essentially a repeat of section 5, so see that section for details. The following steps are required to generate dimensionality reduction analysis (PCA, T-SNE and UMAP) for the aggregate data.\n",
    "\n",
    "**NOTE: this regenerates clustering based on the combined data. Any plots and analysis in this section are therefore based on this, rather than the individual sample clustering. If you wish to compare clustering per sample, you'll need to use the results in section 5, where you analysed each sample separately.**"
   ]
  },
  {
   "cell_type": "code",
   "execution_count": null,
   "id": "c30d1da4-51f5-4ada-bf1b-7966ca0e43a5",
   "metadata": {},
   "outputs": [],
   "source": [
    "# Normalise data\n",
    "data1 <- NormalizeData(data)\n",
    "# Identification of variable features\n",
    "data1 <- FindVariableFeatures(data1, selection.method = \"vst\", nfeatures = nrow(data1))\n",
    "# Scaling the data\n",
    "all.genes <- rownames(data1)\n",
    "data1 <- ScaleData(data1, features = all.genes)\n",
    "# Perform linear dimensional reduction (PCA)\n",
    "data1 <- RunPCA(data1, features = VariableFeatures(object = data1))"
   ]
  },
  {
   "cell_type": "markdown",
   "id": "2c9c9f14-88b7-43bb-a338-22a5e6053b4a",
   "metadata": {},
   "source": [
    "The above normalises and scales the data, finds variable features and does the initial dimensionality reduction. Now we can run t-SNE and UMAP reduction."
   ]
  },
  {
   "cell_type": "code",
   "execution_count": null,
   "id": "67fcc78f-c217-4075-a757-79c8e42e47d9",
   "metadata": {},
   "outputs": [],
   "source": [
    "data1 <- RunUMAP(data1, dims = 1:3, verbose = F)\n",
    "data1 <- RunTSNE(data1, dims = 1:3, verbose = F)"
   ]
  },
  {
   "cell_type": "markdown",
   "id": "9a447fc2-6029-41a2-a92c-3190f3f1c7ff",
   "metadata": {},
   "source": [
    "As in section 5, we can view the top variable genes, but this time for the combined samples. See section 5 for details on modifying the following plot:"
   ]
  },
  {
   "cell_type": "code",
   "execution_count": null,
   "id": "634598ad-f267-4a97-950b-6d74d8c4890a",
   "metadata": {},
   "outputs": [],
   "source": [
    "# Identify the 10 most highly variable genes\n",
    "top_genes <- head(VariableFeatures(data1), 10)\n",
    "# plot variable features with labels\n",
    "p <- VariableFeaturePlot(data1, pt.size = 2, cols = c(\"black\", \"firebrick\"))\n",
    "p <- LabelPoints(plot = p, points = top_genes, repel = TRUE) +\n",
    "theme_bw() +\n",
    "theme(text = element_text(size = 17))\n",
    "p"
   ]
  },
  {
   "cell_type": "markdown",
   "id": "a1c00560-01b1-4fa6-a284-7528871645ec",
   "metadata": {},
   "source": [
    "Export as a 300dpi tiff\n",
    "\n",
    "Note that for every plot you can adjust the width and height as needed (both currently 20cm by default). Generate the plot, view it, then you can re-adjust the width/height as needed."
   ]
  },
  {
   "cell_type": "code",
   "execution_count": null,
   "id": "2d776532-66ff-4837-8a49-aa02e6eb3b85",
   "metadata": {},
   "outputs": [],
   "source": [
    "tiff_exp <- paste0(sample, \"_top_genes.tiff\")\n",
    "ggsave(file = tiff_exp, dpi = 300, compression = \"lzw\", device = \"tiff\", plot = p, width = 20, height = 20, units = \"cm\")"
   ]
  },
  {
   "cell_type": "markdown",
   "id": "dc5640f4-8402-47bc-aad1-ba69b8f2e203",
   "metadata": {},
   "source": [
    "Export as a pdf"
   ]
  },
  {
   "cell_type": "code",
   "execution_count": null,
   "id": "25c29cf7-8996-4cbd-af85-b73757625034",
   "metadata": {},
   "outputs": [],
   "source": [
    "pdf_exp <- paste0(sample, \"_top_genes.pdf\")\n",
    "ggsave(file = pdf_exp, device = \"pdf\", plot = p, width = 20, height = 20, units = \"cm\")"
   ]
  },
  {
   "cell_type": "markdown",
   "id": "39b1b4e6-cfb3-4003-9ac3-4701aa4ece31",
   "metadata": {},
   "source": [
    "Now we can visualise your expression data using all 3 dimensionality reduction methods"
   ]
  },
  {
   "cell_type": "markdown",
   "id": "5cf1d14a-23bd-4a67-b9e2-069e822a9958",
   "metadata": {},
   "source": [
    "******************************************"
   ]
  },
  {
   "cell_type": "markdown",
   "id": "888ebb48-6603-45b6-95a4-dd39f0688b93",
   "metadata": {},
   "source": [
    "## 6d. PCA, UMAP and t-SNE plots (plotting dimenstionality reduction data) <a class=\"anchor\" id=\"dimplotag\"></a>"
   ]
  },
  {
   "cell_type": "markdown",
   "id": "b9c3e781-d211-4de3-a4f8-541e8d963215",
   "metadata": {},
   "source": [
    "### Generate the PCA plot"
   ]
  },
  {
   "cell_type": "code",
   "execution_count": null,
   "id": "8c2ec5c7-8c54-437e-8990-f1d321425388",
   "metadata": {},
   "outputs": [],
   "source": [
    "p <- DimPlot(data1, reduction = \"pca\", group.by = 'orig.ident', pt.size = 2, cols = alpha(c25[1:length(samples)],0.5)) + \n",
    "theme_bw() +\n",
    "theme(axis.title=element_text(size=16), axis.text=element_text(size=14))\n",
    "p"
   ]
  },
  {
   "cell_type": "markdown",
   "id": "d5e09580-3c0c-4c49-b6ff-e93f2ff91ed4",
   "metadata": {},
   "source": [
    "Or split instead?"
   ]
  },
  {
   "cell_type": "code",
   "execution_count": null,
   "id": "3593b107-f98c-4942-9c3f-ab411f090aa4",
   "metadata": {},
   "outputs": [],
   "source": [
    "p <- DimPlot(data1, reduction = \"pca\", split.by = 'orig.ident', group.by = 'orig.ident', pt.size = 2, cols = alpha(c25[1:length(samples)],0.5)) + \n",
    "theme_bw() +\n",
    "theme(axis.title=element_text(size=16), axis.text=element_text(size=14))\n",
    "p"
   ]
  },
  {
   "cell_type": "markdown",
   "id": "d6e62caf-ea43-456a-ab03-11352bbec443",
   "metadata": {},
   "source": [
    "Export as a 300dpi tiff"
   ]
  },
  {
   "cell_type": "code",
   "execution_count": null,
   "id": "da9eb491-7946-4578-811a-d79680dc8984",
   "metadata": {},
   "outputs": [],
   "source": [
    "tiff_exp <- paste0(sample, \"_PCA_pre_filtration.tiff\")\n",
    "ggsave(file = tiff_exp, dpi = 300, compression = \"lzw\", device = \"tiff\", plot = p, width = 20, height = 20, units = \"cm\")"
   ]
  },
  {
   "cell_type": "markdown",
   "id": "8ce5cfea-b2f0-42aa-af6d-73ed1da9bb36",
   "metadata": {},
   "source": [
    "Export as a pdf"
   ]
  },
  {
   "cell_type": "code",
   "execution_count": null,
   "id": "3b342f23-52fd-4fe6-9b15-2845349d4d38",
   "metadata": {},
   "outputs": [],
   "source": [
    "pdf_exp <- paste0(sample, \"_PCA_pre_filtration.pdf\")\n",
    "ggsave(file = pdf_exp, device = \"pdf\", plot = p, width = 20, height = 20, units = \"cm\")"
   ]
  },
  {
   "cell_type": "markdown",
   "id": "bba9a32c-5d18-43c8-b9cb-5da134cbbddc",
   "metadata": {},
   "source": [
    "### Generate the UMAP pplot"
   ]
  },
  {
   "cell_type": "code",
   "execution_count": null,
   "id": "8b03f0b0-86e4-4bd7-a978-950735206301",
   "metadata": {},
   "outputs": [],
   "source": [
    "p <- DimPlot(data1, reduction = \"umap\", group.by = 'orig.ident', pt.size = 2, cols = alpha(c25[1:length(samples)], 0.5)) + \n",
    "theme_bw() +\n",
    "theme(legend.position=\"none\", axis.title=element_text(size=16), axis.text=element_text(size=14))\n",
    "p"
   ]
  },
  {
   "cell_type": "markdown",
   "id": "319bd686-1d7c-4f02-92c3-96b8e88163e5",
   "metadata": {},
   "source": [
    "Export as a 300dpi tiff"
   ]
  },
  {
   "cell_type": "code",
   "execution_count": null,
   "id": "03213e6b-950e-4fa6-8aa8-cec26e4bb1ce",
   "metadata": {},
   "outputs": [],
   "source": [
    "tiff_exp <- paste0(sample, \"_umap_pre_filtration.tiff\")\n",
    "ggsave(file = tiff_exp, dpi = 300, compression = \"lzw\", device = \"tiff\", plot = p, width = 20, height = 20, units = \"cm\")"
   ]
  },
  {
   "cell_type": "markdown",
   "id": "00437a2c-6842-4d41-8a08-bc59ac377f97",
   "metadata": {},
   "source": [
    "Export as a pdf"
   ]
  },
  {
   "cell_type": "code",
   "execution_count": null,
   "id": "64c2a408-e4a2-4cf3-ad4c-a905fff29611",
   "metadata": {},
   "outputs": [],
   "source": [
    "pdf_exp <- paste0(sample, \"_umap_pre_filtration.pdf\")\n",
    "ggsave(file = pdf_exp, device = \"pdf\", plot = p, width = 20, height = 20, units = \"cm\")"
   ]
  },
  {
   "cell_type": "markdown",
   "id": "686e1a3f-6c6e-4c2a-8ebd-16275cd31916",
   "metadata": {},
   "source": [
    "### Generate the tSNE plot"
   ]
  },
  {
   "cell_type": "code",
   "execution_count": null,
   "id": "0e3ba9df-ab07-4ec1-9d9e-bb73279a1142",
   "metadata": {},
   "outputs": [],
   "source": [
    "p <- DimPlot(data1, reduction = \"tsne\", group.by = 'orig.ident', pt.size = 2, cols = alpha(c25[1:length(samples)], 0.5)) + \n",
    "theme_bw() +\n",
    "theme(legend.position=\"none\", axis.title=element_text(size=16), axis.text=element_text(size=14))\n",
    "p"
   ]
  },
  {
   "cell_type": "markdown",
   "id": "c9fe45f7-b1f1-4ecf-be21-70f7dc18ad9c",
   "metadata": {},
   "source": [
    "Export as a 300dpi tiff"
   ]
  },
  {
   "cell_type": "code",
   "execution_count": null,
   "id": "85cd8962-ddb6-42ae-b38f-6e2ff9ab1142",
   "metadata": {},
   "outputs": [],
   "source": [
    "tiff_exp <- paste0(sample, \"_tsne_pre_filtration.tiff\")\n",
    "ggsave(file = tiff_exp, dpi = 300, compression = \"lzw\", device = \"tiff\", plot = p, width = 20, height = 20, units = \"cm\")"
   ]
  },
  {
   "cell_type": "markdown",
   "id": "8fe0d894-d471-4a3c-bf9f-4e8d129a546b",
   "metadata": {},
   "source": [
    "Export as a pdf"
   ]
  },
  {
   "cell_type": "code",
   "execution_count": null,
   "id": "ea5eceb7-6b68-4ca1-b82e-0ff42f134715",
   "metadata": {},
   "outputs": [],
   "source": [
    "pdf_exp <- paste0(sample, \"_tsne_pre_filtration.pdf\")\n",
    "ggsave(file = pdf_exp, device = \"pdf\", plot = p, width = 20, height = 20, units = \"cm\")"
   ]
  },
  {
   "cell_type": "markdown",
   "id": "408601f5-4939-4fba-b080-4bb7c6ac4ce0",
   "metadata": {},
   "source": [
    "*********************************************"
   ]
  },
  {
   "cell_type": "markdown",
   "id": "92f8a204-510b-40ac-aec6-56322caeaae4",
   "metadata": {},
   "source": [
    "## 6e. Visualise gene expression by marker <a class=\"anchor\" id=\"plotag\"></a>"
   ]
  },
  {
   "cell_type": "markdown",
   "id": "90c2dd0d-933d-4760-ba11-b7c96e9330e8",
   "metadata": {},
   "source": [
    "This section allows you to produce a side-by-side visualisation of gene expression for your aggregated samples, for specific genes."
   ]
  },
  {
   "cell_type": "markdown",
   "id": "ae3c2d8e-e191-4961-a96d-e0874cab60c4",
   "metadata": {},
   "source": [
    "### Dimensionality plots"
   ]
  },
  {
   "cell_type": "markdown",
   "id": "ddbe5492-f57a-4fc6-971a-b7ef5296dd9f",
   "metadata": {},
   "source": [
    "Here you can generate PCA, UMAP or t-SNE plots for selected markers, with side-by-side plots for each sample."
   ]
  },
  {
   "cell_type": "markdown",
   "id": "0f4f9aa7-66d4-4966-abac-16799eece856",
   "metadata": {},
   "source": [
    "Enter which markers you want to examine (can be one or many markers): "
   ]
  },
  {
   "cell_type": "code",
   "execution_count": null,
   "id": "48cbd5a8-265b-4ee6-ab84-fb94fc33d662",
   "metadata": {},
   "outputs": [],
   "source": [
    "markers <- c(\"P2ry12\", \"Tmem119\", \"Itgam\")"
   ]
  },
  {
   "cell_type": "markdown",
   "id": "da06ae7d-1c99-4066-b4c3-7badf4f24626",
   "metadata": {},
   "source": [
    "Select which type of plot you want to generate (\"pca\", \"umap\" or \"tsne\"):"
   ]
  },
  {
   "cell_type": "code",
   "execution_count": null,
   "id": "fb62691e-028c-48fd-8651-fc79a2ee9a5b",
   "metadata": {},
   "outputs": [],
   "source": [
    "redplot <- \"pca\""
   ]
  },
  {
   "cell_type": "markdown",
   "id": "39885113-85d5-4196-8ddb-44913c81c222",
   "metadata": {},
   "source": [
    "Then generate the plot."
   ]
  },
  {
   "cell_type": "code",
   "execution_count": null,
   "id": "66bc40b6-c058-4002-b1f6-a4eedb210566",
   "metadata": {},
   "outputs": [],
   "source": [
    "p <- FeaturePlot(data1, features = markers, reduction = redplot, cols = c(\"lightgrey\", \"red\"), split.by = 'orig.ident', pt.size = 1)\n",
    "p"
   ]
  },
  {
   "cell_type": "markdown",
   "id": "0b891331-76ec-43bc-a13e-755304f92d2a",
   "metadata": {},
   "source": [
    "Export as a 300dpi tiff"
   ]
  },
  {
   "cell_type": "code",
   "execution_count": null,
   "id": "89d75ea6-6a50-4ae1-8085-79d4be4c658b",
   "metadata": {},
   "outputs": [],
   "source": [
    "tiff_exp <- paste0(sample, \"_\", redplot, \"_markers_filtered.tiff\")\n",
    "ggsave(file = tiff_exp, dpi = 300, compression = \"lzw\", device = \"tiff\", plot = p, width = 20, height = 20, units = \"cm\")"
   ]
  },
  {
   "cell_type": "markdown",
   "id": "50b590a5-fbb1-4258-91fd-96135fff39c2",
   "metadata": {},
   "source": [
    "Export as a pdf"
   ]
  },
  {
   "cell_type": "code",
   "execution_count": null,
   "id": "773b9020-06f3-4944-9682-a2da8e933cc7",
   "metadata": {},
   "outputs": [],
   "source": [
    "pdf_exp <- paste0(sample, \"_\", redplot, \"_markers_filtered.pdf\")\n",
    "ggsave(file = pdf_exp, device = \"pdf\", plot = p, width = 20, height = 20, units = \"cm\")"
   ]
  },
  {
   "cell_type": "markdown",
   "id": "2c34da8f-b9cf-4049-a956-655f9cc84d74",
   "metadata": {},
   "source": [
    "### Violin plot"
   ]
  },
  {
   "cell_type": "markdown",
   "id": "7de7e051-06b4-4126-91b4-0f857b0c440b",
   "metadata": {},
   "source": [
    "Here you can visualise the relative expression of markers on each cluster. \n",
    "\n",
    "**NOTE: This plot is specifically for comparing 2 samples. This plot may not be informative if you have more than 2 samples in your aggregte dataset**"
   ]
  },
  {
   "cell_type": "markdown",
   "id": "82cc29d7-29eb-4c26-bd17-5acdcdec03bb",
   "metadata": {},
   "source": [
    "Generate the plot:"
   ]
  },
  {
   "cell_type": "code",
   "execution_count": null,
   "id": "d098acef-0f53-419c-bb73-97aaef632aab",
   "metadata": {},
   "outputs": [],
   "source": [
    "VlnPlot(data1, features = markers, split.plot = TRUE, split.by = 'orig.ident', cols = c25[1:length(samples)])"
   ]
  },
  {
   "cell_type": "markdown",
   "id": "af054c71-0863-4cef-aa7d-65d63fd24655",
   "metadata": {},
   "source": [
    "Export as a 300dpi tiff"
   ]
  },
  {
   "cell_type": "code",
   "execution_count": null,
   "id": "efbd173d-59c3-4c42-8fa9-9e8e81ceb59d",
   "metadata": {},
   "outputs": [],
   "source": [
    "tiff_exp <- paste0(sample, \"_markers_violin.tiff\")\n",
    "ggsave(file = tiff_exp, dpi = 300, compression = \"lzw\", device = \"tiff\", plot = p, width = 20, height = 20, units = \"cm\")"
   ]
  },
  {
   "cell_type": "markdown",
   "id": "86653198-4446-4c64-9f85-db911bdf453b",
   "metadata": {},
   "source": [
    "Export as a pdf"
   ]
  },
  {
   "cell_type": "code",
   "execution_count": null,
   "id": "de60a74e-d92f-48f2-91ba-c4c7e032cbe6",
   "metadata": {},
   "outputs": [],
   "source": [
    "pdf_exp <- paste0(sample, \"_markers_violin.pdf\")\n",
    "ggsave(file = pdf_exp, device = \"pdf\", plot = p, width = 20, height = 20, units = \"cm\")"
   ]
  },
  {
   "cell_type": "markdown",
   "id": "bdb09f18-7b4a-46c8-803c-6064543b2e55",
   "metadata": {},
   "source": [
    "### Heatmap"
   ]
  },
  {
   "cell_type": "markdown",
   "id": "f6e2bcea-fbd1-4192-ae63-12462c9b2607",
   "metadata": {},
   "source": [
    "You can also visualise differences in marker expression between samples with a heatmap:"
   ]
  },
  {
   "cell_type": "code",
   "execution_count": null,
   "id": "1451b5cf-2fa4-4554-a8f5-1c122dc216f1",
   "metadata": {},
   "outputs": [],
   "source": [
    "p <- DoHeatmap(data1, features = markers, raster = T, group.by = 'orig.ident') + \n",
    "scale_fill_gradientn(colors = c(\"darkorange\", \"floralwhite\", \"dodgerblue4\")) + \n",
    "theme(text = element_text(size = 16)) + labs(color = \"Dose (mg)\")\n",
    "p"
   ]
  },
  {
   "cell_type": "markdown",
   "id": "c572f287-3096-4276-bc86-e526c5c4f11b",
   "metadata": {},
   "source": [
    "Export as a 300dpi tiff"
   ]
  },
  {
   "cell_type": "code",
   "execution_count": null,
   "id": "211f43cd-0ac7-4f08-9c98-5271017bb415",
   "metadata": {},
   "outputs": [],
   "source": [
    "tiff_exp <- paste0(sample, \"_hmap_markers.tiff\")\n",
    "ggsave(file = tiff_exp, dpi = 300, compression = \"lzw\", device = \"tiff\", plot = p, width = 20, height = 20, units = \"cm\")"
   ]
  },
  {
   "cell_type": "markdown",
   "id": "22c70d02-79fd-4e82-ab77-45d63fa49100",
   "metadata": {},
   "source": [
    "Export as a pdf"
   ]
  },
  {
   "cell_type": "code",
   "execution_count": null,
   "id": "54592776-897b-4b5b-a49a-747f79e01277",
   "metadata": {},
   "outputs": [],
   "source": [
    "pdf_exp <- paste0(sample, \"_hmap_markers.pdf\")\n",
    "ggsave(file = pdf_exp, device = \"pdf\", plot = p, width = 20, height = 20, units = \"cm\")"
   ]
  },
  {
   "cell_type": "markdown",
   "id": "a7f10aa3-0dff-4d19-a180-ed1979bd82c0",
   "metadata": {},
   "source": [
    "**********************************"
   ]
  },
  {
   "cell_type": "markdown",
   "id": "e02d5f32-29a1-49c4-87cc-0f7c7f259351",
   "metadata": {},
   "source": [
    "## 6f. Differential expression between samples <a class=\"anchor\" id=\"deag\"></a>"
   ]
  },
  {
   "cell_type": "markdown",
   "id": "04f73dd4-7895-4e6e-a30e-b3dc789dffd1",
   "metadata": {},
   "source": [
    "In the next section (section 7) we examine differential expression between clusters in individual samples. In this section we examine differential expression between samples."
   ]
  },
  {
   "cell_type": "markdown",
   "id": "a86794da-42f3-4dda-ba34-4f676e26832c",
   "metadata": {},
   "source": [
    "You will need to choose two samples to compare, based on your aggregated dataset. To see which samples you've aggregated:"
   ]
  },
  {
   "cell_type": "code",
   "execution_count": null,
   "id": "55e38605-d6db-4ef3-9707-c635a14214b3",
   "metadata": {},
   "outputs": [],
   "source": [
    "samples"
   ]
  },
  {
   "cell_type": "markdown",
   "id": "06c4e800-a6bf-4f03-93a7-f2d60d340ecd",
   "metadata": {},
   "source": [
    "Now select the first sample (which will be the baseline sample):"
   ]
  },
  {
   "cell_type": "code",
   "execution_count": null,
   "id": "a8495567-e441-41e0-bc8c-5337f44d03d4",
   "metadata": {},
   "outputs": [],
   "source": [
    "desamp1 <- \"Pia\""
   ]
  },
  {
   "cell_type": "markdown",
   "id": "1a33460d-9432-4e10-a8db-853d1ab4f58c",
   "metadata": {},
   "source": [
    "Then select the second (comparison) sample:"
   ]
  },
  {
   "cell_type": "code",
   "execution_count": null,
   "id": "f6eb7455-32a0-48c3-9743-8dca51a11636",
   "metadata": {},
   "outputs": [],
   "source": [
    "desamp2 <- \"Choroid\""
   ]
  },
  {
   "cell_type": "markdown",
   "id": "0d129f68-793d-4211-a868-375b24e28b5d",
   "metadata": {},
   "source": [
    "Then run the Seurat differential expression function:"
   ]
  },
  {
   "cell_type": "code",
   "execution_count": null,
   "id": "0dd53557-5562-49c9-ac7e-26a5f105153d",
   "metadata": {},
   "outputs": [],
   "source": [
    "DE_genes <- FindMarkers(data1, group.by = 'orig.ident', ident.1 = desamp1, ident.2 = desamp2, logfc.threshold = 0.2)"
   ]
  },
  {
   "cell_type": "markdown",
   "id": "ce4694f3-f2b0-42c8-8f03-3126c0b1c194",
   "metadata": {},
   "source": [
    "We can see how many 'differentially expressed' genes this produced by:"
   ]
  },
  {
   "cell_type": "code",
   "execution_count": null,
   "id": "fde85379-e0a9-4a54-aaef-2c6fc7ab78bf",
   "metadata": {},
   "outputs": [],
   "source": [
    "nrow(DE_genes)"
   ]
  },
  {
   "cell_type": "markdown",
   "id": "e92acc58-6b7c-44a1-bb41-19d56302d2c8",
   "metadata": {},
   "source": [
    "Note the `logfc.threshold = 0.2` parameter above. This only tests genes with at least 0.2 log fold difference in expression and speeds up the analysis considerably. But it could also remove some significant DE genes.\n",
    "\n",
    "To test for this, look at the bottom 6 genes (ordered by p value) by running the `tail(DE_genes)` command below. If these genes are all non-significant (i.e. p_val_adj > 0.05) then you have captured all significant genes. If all these genes are significant (p_val_adj < 0.05) then re-run `FindMarkers()` with `logfc.threshold = 0.1`. This will take much longer to run, but should then capture all DE genes (if not, reduce `logfc.threshold = 0`, but will take a very long time to run)."
   ]
  },
  {
   "cell_type": "code",
   "execution_count": null,
   "id": "d76bae03-fb13-4563-b97c-49cb9c0b6250",
   "metadata": {},
   "outputs": [],
   "source": [
    "tail(DE_genes)"
   ]
  },
  {
   "cell_type": "markdown",
   "id": "44f4de74-f4da-41d7-a2bd-db8225fe3b92",
   "metadata": {},
   "source": [
    "You can view the top 20 DE genes by:"
   ]
  },
  {
   "cell_type": "code",
   "execution_count": null,
   "id": "a38d3a0c-aa01-47e9-8e97-3f3e43324222",
   "metadata": {},
   "outputs": [],
   "source": [
    "head(DE_genes, 20)"
   ]
  },
  {
   "cell_type": "markdown",
   "id": "d4f787d0-e64c-4023-a04c-2e93b7a89450",
   "metadata": {},
   "source": [
    "You can extract just the **significantly** differentially expressed genes (adjusted p < 0.05) like so:"
   ]
  },
  {
   "cell_type": "code",
   "execution_count": null,
   "id": "cf7b5fdc-6ed7-4c45-8cd1-8ec4da76b693",
   "metadata": {},
   "outputs": [],
   "source": [
    "DE_genes_sig <- DE_genes[DE_genes$p_val_adj < 0.05, ]"
   ]
  },
  {
   "cell_type": "markdown",
   "id": "2afe10dc-b420-4367-b97b-d4774271d1e3",
   "metadata": {},
   "source": [
    "See how many significantly DE genes there are"
   ]
  },
  {
   "cell_type": "code",
   "execution_count": null,
   "id": "80ea0d0c-56a7-4d59-8179-f439e77bdd60",
   "metadata": {},
   "outputs": [],
   "source": [
    "nrow(DE_genes_sig)"
   ]
  },
  {
   "cell_type": "markdown",
   "id": "fdf484c7-5539-4a89-8de9-0f509c2cf065",
   "metadata": {},
   "source": [
    "You can also extract genes based on log fold change as well. Enter a log fold change threshold here:"
   ]
  },
  {
   "cell_type": "code",
   "execution_count": null,
   "id": "7a10c23f-b732-42c7-8f74-9be483f331ea",
   "metadata": {},
   "outputs": [],
   "source": [
    "lfc_threshold <- 0.3"
   ]
  },
  {
   "cell_type": "markdown",
   "id": "9afc2b22-01ad-4396-811d-59aa4d70e226",
   "metadata": {},
   "source": [
    "Then filter your data by this log fold change threshold."
   ]
  },
  {
   "cell_type": "code",
   "execution_count": null,
   "id": "d5e758c1-d634-4246-b086-b00ea21c86f1",
   "metadata": {},
   "outputs": [],
   "source": [
    "DE_genes_sig_lfc <- DE_genes_sig[DE_genes_sig$avg_log2FC < -lfc_threshold | DE_genes_sig$avg_log2FC > lfc_threshold, ]"
   ]
  },
  {
   "cell_type": "markdown",
   "id": "6212dd8d-dda1-4d1b-8fa0-31e6d74f5446",
   "metadata": {},
   "source": [
    "Then see how many sig DE genes remain after lfc filtration:"
   ]
  },
  {
   "cell_type": "code",
   "execution_count": null,
   "id": "8f5f6877-7827-47a1-8ca3-95b96e047992",
   "metadata": {},
   "outputs": [],
   "source": [
    "nrow(DE_genes_sig_lfc)"
   ]
  },
  {
   "cell_type": "markdown",
   "id": "1bc59071-a225-4dc7-ac8a-43d6a122fec3",
   "metadata": {},
   "source": [
    "**NOTE** You can easily filter out all your results here by using too high a lfc threshold. You can see the maximum log fold change for all DE genes like so:"
   ]
  },
  {
   "cell_type": "code",
   "execution_count": null,
   "id": "16aedaa7-b26b-4c16-a6aa-4bfe4bfde83c",
   "metadata": {},
   "outputs": [],
   "source": [
    "max(DE_genes$avg_log2FC)"
   ]
  },
  {
   "cell_type": "markdown",
   "id": "89bfb2e9-c009-46b6-81bc-a8e4c5ee44c1",
   "metadata": {},
   "source": [
    "And you can view the minimum as well. Use this min/max log fold change information to decide on a suitable log fold change threshold. This can vary greatly, depending on your data."
   ]
  },
  {
   "cell_type": "code",
   "execution_count": null,
   "id": "5a9af913-f0c5-4fd0-b3d4-9a72dee6a6c8",
   "metadata": {},
   "outputs": [],
   "source": [
    "min(DE_genes$avg_log2FC)"
   ]
  },
  {
   "cell_type": "markdown",
   "id": "f801fd63-a48a-4573-940f-1875712f14d5",
   "metadata": {},
   "source": [
    "You can export the DE genes table to your working directory as a csv file (and then view the entire table in Jupyter by double clicking on the csv file):"
   ]
  },
  {
   "cell_type": "code",
   "execution_count": null,
   "id": "719bc137-558d-4003-b569-0021c29f19e3",
   "metadata": {},
   "outputs": [],
   "source": [
    "write.csv(DE_genes_sig_lfc, paste0(\"DE_\", desamp1, \"_vs_\", desamp2, \".csv\"))"
   ]
  },
  {
   "cell_type": "markdown",
   "id": "37cee672-233f-4fae-8362-39fbffb40cda",
   "metadata": {},
   "source": [
    "### Visualising DE results"
   ]
  },
  {
   "cell_type": "markdown",
   "id": "00892b59-4588-4c2b-9b0d-cb77d9847cd6",
   "metadata": {},
   "source": [
    "There are a variety of ways to visualise your DE results. Below are a few examples and more can be added to this workflow as needed."
   ]
  },
  {
   "cell_type": "markdown",
   "id": "3d8db379-74a2-487b-b8dc-4065329821c5",
   "metadata": {},
   "source": [
    "Not all of these methods have the space to plot all DE genes, so we can provide them with a list of DE genes to plot:"
   ]
  },
  {
   "cell_type": "code",
   "execution_count": null,
   "id": "f925cad8-a66e-4481-87ff-9241ec813a56",
   "metadata": {},
   "outputs": [],
   "source": [
    "plotgenes <- rownames(DE_genes_sig)[1:20]"
   ]
  },
  {
   "cell_type": "markdown",
   "id": "69a293a4-f565-4d5f-8365-39601b3faea8",
   "metadata": {},
   "source": [
    "The above pulls out the top 10 most significantly DE genes, by adjusted p value.\n",
    "\n",
    "You can enter selected genes to plot (e.g., choose genes of interest from the table of DE genes), in which case you'd change the above code to a vector of gene IDs, e.g. `plotgenes <- c(\"pDC\", \"Eryth\", \"Mk\", \"DC\")`. You can include as many genes as you like."
   ]
  },
  {
   "cell_type": "markdown",
   "id": "2fd3217b-79a9-4ab8-897e-6ba627a062db",
   "metadata": {},
   "source": [
    "**Scatter plot of individual genes**"
   ]
  },
  {
   "cell_type": "markdown",
   "id": "96b4ad75-8a82-4af9-96aa-2ef8aa21417f",
   "metadata": {},
   "source": [
    "You can select `reduction =` to be either `\"pca\"` for PCA plot, or `\"umap\"` or `\"tsne\"`. You can also change the colours or point sizes."
   ]
  },
  {
   "cell_type": "code",
   "execution_count": null,
   "id": "e482edfe-7535-44f4-b397-07ea448d4611",
   "metadata": {},
   "outputs": [],
   "source": [
    "p <- FeaturePlot(data1, features = plotgenes[1:10], cols = c(\"lightgrey\", \"red\"), reduction = \"pca\", pt.size = 1)\n",
    "p"
   ]
  },
  {
   "cell_type": "markdown",
   "id": "287c97f8-0521-4c15-9250-e45ec1cdd4b6",
   "metadata": {},
   "source": [
    "Export as a 300dpi tiff"
   ]
  },
  {
   "cell_type": "code",
   "execution_count": null,
   "id": "9d851253-922b-4302-a01e-273e432918b9",
   "metadata": {},
   "outputs": [],
   "source": [
    "tiff_exp <- paste0(desamp1, \"_vs_\", desamp2, \"_DE_genes.tiff\")\n",
    "ggsave(file = tiff_exp, dpi = 300, compression = \"lzw\", device = \"tiff\", plot = p, width = 20, height = 20, units = \"cm\")"
   ]
  },
  {
   "cell_type": "markdown",
   "id": "cb3d6b9b-b822-4e36-b66a-86854251a34b",
   "metadata": {},
   "source": [
    "Export as a pdf"
   ]
  },
  {
   "cell_type": "code",
   "execution_count": null,
   "id": "4f18fe11-db5f-4490-ae2c-7a0a1e45ff80",
   "metadata": {},
   "outputs": [],
   "source": [
    "pdf_exp <- paste0(desamp1, \"_vs_\", desamp2, \"_DE_genes.pdf\")\n",
    "ggsave(file = pdf_exp, device = \"pdf\", plot = p, width = 20, height = 20, units = \"cm\")"
   ]
  },
  {
   "cell_type": "markdown",
   "id": "66eb76e4-633a-4f97-8db2-a15f8a775b7f",
   "metadata": {},
   "source": [
    "**Dot plot**"
   ]
  },
  {
   "cell_type": "code",
   "execution_count": null,
   "id": "f689f86c-3145-4681-a0b9-866adabade67",
   "metadata": {},
   "outputs": [],
   "source": [
    "p <- DotPlot(data1, features = plotgenes, group.by = 'orig.ident', dot.scale = 12, cols = c(\"lightgrey\", \"red\")) + RotatedAxis() +\n",
    "ylab(\"Sample\") + xlab(\"Genes\") +\n",
    "theme(text = element_text(size = 18))\n",
    "p"
   ]
  },
  {
   "cell_type": "markdown",
   "id": "710f42af-d52e-403a-bd1c-27855b84f0ba",
   "metadata": {},
   "source": [
    "Export as a 300dpi tiff"
   ]
  },
  {
   "cell_type": "code",
   "execution_count": null,
   "id": "c662213a-bd3b-4be5-9f97-409472a61844",
   "metadata": {},
   "outputs": [],
   "source": [
    "tiff_exp <- paste0(desamp1, \"_vs_\", desamp2, \"_DE_genes_dotplot.tiff\")\n",
    "ggsave(file = tiff_exp, dpi = 300, compression = \"lzw\", device = \"tiff\", plot = p, width = 20, height = 20, units = \"cm\")"
   ]
  },
  {
   "cell_type": "markdown",
   "id": "069190d7-c9ed-4eff-8afc-619f0407bcaa",
   "metadata": {},
   "source": [
    "Export as a pdf"
   ]
  },
  {
   "cell_type": "code",
   "execution_count": null,
   "id": "9ffaf491-190f-44b3-a2ed-d582cb34700d",
   "metadata": {},
   "outputs": [],
   "source": [
    "pdf_exp <- paste0(desamp1, \"_vs_\", desamp2, \"_DE_genes_dotplot.pdf\")\n",
    "ggsave(file = pdf_exp, device = \"pdf\", plot = p, width = 20, height = 20, units = \"cm\")"
   ]
  },
  {
   "cell_type": "markdown",
   "id": "0c1f2a17-c162-4b74-a04a-bdcc14a1d91c",
   "metadata": {},
   "source": [
    "**Violin plots of individual genes**"
   ]
  },
  {
   "cell_type": "code",
   "execution_count": null,
   "id": "51af5445-0060-459c-9189-090709d25389",
   "metadata": {},
   "outputs": [],
   "source": [
    "p <- VlnPlot(data1, features = plotgenes[1:10], split.plot = TRUE, split.by = 'orig.ident', cols = c25, pt.size = 0)\n",
    "p"
   ]
  },
  {
   "cell_type": "markdown",
   "id": "80c5251b-c01a-4080-bceb-c1d7006164e0",
   "metadata": {},
   "source": [
    "Export as a 300dpi tiff"
   ]
  },
  {
   "cell_type": "code",
   "execution_count": null,
   "id": "8e6982c9-a5ba-4d02-8032-249144cda705",
   "metadata": {},
   "outputs": [],
   "source": [
    "tiff_exp <- paste0(desamp1, \"_vs_\", desamp2, \"_DE_genes_violin.tiff\")\n",
    "ggsave(file = tiff_exp, dpi = 300, compression = \"lzw\", device = \"tiff\", plot = p, width = 20, height = 20, units = \"cm\")"
   ]
  },
  {
   "cell_type": "markdown",
   "id": "ca5f250f-269a-4245-9c65-4bea221ec72a",
   "metadata": {},
   "source": [
    "Export as a pdf"
   ]
  },
  {
   "cell_type": "code",
   "execution_count": null,
   "id": "f40ec4d4-0c24-4e3d-8529-726b5b273dbe",
   "metadata": {},
   "outputs": [],
   "source": [
    "pdf_exp <- paste0(desamp1, \"_vs_\", desamp2, \"_DE_genes_violin.pdf\")\n",
    "ggsave(file = pdf_exp, device = \"pdf\", plot = p, width = 20, height = 20, units = \"cm\")"
   ]
  },
  {
   "cell_type": "markdown",
   "id": "6c886f12-630f-4369-91c3-89425c055372",
   "metadata": {},
   "source": [
    "**Heat map**"
   ]
  },
  {
   "cell_type": "code",
   "execution_count": null,
   "id": "29ce4e8b-526a-4cf6-ac8b-4f47e23bff26",
   "metadata": {},
   "outputs": [],
   "source": [
    "p <- DoHeatmap(data1, features = plotgenes, raster = T, group.by = 'orig.ident') + \n",
    "scale_fill_gradientn(colors = c(\"darkorange\", \"floralwhite\", \"dodgerblue4\")) + \n",
    "theme(text = element_text(size = 16))\n",
    "p"
   ]
  },
  {
   "cell_type": "markdown",
   "id": "94228c00-6f3b-4518-b16e-9d764ad29494",
   "metadata": {},
   "source": [
    "Export as a 300dpi tiff"
   ]
  },
  {
   "cell_type": "code",
   "execution_count": null,
   "id": "525c5fd7-fa12-4aea-a0b9-31b3e150d7c1",
   "metadata": {},
   "outputs": [],
   "source": [
    "tiff_exp <- paste0(desamp1, \"_vs_\", desamp2, \"_DE_genes_heatmap.tiff\")\n",
    "ggsave(file = tiff_exp, dpi = 300, compression = \"lzw\", device = \"tiff\", plot = p, width = 20, height = 20, units = \"cm\")"
   ]
  },
  {
   "cell_type": "markdown",
   "id": "0abac472-7e5a-4034-9c4f-b95d30bcbdc1",
   "metadata": {},
   "source": [
    "Export as a pdf"
   ]
  },
  {
   "cell_type": "code",
   "execution_count": null,
   "id": "b273f454-127b-4895-abce-57cbbf567efa",
   "metadata": {},
   "outputs": [],
   "source": [
    "pdf_exp <- paste0(desamp1, \"_vs_\", desamp2, \"_DE_genes_heatmap.pdf\")\n",
    "ggsave(file = pdf_exp, device = \"pdf\", plot = p, width = 20, height = 20, units = \"cm\")"
   ]
  },
  {
   "cell_type": "markdown",
   "id": "935224eb-0717-4f37-beca-9ffe4456f979",
   "metadata": {},
   "source": [
    "[Click here to go to the next section: Differential expression](./scRNASeq_7_DE.ipynb)"
   ]
  },
  {
   "cell_type": "code",
   "execution_count": null,
   "id": "0ead6ddf-13c9-4c36-ab92-40d413d4245d",
   "metadata": {},
   "outputs": [],
   "source": []
  }
 ],
 "metadata": {
  "kernelspec": {
   "display_name": "R",
   "language": "R",
   "name": "ir"
  },
  "language_info": {
   "codemirror_mode": "r",
   "file_extension": ".r",
   "mimetype": "text/x-r-source",
   "name": "R",
   "pygments_lexer": "r",
   "version": "4.1.3"
  }
 },
 "nbformat": 4,
 "nbformat_minor": 5
}
