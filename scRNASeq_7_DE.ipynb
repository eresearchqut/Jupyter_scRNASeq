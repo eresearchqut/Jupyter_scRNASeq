{
 "cells": [
  {
   "cell_type": "markdown",
   "id": "51fbba35-5f72-4b92-b977-36b93c80fd5c",
   "metadata": {},
   "source": [
    "# 7. Differential expression <a class=\"anchor\" id=\"de\"></a>"
   ]
  },
  {
   "cell_type": "markdown",
   "id": "ab508d17-8e8e-419f-8775-17ee548dc42a",
   "metadata": {},
   "source": [
    "### Overview\n",
    "\n",
    "This section of the report contains plots and tables of significantly differentially expressed genes for each cluster, for a selected sample. Significantly DE genes are those with false-discovery adjusted p values of < 0.05.\n",
    "\n",
    "\n",
    "**IMPORTANT: To run this section, you must have processed your sample(s) by completing the '5. Filtering cells and clustering' section. This section removes outliers and non-target cells and identifies clusters. This differential expression analysis uses these filtered cells and cluster information. Section 5 only has to run once for each sample, as it outputs a datafile for each sample that is imported into this section.**"
   ]
  },
  {
   "cell_type": "markdown",
   "id": "24d70ec1-e6d7-4640-a55a-c68404bc46f9",
   "metadata": {},
   "source": [
    "*************************************"
   ]
  },
  {
   "cell_type": "markdown",
   "id": "2dde024a-0f86-448b-9305-c1b8b9955de4",
   "metadata": {},
   "source": [
    "## Contents\n",
    "\n",
    "[7a. Initial setup](#setup)\n",
    "\n",
    "[7b. Choose sample and import data](#sample2)\n",
    "\n",
    "[7c. Explanation of differential expression strategies](#exp)\n",
    "\n",
    "[7d. Differential expression: one cluster vs all cells](#de1)\n",
    "\n",
    "[7e. Differential expression: one cluster vs another cluster](#de2)\n",
    "\n",
    "[7f. Differential expression: every cluster vs all other cells](#de3)"
   ]
  },
  {
   "cell_type": "markdown",
   "id": "5ef808fb-488b-4824-8441-d7703880cb32",
   "metadata": {},
   "source": [
    "**************************"
   ]
  },
  {
   "cell_type": "markdown",
   "id": "1d5c0857-0c2e-450a-b3cb-84105a661e18",
   "metadata": {},
   "source": [
    "## <font color=\"green\">7a. Initial setup</font> <a class=\"anchor\" id=\"setup\"></a>"
   ]
  },
  {
   "cell_type": "markdown",
   "id": "99916f7c-379c-4990-b2bb-e4a9aac578d8",
   "metadata": {},
   "source": [
    "<font color=\"green\">**Each section is designed to be run independently, therefore there is some repeated setup code that needs to be run first. That code is within this subsection, indicated by green text.**</font>"
   ]
  },
  {
   "cell_type": "markdown",
   "id": "59175034-b327-41d9-9b5a-9f996a941647",
   "metadata": {},
   "source": [
    "<font color=\"green\">Choose which dataset you want to work on by clicking on one of the setwd() commands below. This sets the working directory for your dataset of choice.</font>"
   ]
  },
  {
   "cell_type": "code",
   "execution_count": null,
   "id": "051bdcc0-e9aa-4048-9b3d-bbec8feb1ff6",
   "metadata": {},
   "outputs": [],
   "source": [
    "setwd(\"~/Fazeleh/Dataset1/scDATA\")"
   ]
  },
  {
   "cell_type": "code",
   "execution_count": null,
   "id": "ab84c9ff-52a2-4628-8a99-09cff4731661",
   "metadata": {},
   "outputs": [],
   "source": [
    "setwd(\"~/Fazeleh/Dataset2/scDATA\")"
   ]
  },
  {
   "cell_type": "markdown",
   "id": "5f929827-1ddf-4fea-bc4a-f120c2efc64b",
   "metadata": {},
   "source": [
    "<font color=\"green\">Load the R packages required for this section. If packages are already installed they can be used simply by loading them with the `library()` function.</font>"
   ]
  },
  {
   "cell_type": "code",
   "execution_count": null,
   "id": "e12b6412-ad90-4f2c-9406-688956261905",
   "metadata": {
    "tags": []
   },
   "outputs": [],
   "source": [
    "library(ggplot2)\n",
    "library(tidyverse)\n",
    "library(viridis)"
   ]
  },
  {
   "cell_type": "markdown",
   "id": "5772013b-182d-47c5-a89a-2df803bd6db9",
   "metadata": {},
   "source": [
    "<font color=\"green\">Install R packages required for this section. Packages not installed on the server need to be installed first, then loaded with `library()`.</font>\n",
    "\n",
    "<font color=\"green\">Seurat (https://satijalab.org/seurat/) is the main package we will be using in this analysis workflow. Seurat installs multiple dependencies, so you may need to wait a few minutes for installation to complete.</font>"
   ]
  },
  {
   "cell_type": "code",
   "execution_count": null,
   "id": "f10ad24a-ac04-427c-98bd-fa2db0d79c6d",
   "metadata": {},
   "outputs": [],
   "source": [
    "install.packages(\"Seurat\")\n",
    "install.packages(\"patchwork\")\n",
    "library(Seurat)\n",
    "library(patchwork)"
   ]
  },
  {
   "cell_type": "markdown",
   "id": "16713aa0-ecd6-43b1-a49a-c3c0e0711932",
   "metadata": {},
   "source": [
    "<font color=\"green\">Define a set of colours for plotting. Some of these plots have multiple clusters and it's difficult to find enough contrasting colours to visually separate the clusters. I've developed a set of 25 colours that I've found contrast well, that we can use in the plots for this (and other) sections.</font>"
   ]
  },
  {
   "cell_type": "code",
   "execution_count": null,
   "id": "ac0854aa-745d-4d6f-a4d7-52a36b1baf4a",
   "metadata": {},
   "outputs": [],
   "source": [
    "c25 <- c(\n",
    "  \"dodgerblue2\", \"#E31A1C\", # red\n",
    "  \"green4\",\n",
    "  \"#6A3D9A\", # purple\n",
    "  \"#FF7F00\", # orange\n",
    "  \"black\", \"gold1\",\n",
    "  \"skyblue2\", \"#FB9A99\", # lt pink\n",
    "  \"palegreen2\",\n",
    "  \"#CAB2D6\", # lt purple\n",
    "  \"#FDBF6F\", # lt orange\n",
    "  \"gray70\", \"khaki2\",\n",
    "  \"maroon\", \"orchid1\", \"deeppink1\", \"blue1\", \"steelblue4\",\n",
    "  \"darkturquoise\", \"green1\", \"yellow4\", \"yellow3\",\n",
    "  \"darkorange4\", \"brown\"\n",
    ")"
   ]
  },
  {
   "cell_type": "markdown",
   "id": "cac4f794-895f-4eb1-aaa2-f3b4c450a8e4",
   "metadata": {},
   "source": [
    "<font color=\"green\">Set the default width and height for plots output on this Notebook. You can modify this as you prefer. Note that every plot in this Notebook is followed by code to output it as a file and this code defines width/height separately from the options below.</font>"
   ]
  },
  {
   "cell_type": "code",
   "execution_count": null,
   "id": "233f2f21-0562-4996-bf3f-87e1307d0cf5",
   "metadata": {},
   "outputs": [],
   "source": [
    "options(repr.plot.width=12, repr.plot.height=8)"
   ]
  },
  {
   "cell_type": "markdown",
   "id": "83a423d3-a1a5-43e4-b459-7433a3800f14",
   "metadata": {},
   "source": [
    "***********************************"
   ]
  },
  {
   "cell_type": "markdown",
   "id": "096c3ad0-e983-438d-8094-72f94d76e3d2",
   "metadata": {},
   "source": [
    "## 7b. Choose sample and import data <a class=\"anchor\" id=\"sample2\"></a>"
   ]
  },
  {
   "cell_type": "markdown",
   "id": "35722fd5-d329-40c1-908a-41bef5706800",
   "metadata": {},
   "source": [
    "**IMPORTANT: As mentioned in the Overview section, you need to have run section 5 at least once for your chosen sample. Section 5 outputs a data file of your clustered, quality filtered cells, that will now be imported below.\n",
    "\n",
    "Running your sample through section 5 created a datafile called 'sample_name_seurat_filtered.rds', so if your sample was called 'liver', the file would be 'liver_seurat_filtered.rds'.\n",
    "\n",
    "These datafiles will be in your working directories. You can see which samples you've run through section 5 (and thus have generated the required output files) by running the `dir()` command below:"
   ]
  },
  {
   "cell_type": "code",
   "execution_count": null,
   "id": "5f4c442c-63a2-4fe9-8e80-0f6b393a8c29",
   "metadata": {},
   "outputs": [],
   "source": [
    "dir(pattern = \"seurat_filtered.rds\")"
   ]
  },
  {
   "cell_type": "markdown",
   "id": "348681d1-d8cd-4177-8ef3-e9a5bb204a88",
   "metadata": {},
   "source": [
    "Choose the sample name you wish to work with from the list above (just the name, without the '_seurat_filtered.rds'):"
   ]
  },
  {
   "cell_type": "code",
   "execution_count": null,
   "id": "b8a95195-e527-42a1-9a43-86bda931000a",
   "metadata": {},
   "outputs": [],
   "source": [
    "sample <- \"Cerebellum\""
   ]
  },
  {
   "cell_type": "markdown",
   "id": "bba052f7-0a5b-458e-9921-6d4b0f260c55",
   "metadata": {},
   "source": [
    "If you want to analyse a different sample, simply come back to this section, change the sample name, then re-run the following sections."
   ]
  },
  {
   "cell_type": "markdown",
   "id": "7ffe957a-4ccf-4699-a2c6-91755d98ffa1",
   "metadata": {},
   "source": [
    "Now import the data file for that sample:"
   ]
  },
  {
   "cell_type": "code",
   "execution_count": null,
   "id": "6f1e817f-49a8-47a0-b7fe-a0d3f16c2b7d",
   "metadata": {},
   "outputs": [],
   "source": [
    "data <- readRDS(paste0(sample, \"_seurat_filtered.rds\"))"
   ]
  },
  {
   "cell_type": "markdown",
   "id": "3ab2d017-5810-494c-9f4b-97da0e7d4280",
   "metadata": {},
   "source": [
    "See a summary of your data object:"
   ]
  },
  {
   "cell_type": "code",
   "execution_count": null,
   "id": "b22e8f73-a0a9-4744-bba8-0904c5cf9af8",
   "metadata": {},
   "outputs": [],
   "source": [
    "data"
   ]
  },
  {
   "cell_type": "markdown",
   "id": "4b6dab4a-d8ae-4bb5-93ad-734a05a0c898",
   "metadata": {},
   "source": [
    "**********************************"
   ]
  },
  {
   "cell_type": "markdown",
   "id": "4efb7f5a-3836-42d5-803d-f31efedcae87",
   "metadata": {},
   "source": [
    "## 7c. Explanation of differential expression strategies <a class=\"anchor\" id=\"exp\"></a>"
   ]
  },
  {
   "cell_type": "markdown",
   "id": "d0f2ef73-eaf8-4bd9-b2ee-6cd1e05f052c",
   "metadata": {},
   "source": [
    "Bulk RNA-Seq usually examines differentially expressed genes between two treatments or tissues. scRNA-Seq is somewhat different, in that it is based on heterogeneity of gene expression within a group of cells, so typically differential expression is examined between clusters, rather than treatments.\n",
    "\n",
    "Given that there are usually multiple clusters, and differential expression analysis requires a comparison between two groups, there are different strategies used to combine the two group analysis with the multiple cluster analysis. Three strategies included in this workflow include:\n",
    "\n",
    "1) Comparing a single cluster to all other clusters/cells (7d). This enables one to examine how gene expression in a single cluster differs from the entire dataset.\n",
    "\n",
    "2) Comparing one cluster to another cluster (7e). This requires two clusters being initially chosen, then examining how gene expression differs between them. Note that to do every possible combination of cluster comparisons may require running this section many times. E.g. if your sample has 8 clusters, this represents 7+6+5+4+3+2+1 = you would have to run that section 28 times to compare every cluster to every other cluster.\n",
    "\n",
    "3) Doing a batch comparison of each cluster to all other clusters/cells (7f). Seurat has a function (`FindAllMarkers()`) to accomplish this, but this can take some time to run, as multiple clusters are being compared at once, and it also produces a multilevel dataset. This is an alternative to running each cluster one at a time, as in section 7d.\n",
    "\n",
    "**IMPORTANT: the first cluster you choose in each analysis below represents the baseline or control group. Genes are either upregulated (i.e. positive log fold change) or downregulated (-ve lfc) in comparison to this baseline group. This means that any downregulated genes (i.e. negative log fold change) are more highly expressed in this baseline cluster, but any upregulated genes (+ lfc) are more highly expressed in the cluster(s) being compared to this baseline cluster.**"
   ]
  },
  {
   "cell_type": "markdown",
   "id": "1240d6fa-7f90-48ca-b7c6-8339b94e173f",
   "metadata": {},
   "source": [
    "************************************************"
   ]
  },
  {
   "cell_type": "markdown",
   "id": "5e4b6ddc-c30c-4513-8120-a381531300c9",
   "metadata": {},
   "source": [
    "## 7d. Differential expression: one cluster vs all other cells <a class=\"anchor\" id=\"de1\"></a>"
   ]
  },
  {
   "cell_type": "markdown",
   "id": "f383147f-cfac-4afa-a4d9-3ce27f0a0661",
   "metadata": {},
   "source": [
    "In this section you'll select a single cluster, then compare gene expression in this cluster to all other combined clusters. Any upregulated genes (postive log fold change) are more highly expressed in the combined clusters."
   ]
  },
  {
   "cell_type": "markdown",
   "id": "73b28cda-ea7f-481b-9d06-ba68dd96388d",
   "metadata": {},
   "source": [
    "First, we should have a look at the clusters we have to work with:"
   ]
  },
  {
   "cell_type": "code",
   "execution_count": null,
   "id": "b1049e4c-6dc2-4aff-a4ce-df0408c0d7b1",
   "metadata": {},
   "outputs": [],
   "source": [
    "levels(x = data)"
   ]
  },
  {
   "cell_type": "markdown",
   "id": "a20d7efa-182e-45fe-8043-d685715f1f83",
   "metadata": {},
   "source": [
    "You'll need to select one of these clusters as the baseline cluster (`declust <-`). You can re-run the below code with a different baseline cluster if you want to look at other comparisons:"
   ]
  },
  {
   "cell_type": "code",
   "execution_count": null,
   "id": "81e60b16-437b-4b45-a8f1-3a192c06dd99",
   "metadata": {},
   "outputs": [],
   "source": [
    "declust <- 0"
   ]
  },
  {
   "cell_type": "markdown",
   "id": "8349e12a-cd47-4d44-8ddd-09e004d0fd82",
   "metadata": {},
   "source": [
    "Then run the Seurat differential expression function:"
   ]
  },
  {
   "cell_type": "code",
   "execution_count": null,
   "id": "873aa990-c1f4-4930-88c2-3313d93062ae",
   "metadata": {},
   "outputs": [],
   "source": [
    "DE_genes <- FindMarkers(data, ident.1 = declust, logfc.threshold = 0.2)"
   ]
  },
  {
   "cell_type": "markdown",
   "id": "f99e3401-282f-45f3-ab7e-d1c120a66180",
   "metadata": {},
   "source": [
    "We can see how many 'differentially expressed' genes this produced by:"
   ]
  },
  {
   "cell_type": "code",
   "execution_count": null,
   "id": "ca016c9c-8974-460a-ab66-cebc3fe90f65",
   "metadata": {},
   "outputs": [],
   "source": [
    "nrow(DE_genes)"
   ]
  },
  {
   "cell_type": "markdown",
   "id": "920fbfa0-8725-4059-a313-14613687ce21",
   "metadata": {},
   "source": [
    "Note the `logfc.threshold = 0.2` parameter above. This only tests genes with at least 0.2 log fold difference in expression and speeds up the analysis considerably. But it could also remove some significant DE genes.\n",
    "\n",
    "To test for this, look at the bottom 6 genes (ordered by p value) by running the `tail(DE_genes)` command below. If these genes are all non-significant (i.e. p_val_adj > 0.05) then you have captured all significant genes. If all these genes are significant (p_val_adj < 0.05) then re-run `FindMarkers()` with `logfc.threshold = 0.1`. This will take much longer to run, but should then capture all DE genes (if not, reduce `logfc.threshold = 0`, but will take a very long time to run)."
   ]
  },
  {
   "cell_type": "code",
   "execution_count": null,
   "id": "b2f43f05-4f5a-4ebd-a7e4-88cc892707aa",
   "metadata": {},
   "outputs": [],
   "source": [
    "tail(DE_genes)"
   ]
  },
  {
   "cell_type": "markdown",
   "id": "b6a7518e-dd45-4920-a34d-e176f5febd03",
   "metadata": {},
   "source": [
    "You can view the top 20 DE genes by:"
   ]
  },
  {
   "cell_type": "code",
   "execution_count": null,
   "id": "fbcc7489-5ea7-4048-bdc0-6e2cef2a7446",
   "metadata": {},
   "outputs": [],
   "source": [
    "head(DE_genes, 20)"
   ]
  },
  {
   "cell_type": "markdown",
   "id": "cd02b25f-ccd5-496f-a9e1-00eee0855cc7",
   "metadata": {},
   "source": [
    "You can extract just the **significantly** differentially expressed genes (adjusted p < 0.05) like so:"
   ]
  },
  {
   "cell_type": "code",
   "execution_count": null,
   "id": "896fb08f-89fb-4285-bba7-670726ac5300",
   "metadata": {},
   "outputs": [],
   "source": [
    "DE_genes_sig <- DE_genes[DE_genes$p_val_adj < 0.05, ]"
   ]
  },
  {
   "cell_type": "markdown",
   "id": "8d7e6a00-8cfa-4509-b442-098acfc9d664",
   "metadata": {},
   "source": [
    "See how many significantly DE genes there are"
   ]
  },
  {
   "cell_type": "code",
   "execution_count": null,
   "id": "cb720204-249d-4fc4-ad41-cc3416d9cc68",
   "metadata": {},
   "outputs": [],
   "source": [
    "nrow(DE_genes_sig)"
   ]
  },
  {
   "cell_type": "markdown",
   "id": "587c737f-6600-43ae-8db4-d77a56e56461",
   "metadata": {},
   "source": [
    "You can also extract genes based on log fold change as well. Enter a log fold change threshold here:"
   ]
  },
  {
   "cell_type": "code",
   "execution_count": null,
   "id": "7564498c-3c50-4070-95af-0cdea984400f",
   "metadata": {},
   "outputs": [],
   "source": [
    "lfc_threshold <- 0.3"
   ]
  },
  {
   "cell_type": "markdown",
   "id": "0684a0e9-d32a-4fc1-af6c-4ebecac848f7",
   "metadata": {},
   "source": [
    "Then filter your data by this log fold change threshold."
   ]
  },
  {
   "cell_type": "code",
   "execution_count": null,
   "id": "d628f4ff-84c3-4402-a34c-2cad7e231a27",
   "metadata": {},
   "outputs": [],
   "source": [
    "DE_genes_sig_lfc <- DE_genes_sig[DE_genes_sig$avg_log2FC < -lfc_threshold | DE_genes_sig$avg_log2FC > lfc_threshold, ]"
   ]
  },
  {
   "cell_type": "markdown",
   "id": "0bc9f6a9-d9f7-4c55-a1d5-444fa0c325d9",
   "metadata": {},
   "source": [
    "Then see how many sig DE genes remain after lfc filtration:"
   ]
  },
  {
   "cell_type": "code",
   "execution_count": null,
   "id": "ba2109d8-55dc-4c09-8882-09ad2c6c1c1f",
   "metadata": {},
   "outputs": [],
   "source": [
    "nrow(DE_genes_sig_lfc)"
   ]
  },
  {
   "cell_type": "markdown",
   "id": "68d3c800-19e8-4832-9ca2-d208c7fcb3f5",
   "metadata": {},
   "source": [
    "**NOTE** You can easily filter out all your results here by using too high a lfc threshold. You can see the maximum log fold change for all DE genes like so:"
   ]
  },
  {
   "cell_type": "code",
   "execution_count": null,
   "id": "86ebe87b-9374-46ba-a406-5fb2cd00564a",
   "metadata": {},
   "outputs": [],
   "source": [
    "max(DE_genes$avg_log2FC)"
   ]
  },
  {
   "cell_type": "markdown",
   "id": "de4b8230-7cbb-4494-8e2c-ec62d0738ff4",
   "metadata": {},
   "source": [
    "And you can view the minimum as well. Use this min/max log fold change information to decide on a suitable log fold change threshold. This can vary greatly, depending on your data."
   ]
  },
  {
   "cell_type": "code",
   "execution_count": null,
   "id": "37058df7-cbdd-4396-8183-c8a26d6f465d",
   "metadata": {},
   "outputs": [],
   "source": [
    "min(DE_genes$avg_log2FC)"
   ]
  },
  {
   "cell_type": "markdown",
   "id": "c7b22c60-a078-47d3-bae5-8edf0d3f39ca",
   "metadata": {},
   "source": [
    "You can export the DE genes table to your working directory as a csv file (and then view the entire table in Jupyter by double clicking on the csv file):"
   ]
  },
  {
   "cell_type": "code",
   "execution_count": null,
   "id": "a5a809d5-ae8d-41a7-91f9-1ae1adbe09d7",
   "metadata": {},
   "outputs": [],
   "source": [
    "write.csv(DE_genes_sig_lfc, paste0(\"DE_1vsALL_clust_\", declust, \"_\", sample, \".csv\"))"
   ]
  },
  {
   "cell_type": "markdown",
   "id": "3994b9bc-78b4-4bf2-b911-35ce935f85a0",
   "metadata": {},
   "source": [
    "### Visualising DE results"
   ]
  },
  {
   "cell_type": "markdown",
   "id": "847de863-9c69-41d6-8961-020fb1e37664",
   "metadata": {},
   "source": [
    "There are a variety of ways to visualise your DE results. Below are a few examples and more can be added to this workflow as needed."
   ]
  },
  {
   "cell_type": "markdown",
   "id": "4fc6f049-7283-4afe-a9e8-66a3c75d9084",
   "metadata": {},
   "source": [
    "Not all of these methods have the space to plot all DE genes, so we can provide them with a list of DE genes to plot:"
   ]
  },
  {
   "cell_type": "code",
   "execution_count": null,
   "id": "26e1791a-9470-4ae5-b883-28b5deb57f02",
   "metadata": {},
   "outputs": [],
   "source": [
    "plotgenes <- rownames(DE_genes_sig)[1:10]"
   ]
  },
  {
   "cell_type": "markdown",
   "id": "a7e749c0-1421-4c58-a02d-cb9de8b21bd1",
   "metadata": {},
   "source": [
    "The above pulls out the top 10 most significantly DE genes, by adjusted p value.\n",
    "\n",
    "You can enter selected genes to plot (e.g., choose genes of interest from the table of DE genes), in which case you'd change the above code to a vector of gene IDs, e.g. `plotgenes <- c(\"pDC\", \"Eryth\", \"Mk\", \"DC\")`. You can include as many genes as you like."
   ]
  },
  {
   "cell_type": "markdown",
   "id": "8acbccdb-137a-4689-9d21-db713b9cbe5d",
   "metadata": {},
   "source": [
    "**Scatter plot of individual genes**"
   ]
  },
  {
   "cell_type": "markdown",
   "id": "05f83eb7-03b4-4a78-8cb7-9fba88e72fea",
   "metadata": {},
   "source": [
    "You can select `reduction =` to be either `\"pca\"` for PCA plot, or `\"umap\"` or `\"tsne\"`. You can also change the colours or point sizes."
   ]
  },
  {
   "cell_type": "code",
   "execution_count": null,
   "id": "8c8de765-71b0-4d3a-92e6-ca843040c4d1",
   "metadata": {},
   "outputs": [],
   "source": [
    "p <- FeaturePlot(data, features = plotgenes, cols = c(\"lightgrey\", \"red\"), reduction = \"pca\", pt.size = 1)\n",
    "p"
   ]
  },
  {
   "cell_type": "markdown",
   "id": "c6fe6b1d-16e2-4e6b-a125-fb1656fc363a",
   "metadata": {},
   "source": [
    "Export as a 300dpi tiff"
   ]
  },
  {
   "cell_type": "code",
   "execution_count": null,
   "id": "1907a015-b56a-4c2c-8bd2-014fd291005c",
   "metadata": {},
   "outputs": [],
   "source": [
    "tiff_exp <- paste0(sample, \"clust_\", declust, \"_DE_genes.tiff\")\n",
    "ggsave(file = tiff_exp, dpi = 300, compression = \"lzw\", device = \"tiff\", plot = p, width = 20, height = 20, units = \"cm\")"
   ]
  },
  {
   "cell_type": "markdown",
   "id": "f689f84a-da7f-4420-b43b-0480fdd4137b",
   "metadata": {},
   "source": [
    "Export as a pdf"
   ]
  },
  {
   "cell_type": "code",
   "execution_count": null,
   "id": "5eb2df4e-ca8c-40d0-9f1d-adc1b70fa5ee",
   "metadata": {},
   "outputs": [],
   "source": [
    "pdf_exp <- paste0(sample, \"clust_\", declust, \"_DE_genes.pdf\")\n",
    "ggsave(file = pdf_exp, device = \"pdf\", plot = p, width = 20, height = 20, units = \"cm\")"
   ]
  },
  {
   "cell_type": "markdown",
   "id": "130aacd5-9907-4f5c-967b-849c8858c35e",
   "metadata": {},
   "source": [
    "**Dot plot**"
   ]
  },
  {
   "cell_type": "code",
   "execution_count": null,
   "id": "c6110f0b-dda9-454e-b6a3-4d6e57568b02",
   "metadata": {},
   "outputs": [],
   "source": [
    "p <- DotPlot(data, features = plotgenes, dot.scale = 8, cols = c(\"lightgrey\", \"red\")) + RotatedAxis() +\n",
    "ylab(\"Cluster\") + xlab(\"Genes\") +\n",
    "theme(text = element_text(size = 18))\n",
    "p"
   ]
  },
  {
   "cell_type": "markdown",
   "id": "a101021d-be2f-4e29-a9b3-dd7cda3eddaa",
   "metadata": {},
   "source": [
    "Export as a 300dpi tiff"
   ]
  },
  {
   "cell_type": "code",
   "execution_count": null,
   "id": "f68f011b-32ac-4832-8a24-15d22a2e70cf",
   "metadata": {},
   "outputs": [],
   "source": [
    "tiff_exp <- paste0(sample, \"clust_\", declust, \"_DE_genes_dotplot.tiff\")\n",
    "ggsave(file = tiff_exp, dpi = 300, compression = \"lzw\", device = \"tiff\", plot = p, width = 20, height = 20, units = \"cm\")"
   ]
  },
  {
   "cell_type": "markdown",
   "id": "5ab1b2e3-e323-47e7-a1fc-3df169352b13",
   "metadata": {},
   "source": [
    "Export as a pdf"
   ]
  },
  {
   "cell_type": "code",
   "execution_count": null,
   "id": "45d6f02f-7867-4a98-a6b2-74d0d6a80358",
   "metadata": {},
   "outputs": [],
   "source": [
    "pdf_exp <- paste0(sample, \"clust_\", declust, \"_DE_genes_dotplot.pdf\")\n",
    "ggsave(file = pdf_exp, device = \"pdf\", plot = p, width = 20, height = 20, units = \"cm\")"
   ]
  },
  {
   "cell_type": "markdown",
   "id": "693abf7d-0cbd-4fd9-951e-b9f10cc36579",
   "metadata": {},
   "source": [
    "**Violin plots of individual genes**"
   ]
  },
  {
   "cell_type": "code",
   "execution_count": null,
   "id": "21f0a3e4-180f-4927-ba3e-d0e288e06b07",
   "metadata": {},
   "outputs": [],
   "source": [
    "p <- VlnPlot(data, features = plotgenes, cols = c25, pt.size = 0)\n",
    "p"
   ]
  },
  {
   "cell_type": "markdown",
   "id": "02c293c7-6f2d-44dd-82f7-62baac47629f",
   "metadata": {},
   "source": [
    "Export as a 300dpi tiff"
   ]
  },
  {
   "cell_type": "code",
   "execution_count": null,
   "id": "1732afc8-f3a2-41fc-b537-f82232e02bc8",
   "metadata": {},
   "outputs": [],
   "source": [
    "tiff_exp <- paste0(sample, \"clust_\", declust, \"_DE_genes_violin.tiff\")\n",
    "ggsave(file = tiff_exp, dpi = 300, compression = \"lzw\", device = \"tiff\", plot = p, width = 20, height = 20, units = \"cm\")"
   ]
  },
  {
   "cell_type": "markdown",
   "id": "45ef13e9-b755-48e6-8af9-30957ecf7ab8",
   "metadata": {},
   "source": [
    "Export as a pdf"
   ]
  },
  {
   "cell_type": "code",
   "execution_count": null,
   "id": "c700183f-8c1b-4ebe-9a98-eba4f2843a51",
   "metadata": {},
   "outputs": [],
   "source": [
    "pdf_exp <- paste0(sample, \"clust_\", declust, \"_DE_genes_violin.pdf\")\n",
    "ggsave(file = pdf_exp, device = \"pdf\", plot = p, width = 20, height = 20, units = \"cm\")"
   ]
  },
  {
   "cell_type": "markdown",
   "id": "037eec07-02e4-4380-8252-c18af9dead7b",
   "metadata": {},
   "source": [
    "**Heat map**"
   ]
  },
  {
   "cell_type": "code",
   "execution_count": null,
   "id": "4f19256d-43e3-4b85-9aed-f257fbc9d4c2",
   "metadata": {},
   "outputs": [],
   "source": [
    "p <- DoHeatmap(data, features = plotgenes, raster = T) + \n",
    "scale_fill_gradientn(colors = c(\"darkorange\", \"floralwhite\", \"dodgerblue4\")) + \n",
    "theme(text = element_text(size = 16))\n",
    "p"
   ]
  },
  {
   "cell_type": "markdown",
   "id": "4554f19b-f94d-4c9d-96f2-e60625bb973a",
   "metadata": {},
   "source": [
    "Export as a 300dpi tiff"
   ]
  },
  {
   "cell_type": "code",
   "execution_count": null,
   "id": "ff607e46-2ef8-4540-ad05-6d2ac7abd8a9",
   "metadata": {},
   "outputs": [],
   "source": [
    "tiff_exp <- paste0(sample, \"clust_\", declust, \"_DE_genes_heatmap.tiff\")\n",
    "ggsave(file = tiff_exp, dpi = 300, compression = \"lzw\", device = \"tiff\", plot = p, width = 20, height = 20, units = \"cm\")"
   ]
  },
  {
   "cell_type": "markdown",
   "id": "41c002ed-48e4-4b88-abfe-4b39da16905f",
   "metadata": {},
   "source": [
    "Export as a pdf"
   ]
  },
  {
   "cell_type": "code",
   "execution_count": null,
   "id": "e9c5894a-30bd-488a-aaff-8a1d11ab0bdb",
   "metadata": {},
   "outputs": [],
   "source": [
    "pdf_exp <- paste0(sample, \"clust_\", declust, \"_DE_genes_heatmap.pdf\")\n",
    "ggsave(file = pdf_exp, device = \"pdf\", plot = p, width = 20, height = 20, units = \"cm\")"
   ]
  },
  {
   "cell_type": "markdown",
   "id": "6cda5bec-6fc3-4996-9605-1f85b5ba1ea4",
   "metadata": {},
   "source": [
    "You can go back to the start of this section and change `declust <-` to another cluster to examine DE for that cluster. "
   ]
  },
  {
   "cell_type": "markdown",
   "id": "26ce508e-cd98-4549-88cb-af9ec4258fff",
   "metadata": {},
   "source": [
    "************************************************"
   ]
  },
  {
   "cell_type": "markdown",
   "id": "eb913f95-cc92-43e3-bcb3-5d57e79bcefa",
   "metadata": {},
   "source": [
    "## 7e. Differential expression: one cluster vs another cluster <a class=\"anchor\" id=\"de2\"></a>"
   ]
  },
  {
   "cell_type": "markdown",
   "id": "4a25ec08-a1f5-4e4f-8a8a-7517998cd28b",
   "metadata": {},
   "source": [
    "In this section you'll select to clusters to compare. Any upregulated genes (postive log fold change) are more highly expressed in the second cluster."
   ]
  },
  {
   "cell_type": "markdown",
   "id": "f105e2b2-5849-4f9b-8899-7f66b594055d",
   "metadata": {},
   "source": [
    "First, select your baseline cluster:"
   ]
  },
  {
   "cell_type": "code",
   "execution_count": null,
   "id": "3d7692dc-b0ee-4a3a-a18d-ce8d86e0b75f",
   "metadata": {},
   "outputs": [],
   "source": [
    "declust <- 0"
   ]
  },
  {
   "cell_type": "markdown",
   "id": "49cf2c7a-cf5a-4e2a-83db-ff956ffab6e3",
   "metadata": {},
   "source": [
    "Then, the cluster you want to compare it to:"
   ]
  },
  {
   "cell_type": "code",
   "execution_count": null,
   "id": "669f72eb-a6d8-49b5-ab69-db11d2760120",
   "metadata": {},
   "outputs": [],
   "source": [
    "declust2 <- 1"
   ]
  },
  {
   "cell_type": "markdown",
   "id": "e3ae66b3-2035-43a8-8491-d7b17ae7d3db",
   "metadata": {},
   "source": [
    "Then run the Seurat DE function. "
   ]
  },
  {
   "cell_type": "code",
   "execution_count": null,
   "id": "e3966d29-7b15-4e4a-93d9-9b2b3184cea9",
   "metadata": {},
   "outputs": [],
   "source": [
    "DE_genes <- FindMarkers(data, ident.1 = declust, ident.2 = declust2, logfc.threshold = 0.2)"
   ]
  },
  {
   "cell_type": "markdown",
   "id": "98a99f85-9872-414d-afe3-6173eb32b5a3",
   "metadata": {},
   "source": [
    "As in the previous section, you can run `tail(DE_genes)` to see if you need to reduce `logfc.threshold = 0.2` so as to capture all **significantly** DE genes."
   ]
  },
  {
   "cell_type": "code",
   "execution_count": null,
   "id": "daf6a5a6-936e-4b2f-aaab-5a0a44743515",
   "metadata": {},
   "outputs": [],
   "source": [
    "tail(DE_genes)"
   ]
  },
  {
   "cell_type": "markdown",
   "id": "c5ca2302-e139-485d-aa82-1865c5ebc4c2",
   "metadata": {},
   "source": [
    "And again you can filter by p value and log fold change (i.e. change `p_val_adj` and `lfc_threshold` to suitable numbers), count the number of sig DE genes and view the top few."
   ]
  },
  {
   "cell_type": "code",
   "execution_count": null,
   "id": "3f94c6e6-f959-4c53-b41b-352dba8c98c4",
   "metadata": {},
   "outputs": [],
   "source": [
    "DE_genes_sig <- DE_genes[DE_genes$p_val_adj < 0.05, ]\n",
    "lfc_threshold <- 0.\n",
    "DE_genes_sig_lfc <- DE_genes_sig[DE_genes_sig$avg_log2FC < -lfc_threshold | DE_genes_sig$avg_log2FC > lfc_threshold, ]\n",
    "nrow(DE_genes_sig_lfc)\n",
    "head(DE_genes_sig_lfc)"
   ]
  },
  {
   "cell_type": "markdown",
   "id": "3cc724f9-c071-4a65-9468-88b1498d900d",
   "metadata": {},
   "source": [
    "Export the table of DE genes as a csv file:"
   ]
  },
  {
   "cell_type": "code",
   "execution_count": null,
   "id": "aafbb4ab-b337-492f-8624-88a20390c233",
   "metadata": {},
   "outputs": [],
   "source": [
    "write.csv(DE_genes_sig_lfc, paste0(\"DE_1vs1_clust\", declust, \"_vs_clust\", declust2, \"_\", sample, \".csv\"))"
   ]
  },
  {
   "cell_type": "markdown",
   "id": "0f7346ce-e3cd-438b-a9be-31bf15938fed",
   "metadata": {},
   "source": [
    "Pull out the top 10 genes to plot (or change to the range or names of genes you want to plot, as in the previous section.)"
   ]
  },
  {
   "cell_type": "code",
   "execution_count": null,
   "id": "807c6b28-bc82-4248-94b6-854cb17c9b5a",
   "metadata": {},
   "outputs": [],
   "source": [
    "plotgenes <- rownames(DE_genes_sig)[1:10]"
   ]
  },
  {
   "cell_type": "markdown",
   "id": "d1190f9d-ea98-4310-ad9c-8901792a8a0c",
   "metadata": {},
   "source": [
    "Now you can plot these genes."
   ]
  },
  {
   "cell_type": "markdown",
   "id": "5fd160d9-deca-416a-b60f-c9f6a6594daa",
   "metadata": {},
   "source": [
    "**Scatter plot**"
   ]
  },
  {
   "cell_type": "markdown",
   "id": "d43a5d22-1285-48b8-8002-3fa51a6104e5",
   "metadata": {},
   "source": [
    "You can select `reduction =` to be either `\"pca\"` for PCA plot, or `\"umap\"` or `\"tsne\"`. You can also change the colours or point sizes."
   ]
  },
  {
   "cell_type": "code",
   "execution_count": null,
   "id": "2748c3d2-0df4-413f-82cc-383b4bf88333",
   "metadata": {},
   "outputs": [],
   "source": [
    "p <- FeaturePlot(data, features = plotgenes, cols = c(\"red\", \"lightgrey\"), reduction = \"pca\", pt.size = 1)\n",
    "p"
   ]
  },
  {
   "cell_type": "markdown",
   "id": "b964712a-3289-4a92-a9c5-f18bdbaeda7a",
   "metadata": {},
   "source": [
    "Export as a 300dpi tiff"
   ]
  },
  {
   "cell_type": "code",
   "execution_count": null,
   "id": "f680c90a-62be-4a76-99f3-149d6036bcb0",
   "metadata": {},
   "outputs": [],
   "source": [
    "tiff_exp <- paste0(sample, \"clust_\", declust, \"clust_\", declust2, \"_DE_genes.tiff\")\n",
    "ggsave(file = tiff_exp, dpi = 300, compression = \"lzw\", device = \"tiff\", plot = p, width = 20, height = 20, units = \"cm\")"
   ]
  },
  {
   "cell_type": "markdown",
   "id": "7a31438c-c54f-4fe0-a751-b55ce6bb6ea2",
   "metadata": {},
   "source": [
    "Export as a pdf"
   ]
  },
  {
   "cell_type": "code",
   "execution_count": null,
   "id": "58c71319-abca-4329-90b2-1dffe2f69455",
   "metadata": {},
   "outputs": [],
   "source": [
    "pdf_exp <- paste0(sample, \"clust_\", declust, \"clust_\", declust2, \"_DE_genes.pdf\")\n",
    "ggsave(file = pdf_exp, device = \"pdf\", plot = p, width = 20, height = 20, units = \"cm\")"
   ]
  },
  {
   "cell_type": "markdown",
   "id": "010322d7-5922-4922-b41a-f5b1eec415db",
   "metadata": {},
   "source": [
    "**Dot plot**"
   ]
  },
  {
   "cell_type": "code",
   "execution_count": null,
   "id": "f1348a66-1139-409e-bd48-bd12d16c2f99",
   "metadata": {},
   "outputs": [],
   "source": [
    "p <- DotPlot(data, features = plotgenes, dot.scale = 8, cols = c(\"red\", \"lightgrey\")) + RotatedAxis() +\n",
    "ylab(\"Cluster\") + xlab(\"Genes\") +\n",
    "theme(text = element_text(size = 18))\n",
    "p"
   ]
  },
  {
   "cell_type": "markdown",
   "id": "5a307b21-5b22-49a4-ab75-c0fdf186a333",
   "metadata": {},
   "source": [
    "Export as a 300dpi tiff"
   ]
  },
  {
   "cell_type": "code",
   "execution_count": null,
   "id": "c2676171-b36c-4a00-beb8-1a261ab63d1f",
   "metadata": {},
   "outputs": [],
   "source": [
    "tiff_exp <- paste0(sample, \"clust_\", declust, \"clust_\", declust2, \"_DE_genes_dotplot.tiff\")\n",
    "ggsave(file = tiff_exp, dpi = 300, compression = \"lzw\", device = \"tiff\", plot = p, width = 20, height = 20, units = \"cm\")"
   ]
  },
  {
   "cell_type": "markdown",
   "id": "28c130d1-9c7b-4f14-a684-32aa0637756c",
   "metadata": {},
   "source": [
    "Export as a pdf"
   ]
  },
  {
   "cell_type": "code",
   "execution_count": null,
   "id": "f128f336-9b7c-4474-b4fd-72ec86744012",
   "metadata": {},
   "outputs": [],
   "source": [
    "pdf_exp <- paste0(sample, \"clust_\", declust, \"clust_\", declust2, \"_DE_genes_dotplot.pdf\")\n",
    "ggsave(file = pdf_exp, device = \"pdf\", plot = p, width = 20, height = 20, units = \"cm\")"
   ]
  },
  {
   "cell_type": "markdown",
   "id": "d90d2d02-47a1-4325-93b4-97ec8093e452",
   "metadata": {},
   "source": [
    "**Violin plots**"
   ]
  },
  {
   "cell_type": "code",
   "execution_count": null,
   "id": "3bbc101f-3751-450c-bc42-9795252738e4",
   "metadata": {},
   "outputs": [],
   "source": [
    "p <- VlnPlot(data, features = plotgenes, cols = c25, pt.size = 0)\n",
    "p"
   ]
  },
  {
   "cell_type": "markdown",
   "id": "d0e225ee-62f5-4d84-a34c-b702430b9831",
   "metadata": {},
   "source": [
    "Export as a 300dpi tiff"
   ]
  },
  {
   "cell_type": "code",
   "execution_count": null,
   "id": "cbdc0ad7-1e20-4820-80d0-851d25c5de68",
   "metadata": {},
   "outputs": [],
   "source": [
    "tiff_exp <- paste0(sample, \"clust_\", declust, \"clust_\", declust2, \"_DE_genes_violin.tiff\")\n",
    "ggsave(file = tiff_exp, dpi = 300, compression = \"lzw\", device = \"tiff\", plot = p, width = 20, height = 20, units = \"cm\")"
   ]
  },
  {
   "cell_type": "markdown",
   "id": "a8a0ff6b-f3c0-49bb-83ea-2df2de3b5eac",
   "metadata": {},
   "source": [
    "Export as a pdf"
   ]
  },
  {
   "cell_type": "code",
   "execution_count": null,
   "id": "11c36415-3f07-4045-9417-6d0795c6fd86",
   "metadata": {},
   "outputs": [],
   "source": [
    "pdf_exp <- paste0(sample, \"clust_\", declust, \"clust_\", declust2, \"_DE_genes_violin.pdf\")\n",
    "ggsave(file = pdf_exp, device = \"pdf\", plot = p, width = 20, height = 20, units = \"cm\")"
   ]
  },
  {
   "cell_type": "markdown",
   "id": "8d82dbae-e023-4abd-b0ac-5726a71c25f6",
   "metadata": {},
   "source": [
    "**Heat map**"
   ]
  },
  {
   "cell_type": "code",
   "execution_count": null,
   "id": "f7766d58-c1bb-4600-96fb-171a16d4098d",
   "metadata": {},
   "outputs": [],
   "source": [
    "p <- DoHeatmap(data, features = plotgenes, raster = T) + \n",
    "scale_fill_gradientn(colors = c(\"darkorange\", \"floralwhite\", \"dodgerblue4\")) + \n",
    "theme(text = element_text(size = 16))\n",
    "p"
   ]
  },
  {
   "cell_type": "markdown",
   "id": "f62b59f5-82dd-4bde-a58d-9bacbf8300b2",
   "metadata": {},
   "source": [
    "Export as a 300dpi tiff"
   ]
  },
  {
   "cell_type": "code",
   "execution_count": null,
   "id": "d43957e8-d1fa-4b01-ad83-4201754744a8",
   "metadata": {},
   "outputs": [],
   "source": [
    "tiff_exp <- paste0(sample, \"clust_\", declust, \"clust_\", declust2, \"_DE_genes_heatmap.tiff\")\n",
    "ggsave(file = tiff_exp, dpi = 300, compression = \"lzw\", device = \"tiff\", plot = p, width = 20, height = 20, units = \"cm\")"
   ]
  },
  {
   "cell_type": "markdown",
   "id": "94088dcb-83cb-4bd6-bcc0-9f7902cd051d",
   "metadata": {},
   "source": [
    "Export as a pdf"
   ]
  },
  {
   "cell_type": "code",
   "execution_count": null,
   "id": "d49ee38f-e788-4377-9f56-b1c00bf1f1f5",
   "metadata": {},
   "outputs": [],
   "source": [
    "pdf_exp <- paste0(sample, \"clust_\", declust, \"clust_\", declust2, \"_DE_genes_heatmap.pdf\")\n",
    "ggsave(file = pdf_exp, device = \"pdf\", plot = p, width = 20, height = 20, units = \"cm\")"
   ]
  },
  {
   "cell_type": "markdown",
   "id": "38acbac0-002c-46eb-8cf1-ad4304c687ad",
   "metadata": {},
   "source": [
    "You can go back to the start of this section and change `declust <-` to another cluster to examine DE for that cluster. "
   ]
  },
  {
   "cell_type": "markdown",
   "id": "b6fd24c6-b5c5-4808-862f-d92b28b785df",
   "metadata": {},
   "source": [
    "********************************"
   ]
  },
  {
   "cell_type": "markdown",
   "id": "122d1a9b-9a8d-47c9-836f-62206ec6f006",
   "metadata": {},
   "source": [
    "## 7f. Differential expression: every cluster vs all other cells  <a class=\"anchor\" id=\"de3\"></a>"
   ]
  },
  {
   "cell_type": "markdown",
   "id": "4da8a3e9-5073-48f5-bf5b-a73355506175",
   "metadata": {},
   "source": [
    "In section 7d we can compare a chosen cluster to all other clusters/cells. In this section we can automate this somewhat and do this for every cluster at the same time."
   ]
  },
  {
   "cell_type": "markdown",
   "id": "d0b76524-2099-44fb-9f18-208b9cb516ef",
   "metadata": {},
   "source": [
    "Unlike the other DE section, you don't need to choose any clusters to compare, just run the Seurat function:"
   ]
  },
  {
   "cell_type": "code",
   "execution_count": null,
   "id": "8ea07d8d-b77e-4719-815f-345b5dc295c8",
   "metadata": {},
   "outputs": [],
   "source": [
    "DE_genes <- FindAllMarkers(data, logfc.threshold = 0.2)"
   ]
  },
  {
   "cell_type": "markdown",
   "id": "040b8dba-ebc0-428a-a435-0f6c2c8fba39",
   "metadata": {},
   "source": [
    "As with the previous sections, use `tail()` to see if you've captured all sig DE genes:"
   ]
  },
  {
   "cell_type": "code",
   "execution_count": null,
   "id": "86f5a26e-a9d7-4d09-b712-e876a53de426",
   "metadata": {},
   "outputs": [],
   "source": [
    "tail(DE_genes[order(DE_genes$p_val_adj, decreasing = F),])"
   ]
  },
  {
   "cell_type": "markdown",
   "id": "b1ef118d-d52b-4609-9515-7524bfe34562",
   "metadata": {},
   "source": [
    "Now filter by adjusted p and lfc (enter your own parameters), then re-order by cluster:"
   ]
  },
  {
   "cell_type": "code",
   "execution_count": null,
   "id": "34ca38fa-921f-4c73-9a34-1442214ecf00",
   "metadata": {},
   "outputs": [],
   "source": [
    "DE_genes_sig <- DE_genes[DE_genes$p_val_adj < 0.05, ]\n",
    "DE_genes_sig <- DE_genes_sig[order(DE_genes_sig$cluster),]\n",
    "lfc_threshold <- 0.3\n",
    "DE_genes_sig_lfc <- DE_genes_sig[DE_genes_sig$avg_log2FC < -lfc_threshold | DE_genes_sig$avg_log2FC > lfc_threshold, ]"
   ]
  },
  {
   "cell_type": "markdown",
   "id": "8b620a1c-2e5f-44ce-8d3c-c9ab622acdde",
   "metadata": {},
   "source": [
    "You can see how many DE genes per cluster were found:"
   ]
  },
  {
   "cell_type": "code",
   "execution_count": null,
   "id": "8d49493d-cd49-459d-bafd-2a1d8733b23c",
   "metadata": {},
   "outputs": [],
   "source": [
    "summary(DE_genes_sig_lfc$cluster)"
   ]
  },
  {
   "cell_type": "markdown",
   "id": "51b7be7e-a0ea-4e56-8e50-384e26b6f33c",
   "metadata": {},
   "source": [
    "Then export this table of DE genes per cluster as a csv file:"
   ]
  },
  {
   "cell_type": "code",
   "execution_count": null,
   "id": "acd07377-dcce-41cb-babd-4f6517d0441d",
   "metadata": {},
   "outputs": [],
   "source": [
    "write.csv(DE_genes_sig, paste0(\"DE_eachclustVSall_\", sample, \".csv\"))"
   ]
  },
  {
   "cell_type": "code",
   "execution_count": null,
   "id": "9b825e7a-2fb0-4ca5-b011-6f0024789b11",
   "metadata": {},
   "outputs": [],
   "source": []
  }
 ],
 "metadata": {
  "kernelspec": {
   "display_name": "R",
   "language": "R",
   "name": "ir"
  },
  "language_info": {
   "codemirror_mode": "r",
   "file_extension": ".r",
   "mimetype": "text/x-r-source",
   "name": "R",
   "pygments_lexer": "r",
   "version": "4.1.3"
  }
 },
 "nbformat": 4,
 "nbformat_minor": 5
}
