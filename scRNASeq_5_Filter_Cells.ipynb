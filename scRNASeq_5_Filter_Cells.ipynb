{
 "cells": [
  {
   "cell_type": "markdown",
   "id": "d412cc45-b0ed-4f96-8b8e-f95592d9a5d7",
   "metadata": {},
   "source": [
    "# 5. Filtering cells and clustering <a class=\"anchor\" id=\"validate\"></a>\n"
   ]
  },
  {
   "cell_type": "markdown",
   "id": "d2212c51-5abd-406a-a0a1-6568daf7ba7e",
   "metadata": {},
   "source": [
    "### Overview\n",
    "\n",
    "One of the key values of scRNA-Seq is it enables an examination of heterogeneity and complexity among homogeneous cell populations. To accomplish this individual cells of a specific type or types need to be isolated. There are a variety of laboratory techniques used to achieve this (which are beyond the scope of this report) but, though many techniques are highly accurate, none are completely accurate. Thus in any scRNA-Seq sample there are a small number of non-target cells, which can confound the results. In this section we examine gene expression in each cell for markers that are expression-specific to that cell type."
   ]
  },
  {
   "cell_type": "markdown",
   "id": "0b3689c9-dd85-44d1-b023-25dc707c112e",
   "metadata": {},
   "source": [
    "*************************************"
   ]
  },
  {
   "cell_type": "markdown",
   "id": "7897f6e1-4c04-4d1c-82b3-e55d23f9740e",
   "metadata": {},
   "source": [
    "## Contents\n",
    "\n",
    "[5a. Initial setup](#setup)\n",
    "\n",
    "[5b. Choose sample you want to analyse](#sample)\n",
    "\n",
    "[5c. Import data](#import)\n",
    "\n",
    "[5d. Identify markers in cells](#identify)\n",
    "\n",
    "[5e. Processing expression data (dimensionality reduction)](#dim)\n",
    "\n",
    "[5f. PCA, UMAP and t-SNE plots (plotting dimenstionality reduction data)](#dimplot)\n",
    "\n",
    "[5g. Remove low quality or outlier cells](#outlier)\n",
    "\n",
    "[5h. Visualise gene expression by marker](#plot)\n",
    "\n",
    "[5i. Remove non-target cells](#remove)\n",
    "\n",
    "[5j. Clustering by gene expression](#befaft)\n",
    "\n",
    "[5k. Plot marker expression before and after filtration](#mfilt)\n",
    "\n",
    "[5k. Output filtered results](#output)"
   ]
  },
  {
   "cell_type": "markdown",
   "id": "2f0ae359-10ba-477f-a414-c664fc19aeaf",
   "metadata": {},
   "source": [
    "**************************"
   ]
  },
  {
   "cell_type": "markdown",
   "id": "1a2f7cb8-1f25-4315-85f7-c7ff7302fe58",
   "metadata": {},
   "source": [
    "## <font color=\"green\">5a. Initial setup</font> <a class=\"anchor\" id=\"setup\"></a>"
   ]
  },
  {
   "cell_type": "markdown",
   "id": "3738615a-4951-4290-bfee-a637560ff236",
   "metadata": {},
   "source": [
    "<font color=\"green\">**Each section is designed to be run independently, therefore there is some repeated setup code that needs to be run first. That code is within this subsection, indicated by green text.**</font>"
   ]
  },
  {
   "cell_type": "markdown",
   "id": "1d34fca7-6364-4ffd-a2fa-275174e8fbe0",
   "metadata": {},
   "source": [
    "<font color=\"green\">Choose which dataset you want to work on by clicking on one of the setwd() commands below. This sets the working directory for your dataset of choice.</font>"
   ]
  },
  {
   "cell_type": "code",
   "execution_count": null,
   "id": "3419910b-eeeb-4b2d-8040-13bde4fca19b",
   "metadata": {},
   "outputs": [],
   "source": [
    "setwd(\"~/Fazeleh/Dataset1/scDATA\")"
   ]
  },
  {
   "cell_type": "code",
   "execution_count": null,
   "id": "c4ae388c-6d38-4127-9849-f31541739571",
   "metadata": {},
   "outputs": [],
   "source": [
    "setwd(\"~/Fazeleh/Dataset2/scDATA\")"
   ]
  },
  {
   "cell_type": "markdown",
   "id": "892e5077-812a-4817-89cc-fe50b6f84341",
   "metadata": {},
   "source": [
    "<font color=\"green\">Load the R packages required for this section. If packages are already installed they can be used simply by loading them with the `library()` function.</font>"
   ]
  },
  {
   "cell_type": "code",
   "execution_count": null,
   "id": "8bdd4fd3-03cf-49af-81dc-7742fdaceb24",
   "metadata": {
    "tags": []
   },
   "outputs": [],
   "source": [
    "library(ggplot2)\n",
    "library(tidyverse)\n",
    "library(viridis)"
   ]
  },
  {
   "cell_type": "markdown",
   "id": "4327911d-25e5-4ada-9643-c4b8fdb74087",
   "metadata": {},
   "source": [
    "<font color=\"green\">Install R packages required for this section. Packages not installed on the server need to be installed first, then loaded with `library()`.</font>\n",
    "\n",
    "<font color=\"green\">Seurat (https://satijalab.org/seurat/) is the main package we will be using in this analysis workflow. Seurat installs multiple dependencies, so you may need to wait a few minutes for installation to complete.</font>"
   ]
  },
  {
   "cell_type": "code",
   "execution_count": null,
   "id": "a6b4cc01-f9d6-44b0-9001-87702a18c8fd",
   "metadata": {},
   "outputs": [],
   "source": [
    "install.packages(\"Seurat\")\n",
    "install.packages(\"patchwork\")\n",
    "library(Seurat)\n",
    "library(patchwork)"
   ]
  },
  {
   "cell_type": "markdown",
   "id": "809209e8-bf80-4aab-a2a3-8217573a7c81",
   "metadata": {},
   "source": [
    "<font color=\"green\">Define a set of colours for plotting. Some of these plots have multiple clusters and it's difficult to find enough contrasting colours to visually separate the clusters. I've developed a set of 25 colours that I've found contrast well, that we can use in the plots for this (and other) sections.</font>"
   ]
  },
  {
   "cell_type": "code",
   "execution_count": null,
   "id": "fad65e02-c157-498b-a804-fb25ba479e71",
   "metadata": {},
   "outputs": [],
   "source": [
    "c25 <- c(\n",
    "  \"dodgerblue2\", \"#E31A1C\", # red\n",
    "  \"green4\",\n",
    "  \"#6A3D9A\", # purple\n",
    "  \"#FF7F00\", # orange\n",
    "  \"black\", \"gold1\",\n",
    "  \"skyblue2\", \"#FB9A99\", # lt pink\n",
    "  \"palegreen2\",\n",
    "  \"#CAB2D6\", # lt purple\n",
    "  \"#FDBF6F\", # lt orange\n",
    "  \"gray70\", \"khaki2\",\n",
    "  \"maroon\", \"orchid1\", \"deeppink1\", \"blue1\", \"steelblue4\",\n",
    "  \"darkturquoise\", \"green1\", \"yellow4\", \"yellow3\",\n",
    "  \"darkorange4\", \"brown\"\n",
    ")"
   ]
  },
  {
   "cell_type": "markdown",
   "id": "03bd98f7-1859-4b0e-b60b-140e9f5fbdd9",
   "metadata": {},
   "source": [
    "<font color=\"green\">Set the default width and height for plots output on this Notebook. You can modify this as you prefer. Note that every plot in this Notebook is followed by code to output it as a file and this code defines width/height separately from the options below.</font>"
   ]
  },
  {
   "cell_type": "code",
   "execution_count": null,
   "id": "47828c33-fab5-4ee8-9b03-ea56f50f7a55",
   "metadata": {},
   "outputs": [],
   "source": [
    "options(repr.plot.width=12, repr.plot.height=8)"
   ]
  },
  {
   "cell_type": "markdown",
   "id": "04e771f2-eb4f-4adc-bb26-5f9b897164b0",
   "metadata": {},
   "source": [
    "***********************************"
   ]
  },
  {
   "cell_type": "markdown",
   "id": "83b28dfa-3fc4-49f9-99b8-1d614405b5e2",
   "metadata": {},
   "source": [
    "## 5b. Choose sample you want to analyse <a class=\"anchor\" id=\"sample\"></a>"
   ]
  },
  {
   "cell_type": "markdown",
   "id": "dc092cca-c812-4b04-81cf-d3e12aecc770",
   "metadata": {},
   "source": [
    "Each sample needs to be analysed separately, so the first thing you need to do is choose the sample you want to analyse.\n",
    "\n",
    "Each subdirectory in your working directory (which you set in the initial setup section) should be a sample name. View the subdirectories using the list.dirs() function."
   ]
  },
  {
   "cell_type": "code",
   "execution_count": null,
   "id": "2c57b7b1-d135-4e89-9b3b-01a24b25b37a",
   "metadata": {
    "tags": []
   },
   "outputs": [],
   "source": [
    "list.dirs(full.names = F, recursive = F)"
   ]
  },
  {
   "cell_type": "markdown",
   "id": "e01363e5-6de5-4b01-a895-d7d9ba27b0fe",
   "metadata": {},
   "source": [
    "Enter one of the directory names (i.e. sample name). **NOTE: R is case sensitive. The sample name entered below must exactly match the directory name.**"
   ]
  },
  {
   "cell_type": "code",
   "execution_count": null,
   "id": "00d1813a-7aef-4ec0-a7ed-0be271977cef",
   "metadata": {},
   "outputs": [],
   "source": [
    "sample <- \"Choroid\""
   ]
  },
  {
   "cell_type": "markdown",
   "id": "3c85ac82-5692-43c6-b973-0ee37f276e48",
   "metadata": {},
   "source": [
    "If you want to analyse a different sample, simply come back to this section, change the sample name, then re-run the following sections."
   ]
  },
  {
   "cell_type": "markdown",
   "id": "7d8d4a73-74be-4324-855d-49e9226454a7",
   "metadata": {},
   "source": [
    "**************************"
   ]
  },
  {
   "cell_type": "markdown",
   "id": "3248856a-31db-4bc6-94d2-cdc3859f3b7e",
   "metadata": {},
   "source": [
    "## 5c. Import data <a class=\"anchor\" id=\"import\"></a>"
   ]
  },
  {
   "cell_type": "markdown",
   "id": "16ad322d-ce0d-4077-9134-ef817c8187ad",
   "metadata": {},
   "source": [
    "First we need to import a count table of reads per gene per cell."
   ]
  },
  {
   "cell_type": "markdown",
   "id": "660a4993-e329-4ecc-a394-384c46912989",
   "metadata": {},
   "source": [
    "Cell Ranger outputs 3 main database files, that we need to combine into a single Seurat database object. Most downstream analysis is completed on this object. These database files are the cell IDs (barcodes.tsv.gz) the gene IDs (features.tsv.gz) and the table of read counts per gene, per cell (matrix.mtx.gz). These files are found in the `/<sample_name>/outs/filtered_feature_bc_matrix` Cell Ranger output directory."
   ]
  },
  {
   "cell_type": "code",
   "execution_count": null,
   "id": "da4573e0-082c-478c-923b-c3f7744090b2",
   "metadata": {},
   "outputs": [],
   "source": [
    "# Import barcodes, count matrix and genomic features files\n",
    "mat <- Read10X(data.dir = sample)"
   ]
  },
  {
   "cell_type": "markdown",
   "id": "a2502908-a973-42cf-b74f-2be314255b16",
   "metadata": {},
   "source": [
    "If you look at the top few rows and columns you should see gene IDs as rows and barcodes (i.e. cells) as columns"
   ]
  },
  {
   "cell_type": "code",
   "execution_count": null,
   "id": "d26d487f-73ad-49b7-a012-1a989d9a2047",
   "metadata": {},
   "outputs": [],
   "source": [
    "as.matrix(mat[1:10, 1:10])"
   ]
  },
  {
   "cell_type": "markdown",
   "id": "7b8255de-a0a3-4bb9-b61e-f98467220f82",
   "metadata": {},
   "source": [
    "Now convert this to a Seurat object. This is required to apply the various Seurat functions to the dataset"
   ]
  },
  {
   "cell_type": "code",
   "execution_count": null,
   "id": "2983e0b5-3d18-446d-b9ae-b84e5df9d05c",
   "metadata": {},
   "outputs": [],
   "source": [
    "mat2 <- CreateSeuratObject(counts = mat, project = sample)"
   ]
  },
  {
   "cell_type": "markdown",
   "id": "c46ac6c8-b032-4169-bf36-a036f7941cb6",
   "metadata": {},
   "source": [
    "You can see a summary of the data by simply running the Seurat object name."
   ]
  },
  {
   "cell_type": "code",
   "execution_count": null,
   "id": "419b8fd0-a6c6-4989-9c9c-172b37ab674b",
   "metadata": {},
   "outputs": [],
   "source": [
    "mat2"
   ]
  },
  {
   "cell_type": "markdown",
   "id": "9c73064a-55d2-4a20-beca-91bf721d79aa",
   "metadata": {},
   "source": [
    "*********************************"
   ]
  },
  {
   "cell_type": "markdown",
   "id": "99c99146-dbd7-4b71-8311-b9a4570e4dd7",
   "metadata": {},
   "source": [
    "## 5d. Identify markers in cells <a class=\"anchor\" id=\"identify\"></a>"
   ]
  },
  {
   "cell_type": "markdown",
   "id": "034affda-9bb2-44c2-96fa-aa90f3efa612",
   "metadata": {},
   "source": [
    "Now we're going to identify some markers in the matrix we created in the previous section."
   ]
  },
  {
   "cell_type": "markdown",
   "id": "939d25bc-ea53-48d8-854d-e6d591803963",
   "metadata": {},
   "source": [
    "Create a [vector](https://www.datamentor.io/r-programming/vector/) called 'markers' that contains each of the markers you want to examine. These should be gene symbols. Replace the gene symbols below with your target markers."
   ]
  },
  {
   "cell_type": "code",
   "execution_count": null,
   "id": "3e8bdf2f-bcfc-4307-aae0-ea6244f6b13f",
   "metadata": {},
   "outputs": [],
   "source": [
    "markers <- c(\"P2ry12\", \"Tmem119\", \"Itgam\")"
   ]
  },
  {
   "cell_type": "markdown",
   "id": "70b89318-2bc2-427a-87a0-ab829ea18428",
   "metadata": {},
   "source": [
    "**IMPORTANT: Note that the gene symbols have to exactly match the gene symbols in your dataset (including capitalisation)**. Gene symbols are more like 'common names' and can vary between databases. Your main gene identifiers are Ensembl IDs and we need to find the gene symbols that match these Ensembl IDs. For example, P2ry12 is also called ADPG-R, BDPLT8, HORK3 and various other gene symbols, depending on the database it's listed in. In the Ensemble database it's listed as P2ry12 (not P2RY12, remember, case matters) and matches Ensembl ID ENSMUSG00000036353."
   ]
  },
  {
   "cell_type": "markdown",
   "id": "b3413eef-0431-4328-94a9-2f089c549d82",
   "metadata": {},
   "source": [
    "For this reason it's advisable to first search the Ensembl website for your markers of interest and for your organism, to ensure you are providing gene symbols that match the Ensembl IDs. https://asia.ensembl.org/Mus_musculus/Info/Index"
   ]
  },
  {
   "cell_type": "markdown",
   "id": "5c9ded86-20ad-46c2-8cb4-39aa792feae7",
   "metadata": {},
   "source": [
    "Searching the above Ensembl website for P2ry12 will provide the following result, confirming the gene symbol: https://asia.ensembl.org/Mus_musculus/Gene/Summary?db=core;g=ENSMUSG00000036353;r=3:59123693-59170292"
   ]
  },
  {
   "cell_type": "markdown",
   "id": "4265f0a6-8931-4219-812d-f646cf7ad325",
   "metadata": {},
   "source": [
    "Alternatively, you can search the list of gene symbols found in your dataset, which are in the '*sample*/analysis/diffexp/graphclust/differential_expression.csv' file, under the 'Feature name' column."
   ]
  },
  {
   "cell_type": "markdown",
   "id": "02bbe057-3a2b-48e1-aec1-5f8b358b2477",
   "metadata": {},
   "source": [
    "Now back to the analysis.."
   ]
  },
  {
   "cell_type": "markdown",
   "id": "830d07f1-5646-41cb-be97-2a9666ec971a",
   "metadata": {},
   "source": [
    "You can see if your markers are present:"
   ]
  },
  {
   "cell_type": "code",
   "execution_count": null,
   "id": "b0fcb114-f7b4-4040-90c6-cef2cde9593f",
   "metadata": {},
   "outputs": [],
   "source": [
    "sum(row.names(mat) %in% markers)"
   ]
  },
  {
   "cell_type": "markdown",
   "id": "49d06157-7c8f-4091-b866-fec6b51496cd",
   "metadata": {},
   "source": [
    "If you input 3 markers and the output from the above code = `3`, then all are present. If the result is `2` then 2 of the 3 markers you provided are found in your data, etc."
   ]
  },
  {
   "cell_type": "markdown",
   "id": "f0a84638-1901-4dda-b11b-25a16ca4c7de",
   "metadata": {},
   "source": [
    "If you want to see if an individual marker is present, you can run the following (replace with your marker of interest). Outputs `1` if the marker is present, `0` if it isn't:"
   ]
  },
  {
   "cell_type": "code",
   "execution_count": null,
   "id": "1013f004-05fd-4e86-9ce3-e1af8b4e571c",
   "metadata": {},
   "outputs": [],
   "source": [
    "sum(row.names(mat) == \"P2ry12\")"
   ]
  },
  {
   "cell_type": "markdown",
   "id": "b469a34a-5dcc-45e8-86ca-a962f96d8f12",
   "metadata": {},
   "source": [
    "We can pull out just the read counts for your defined markers"
   ]
  },
  {
   "cell_type": "code",
   "execution_count": null,
   "id": "3e02148f-6d39-4296-ad34-c02976279980",
   "metadata": {
    "tags": []
   },
   "outputs": [],
   "source": [
    "y <- mat[row.names(mat) %in% markers, ]\n",
    "as.matrix(y)"
   ]
  },
  {
   "cell_type": "markdown",
   "id": "ad408ceb-0d3f-4ce8-916f-0ca30d1bc006",
   "metadata": {},
   "source": [
    "Now we can count the number of cells containing zero transcripts for each of the examined markers. This enables an examination of the number of cells that have zero expression for these markers and therefore the number of cells that can be considered non-target cells."
   ]
  },
  {
   "cell_type": "code",
   "execution_count": null,
   "id": "2323dc34-4bf4-4f25-a1f9-2b70a2bf7be1",
   "metadata": {},
   "outputs": [],
   "source": [
    "# First count all cells\n",
    "# Then make a loop to cycle through all markers (defined in previously created 'markers' vector)\n",
    "a <- length(colnames(y))\n",
    "for (i in 1:length(markers)) {\n",
    "  \n",
    "  a <- c(a, sum(y[i,] == 0))\n",
    "  \n",
    "}\n",
    "# Do a sum of the columns\n",
    "y2 <- colSums(y)\n",
    "# See if any zeros. If so, these cells are not target cells (as determined by absense of any target cell markers)\n",
    "count <- c(a, sum(y2 == 0))\n",
    "# Name the vector elements\n",
    "names(count) <- c(\"Total_cells\", markers, \"All_zero\")\n",
    "# Generate the table\n",
    "as.data.frame(count)"
   ]
  },
  {
   "cell_type": "markdown",
   "id": "ab2d8be6-f4b3-4b51-bb80-325b48790944",
   "metadata": {},
   "source": [
    "The above table shows the total number of cells for your sample, the number of cells which had 0 expression for **each** marker, and the number of cell that had zero expression for **all** of the markers you provided."
   ]
  },
  {
   "cell_type": "markdown",
   "id": "bd43b2dd-6a89-4f72-bc18-2516147a386f",
   "metadata": {},
   "source": [
    "**********************"
   ]
  },
  {
   "cell_type": "markdown",
   "id": "0ff16db8-6492-4c55-b38b-a057196c1458",
   "metadata": {},
   "source": [
    "## 5e. Processing expression data (dimensionality reduction) <a class=\"anchor\" id=\"dim\"></a>"
   ]
  },
  {
   "cell_type": "markdown",
   "id": "b6fb8f86-8054-4024-b025-a5c56210d9ac",
   "metadata": {},
   "source": [
    "There are a variety of methods to visualise expression in single cell data. The most commonly used methods - PCA, t-SNE and UMAP - involve 'dimensionality', i.e. converting expression to x-n dimensions (which can then be plotted) based on gene expression per cell."
   ]
  },
  {
   "cell_type": "markdown",
   "id": "27f5b76b-8f85-4186-85a5-8e33c7ec5f9f",
   "metadata": {},
   "source": [
    "Suerat can generate and store PCA, t-SNE and UMAP data in the Seurat object we created in section 5c (which we called `mat2`), but first the raw data needs to be processed in a variety of ways:\n",
    "\n",
    "1. Normalise the data by log transformation\n",
    "2. Identify genes that exhibit high cell-to-cell variation\n",
    "3. Scale the data so that highly expressed genes don't dominate the visual representation of expression\n",
    "4. Perform the linear dimensional reduction that converts expression to dimensions\n",
    "5. Plot the x-y dimension data (i.e. first 2 dimensions)\n"
   ]
  },
  {
   "cell_type": "markdown",
   "id": "c0f465fb-c4c2-4403-84e6-b9fa2334f292",
   "metadata": {},
   "source": [
    "The first 4 steps are completed in the code cell below (this may take a few minutes to run)"
   ]
  },
  {
   "cell_type": "code",
   "execution_count": null,
   "id": "59d19128-6400-4127-9fa1-a44b54b32639",
   "metadata": {},
   "outputs": [],
   "source": [
    "# Normalise data\n",
    "mat3 <- NormalizeData(mat2)\n",
    "# Identification of variable features\n",
    "mat3 <- FindVariableFeatures(mat3, selection.method = \"vst\", nfeatures = nrow(mat3))\n",
    "# Scaling the data\n",
    "all.genes <- rownames(mat3)\n",
    "mat3 <- ScaleData(mat3, features = all.genes)\n",
    "# Perform linear dimensional reduction (PCA)\n",
    "mat3 <- RunPCA(mat3, features = VariableFeatures(object = mat3))"
   ]
  },
  {
   "cell_type": "markdown",
   "id": "e23bcfa1-b721-4a37-b92e-c6ad11be2db0",
   "metadata": {},
   "source": [
    "### Plot of highly variable genes"
   ]
  },
  {
   "cell_type": "markdown",
   "id": "7af24425-706b-4b5b-a0cf-1a771d5b40ff",
   "metadata": {},
   "source": [
    "Using the `FindVariableFeatures` results, we can visualise the most highly variable genes, including a count of variable and non variable genes in your dataset. The below code ouputs the top 10 genes, but you can ajust this number as desired (i.e. in `top_genes <- head(VariableFeatures(mat3), 10)` change `10` to another number)."
   ]
  },
  {
   "cell_type": "markdown",
   "id": "926f1409-d0a6-4836-ba37-6912a7523b5e",
   "metadata": {},
   "source": [
    "**NOTE** In the below plot you can change a number of parameters to modify the plot to look how you like. This can be done for any of the plots in these notebooks. In the plot below you can change:\n",
    "\n",
    "Dot size: `pt.size = 2`. Increase or decrease the number to increase or decrease dot size.\n",
    "\n",
    "Dot colours: `cols = c(\"black\", \"firebrick\"))`. Change the colours to whatever you like. A list of R colour names is here: http://www.stat.columbia.edu/~tzheng/files/Rcolor.pdf\n",
    "\n",
    "Theme: `theme_bw()`. There are several default plot themes you can choose from, that change a variety of plot parameters. See here: https://ggplot2.tidyverse.org/reference/ggtheme.html\n",
    "\n",
    "Axis text size: `theme(text = element_text(size = 17))`. There are a large number of parameters that can be modified with `theme()`. Here we've just changed the axis text to size 17. See here for other parameters that can be changed with `theme()`: https://ggplot2.tidyverse.org/reference/theme.html\n",
    "\n",
    "Surat plots are based on the ggplot package. There are a multitude of other modifications you can make to a ggplot, too many to describe in this notebook. But there are plenty of online guides on how to modify ggplot plots. Here's an example: http://www.sthda.com/english/wiki/be-awesome-in-ggplot2-a-practical-guide-to-be-highly-effective-r-software-and-data-visualization"
   ]
  },
  {
   "cell_type": "code",
   "execution_count": null,
   "id": "4820bc1f-def8-4d5f-afce-9b4b019439bd",
   "metadata": {},
   "outputs": [],
   "source": [
    "# Identify the 10 most highly variable genes\n",
    "top_genes <- head(VariableFeatures(mat3), 10)\n",
    "# plot variable features with labels\n",
    "p <- VariableFeaturePlot(mat3, pt.size = 2, cols = c(\"black\", \"firebrick\"))\n",
    "p <- LabelPoints(plot = p, points = top_genes, repel = TRUE) +\n",
    "theme_bw() +\n",
    "theme(text = element_text(size = 17))\n",
    "p"
   ]
  },
  {
   "cell_type": "markdown",
   "id": "55ef45c4-4739-4515-9019-dab6f3797908",
   "metadata": {},
   "source": [
    "You can save your plot as a 300dpi (i.e. publication quality) tiff or pdf file. **These files can be found in your working directory.**\n",
    "\n",
    "**Tip:** you can adjust the width and height of the saved images by changing `width =` and `height =` in the code below. Pdf files can be opened within Jupyter, so a good way to test a suitable width/height would be to save the image by running the pdf code below with the default 20cm width/height, then open the pdf file by clicking on it in the file browser panel (to the left of this notebook), then change the width/height and repeat this process as needed."
   ]
  },
  {
   "cell_type": "markdown",
   "id": "c71c68e5-d2f9-4405-a985-3e4e9cfa6072",
   "metadata": {},
   "source": [
    "Export as a 300dpi tiff"
   ]
  },
  {
   "cell_type": "code",
   "execution_count": null,
   "id": "cddd5f4b-b8c9-4d1b-82b2-4696a1177641",
   "metadata": {},
   "outputs": [],
   "source": [
    "tiff_exp <- paste0(sample, \"_top_genes.tiff\")\n",
    "ggsave(file = tiff_exp, dpi = 300, compression = \"lzw\", device = \"tiff\", plot = p, width = 20, height = 20, units = \"cm\")"
   ]
  },
  {
   "cell_type": "markdown",
   "id": "cc092ae2-f271-4fda-b0e3-421c8b566b56",
   "metadata": {},
   "source": [
    "Export as a pdf"
   ]
  },
  {
   "cell_type": "code",
   "execution_count": null,
   "id": "e41bac03-ace4-49f3-b25e-ef86e7a73e4b",
   "metadata": {},
   "outputs": [],
   "source": [
    "pdf_exp <- paste0(sample, \"_top_genes.pdf\")\n",
    "ggsave(file = pdf_exp, device = \"pdf\", plot = p, width = 20, height = 20, units = \"cm\")"
   ]
  },
  {
   "cell_type": "markdown",
   "id": "4a0fba77-1203-40cd-8e82-c72bc4b7aa29",
   "metadata": {},
   "source": [
    "*************************************"
   ]
  },
  {
   "cell_type": "markdown",
   "id": "dc90bd2c-e6b6-4b40-9629-a13b02d41004",
   "metadata": {},
   "source": [
    "## 5f. PCA, UMAP and t-SNE plots (plotting dimenstionality reduction data) <a class=\"anchor\" id=\"dimplot\"></a>"
   ]
  },
  {
   "cell_type": "markdown",
   "id": "89791677-d723-47ad-83ab-5bce82ead6c0",
   "metadata": {},
   "source": [
    "In the above section we ran dimensionality reduction based on [Principal Component Analysis (PCA)](https://builtin.com/data-science/step-step-explanation-principal-component-analysis). \n",
    "\n",
    "Technically, results from only one dimensionality reduction are needed for downstream analysis, but we will also perform [Uniform Manifold Approximation and Projection (UMAP](https://towardsdatascience.com/how-exactly-umap-works-13e3040e1668) and [t-distributed stochastic neighbor embedding (t-SNE)](https://towardsdatascience.com/an-introduction-to-t-sne-with-python-example-5a3a293108d1) dimensionality reduction, so as to visualise expression based on 3 different methods"
   ]
  },
  {
   "cell_type": "markdown",
   "id": "f3c8afec-2b9a-4206-b7c9-a9151097e157",
   "metadata": {},
   "source": [
    "First we need to run UMAP and tSNE dimensionality reduction and add these results to our main Seurat object"
   ]
  },
  {
   "cell_type": "code",
   "execution_count": null,
   "id": "d9bc3eb5-7902-432a-b9d8-c455ab7ebf94",
   "metadata": {},
   "outputs": [],
   "source": [
    "mat3 <- RunUMAP(mat3, dims = 1:3, verbose = F)\n",
    "mat3 <- RunTSNE(mat3, dims = 1:3, verbose = F)"
   ]
  },
  {
   "cell_type": "markdown",
   "id": "a2483757-0a18-4aa7-b8d7-24ae69b682fe",
   "metadata": {},
   "source": [
    "Now we can visualise your expression data using all 3 dimensionality reduction methods"
   ]
  },
  {
   "cell_type": "markdown",
   "id": "3079a22a-87b8-41d4-9f66-a7359dee25ed",
   "metadata": {},
   "source": [
    "### Generate the PCA plot"
   ]
  },
  {
   "cell_type": "code",
   "execution_count": null,
   "id": "4116f6a4-fddb-4b48-8c7d-2363e48e9c72",
   "metadata": {},
   "outputs": [],
   "source": [
    "p <- DimPlot(mat3, reduction = \"pca\", pt.size = 2, label = TRUE, label.size = 6, label.color = \"white\", cols = c(\"firebrick\")) + \n",
    "theme_bw() +\n",
    "theme(legend.position=\"none\", axis.title=element_text(size=16), axis.text=element_text(size=14))\n",
    "p"
   ]
  },
  {
   "cell_type": "markdown",
   "id": "f72e2812-4f7e-479f-9650-f98f91580dab",
   "metadata": {},
   "source": [
    "**Note** As discussed in the previous section, you can change various plot attributes. In these plots, the point size (`pt.size =`), label (`label =` make it `TRUE` if you want a label, `FALSE` if you don't), label colour (`label.color =`), point colour (`cols =`) and various theme attributes such as axis text size."
   ]
  },
  {
   "cell_type": "markdown",
   "id": "3e72c2cf-b734-4ed4-b478-87cd39b8e5aa",
   "metadata": {},
   "source": [
    "Then you can export the plot as a publication quality TIFF or PDF file."
   ]
  },
  {
   "cell_type": "markdown",
   "id": "4cc2097d-1367-429d-99b1-d94e68de3c23",
   "metadata": {},
   "source": [
    "Export as a 300dpi tiff"
   ]
  },
  {
   "cell_type": "code",
   "execution_count": null,
   "id": "d181473c-cae6-4681-9472-10670044e471",
   "metadata": {},
   "outputs": [],
   "source": [
    "tiff_exp <- paste0(sample, \"_PCA_pre_filtration.tiff\")\n",
    "ggsave(file = tiff_exp, dpi = 300, compression = \"lzw\", device = \"tiff\", plot = p, width = 20, height = 20, units = \"cm\")"
   ]
  },
  {
   "cell_type": "markdown",
   "id": "5fed7aa6-059e-4832-b34e-5021ec472223",
   "metadata": {},
   "source": [
    "Export as a pdf"
   ]
  },
  {
   "cell_type": "code",
   "execution_count": null,
   "id": "53a02600-8b86-4fa2-8012-6d23192870b4",
   "metadata": {},
   "outputs": [],
   "source": [
    "pdf_exp <- paste0(sample, \"_PCA_pre_filtration.pdf\")\n",
    "ggsave(file = pdf_exp, device = \"pdf\", plot = p, width = 20, height = 20, units = \"cm\")"
   ]
  },
  {
   "cell_type": "markdown",
   "id": "d341da02-4763-4476-a9c5-b3fdc0d153ee",
   "metadata": {},
   "source": [
    "### Generate the UMAP pplot"
   ]
  },
  {
   "cell_type": "code",
   "execution_count": null,
   "id": "a686ef09-bab9-4f9e-abe3-0c06dee51747",
   "metadata": {},
   "outputs": [],
   "source": [
    "p <- DimPlot(mat3, reduction = \"umap\", pt.size = 2, label = TRUE, label.size = 8, label.color = \"black\", cols = c(\"firebrick\")) + \n",
    "theme_bw() +\n",
    "theme(legend.position=\"none\", axis.title=element_text(size=16), axis.text=element_text(size=14))\n",
    "p"
   ]
  },
  {
   "cell_type": "markdown",
   "id": "ca0c3521-81db-4f2f-8c65-7ecf6a562ff9",
   "metadata": {},
   "source": [
    "Export as a 300dpi tiff"
   ]
  },
  {
   "cell_type": "code",
   "execution_count": null,
   "id": "f945dc58-06f8-40eb-b69a-5decd433852e",
   "metadata": {},
   "outputs": [],
   "source": [
    "tiff_exp <- paste0(sample, \"_umap_pre_filtration.tiff\")\n",
    "ggsave(file = tiff_exp, dpi = 300, compression = \"lzw\", device = \"tiff\", plot = p, width = 20, height = 20, units = \"cm\")"
   ]
  },
  {
   "cell_type": "markdown",
   "id": "635681b9-f179-4731-b53e-cc3966294a1b",
   "metadata": {},
   "source": [
    "Export as a pdf"
   ]
  },
  {
   "cell_type": "code",
   "execution_count": null,
   "id": "00427925-4baa-43fe-bb16-0691be6ee5aa",
   "metadata": {},
   "outputs": [],
   "source": [
    "pdf_exp <- paste0(sample, \"_umap_pre_filtration.pdf\")\n",
    "ggsave(file = pdf_exp, device = \"pdf\", plot = p, width = 20, height = 20, units = \"cm\")"
   ]
  },
  {
   "cell_type": "markdown",
   "id": "1f28481b-36e5-4fca-a64d-0daa7d47c361",
   "metadata": {},
   "source": [
    "### Generate the tSNE plot"
   ]
  },
  {
   "cell_type": "code",
   "execution_count": null,
   "id": "400f2729-f081-4b10-869b-0fd0a49144bb",
   "metadata": {},
   "outputs": [],
   "source": [
    "p <- DimPlot(mat3, reduction = \"tsne\", pt.size = 2, label = TRUE, label.size = 8, label.color = \"black\", cols = c(\"firebrick\")) + \n",
    "theme_bw() +\n",
    "theme(legend.position=\"none\", axis.title=element_text(size=16), axis.text=element_text(size=14))\n",
    "p"
   ]
  },
  {
   "cell_type": "markdown",
   "id": "edc7feec-d55e-4140-a928-ce9faf82d36d",
   "metadata": {},
   "source": [
    "Export as a 300dpi tiff"
   ]
  },
  {
   "cell_type": "code",
   "execution_count": null,
   "id": "922a2f01-07fe-4dff-b461-304bea26e9d3",
   "metadata": {},
   "outputs": [],
   "source": [
    "tiff_exp <- paste0(sample, \"_tsne_pre_filtration.tiff\")\n",
    "ggsave(file = tiff_exp, dpi = 300, compression = \"lzw\", device = \"tiff\", plot = p, width = 20, height = 20, units = \"cm\")"
   ]
  },
  {
   "cell_type": "markdown",
   "id": "4cda7b99-1bfc-4ead-848e-a2c40837f298",
   "metadata": {},
   "source": [
    "Export as a pdf"
   ]
  },
  {
   "cell_type": "code",
   "execution_count": null,
   "id": "8a4c0974-c05c-429f-99cd-f14a2a1ee3e1",
   "metadata": {},
   "outputs": [],
   "source": [
    "pdf_exp <- paste0(sample, \"_tsne_pre_filtration.pdf\")\n",
    "ggsave(file = pdf_exp, device = \"pdf\", plot = p, width = 20, height = 20, units = \"cm\")"
   ]
  },
  {
   "cell_type": "markdown",
   "id": "218b4801-0b16-4450-a613-db9d01f5669e",
   "metadata": {},
   "source": [
    "*********************************************"
   ]
  },
  {
   "cell_type": "markdown",
   "id": "808e9a45-beb4-444c-97c4-e8d7c6aadc83",
   "metadata": {},
   "source": [
    "## 5g. Remove low quality or outlier cells <a class=\"anchor\" id=\"outlier\"></a>"
   ]
  },
  {
   "cell_type": "markdown",
   "id": "73170dc9-99bc-41c6-9990-af67863291b6",
   "metadata": {},
   "source": [
    "From the Seurat website:"
   ]
  },
  {
   "cell_type": "markdown",
   "id": "f0e5b2bb-592b-4106-8830-b99a81d1e15e",
   "metadata": {},
   "source": [
    ">Seurat allows you to easily explore QC metrics and filter cells based on any user-defined criteria. A few QC metrics commonly used by the community include\n",
    "\n",
    ">* Low-quality cells or empty droplets will often have very few genes\n",
    ">* Cell doublets or multiplets may exhibit an aberrantly high gene count"
   ]
  },
  {
   "cell_type": "markdown",
   "id": "84a71366-9d53-4fd2-9860-0e5bbf83e001",
   "metadata": {},
   "source": [
    "So in this section we can filter out cells that have very low and very high gene counts."
   ]
  },
  {
   "cell_type": "markdown",
   "id": "181c5479-413d-4ba1-8e74-e1bd1aebd0cd",
   "metadata": {},
   "source": [
    "We can first visualise the spread of genes and reads using a violin plot."
   ]
  },
  {
   "cell_type": "code",
   "execution_count": null,
   "id": "844146b1-50fc-4777-9241-436ef2a54e12",
   "metadata": {},
   "outputs": [],
   "source": [
    "VlnPlot(mat2, features = c(\"nFeature_RNA\", \"nCount_RNA\"), ncol = 3)"
   ]
  },
  {
   "cell_type": "markdown",
   "id": "e0dae787-00e7-4b4f-97e5-2377f391e556",
   "metadata": {},
   "source": [
    "Or as a scatter plot"
   ]
  },
  {
   "cell_type": "code",
   "execution_count": null,
   "id": "d8e1a183-0895-4f5b-aec0-d4afb77aefdc",
   "metadata": {},
   "outputs": [],
   "source": [
    "FeatureScatter(mat2, feature1 = \"nCount_RNA\", feature2 = \"nFeature_RNA\")"
   ]
  },
  {
   "cell_type": "markdown",
   "id": "fac41ed6-89eb-4fbe-9f89-09dd05b75978",
   "metadata": {},
   "source": [
    "You can then choose to filter out the top and bottom 'outliers' based on the above violin and scatter plots, by entering a maximum and minimum `nFeature_RNA` below. This max/min number can vary greatly depending on the sequencing depth of your samples and other factors. Use the above violin plots to guide your decision."
   ]
  },
  {
   "cell_type": "code",
   "execution_count": null,
   "id": "76e95248-e2bf-43c6-8a42-5cb35550c515",
   "metadata": {},
   "outputs": [],
   "source": [
    "mat3_filt <- subset(mat3, subset = nFeature_RNA > 200 & nFeature_RNA < 4000)"
   ]
  },
  {
   "cell_type": "markdown",
   "id": "f1ea9469-a817-46b2-b0d3-fe8fea95bf3f",
   "metadata": {},
   "source": [
    "****************************"
   ]
  },
  {
   "cell_type": "markdown",
   "id": "df9150d8-869d-4dcb-b4a5-9db06218f00b",
   "metadata": {},
   "source": [
    "## 5h. Visualise gene expression by marker <a class=\"anchor\" id=\"plot\"></a>"
   ]
  },
  {
   "cell_type": "markdown",
   "id": "457e57a8-f9e7-46ef-acab-331e9c8f8a70",
   "metadata": {},
   "source": [
    "In the previous section (plotting dimenstionality reduction data) we visualised total expression, i.e. all genes within each cell.\n",
    "\n",
    "In this section we will visualise expression for specific markers within each cell, using the same dimensionality reduction data (PCA, UMAP and t-SNE) that we generated in the previous section.\n",
    "\n",
    "This has a variety of uses: to identify patterns of differential expression between cells for specific markers, identify 'non-target' cells - i.e. expression of markers that are known to be not expressed in target cells, marker-based heterogeneity of expression, etc."
   ]
  },
  {
   "cell_type": "markdown",
   "id": "cde07a3c-70c2-452b-8d01-64f4ef259ef4",
   "metadata": {},
   "source": [
    "In section 5d you selected a set of markers. To confirm which markers they were:"
   ]
  },
  {
   "cell_type": "code",
   "execution_count": null,
   "id": "113c3d34-2d06-45c6-ab58-d46f465af050",
   "metadata": {},
   "outputs": [],
   "source": [
    "markers"
   ]
  },
  {
   "cell_type": "markdown",
   "id": "1e1ec99c-0d58-467d-bd73-6d3a6e4dac02",
   "metadata": {},
   "source": [
    "If you wish to plot a different set of markers, you can do so by changing the set of markers in the `markers <- c(..)` code and re-running that code cell. You can choose 1 marker, or as many as you like. Be aware though that there will be a plot generated for every marker provided."
   ]
  },
  {
   "cell_type": "markdown",
   "id": "30bf8e5c-0e11-412f-be5c-d9cd07a78276",
   "metadata": {},
   "source": [
    "Now generate the plots. You can change the colours in the plots (`cols = c(\"red\", \"lightgrey\")` and the point size (`pt.size = 1`). Note that the default colours show the *lowest* expression in red. This is so you can more easily see which cells don't express the diagnostic markers."
   ]
  },
  {
   "cell_type": "markdown",
   "id": "06286f5b-6a2a-4777-872b-53acdb31acff",
   "metadata": {},
   "source": [
    "### PCA plot"
   ]
  },
  {
   "cell_type": "code",
   "execution_count": null,
   "id": "10208ecc-e878-4990-b639-6dbfce77b97f",
   "metadata": {},
   "outputs": [],
   "source": [
    "p <- FeaturePlot(mat3_filt, features = markers, reduction = \"pca\", cols = c(\"red\", \"lightgrey\"), pt.size = 1)\n",
    "p"
   ]
  },
  {
   "cell_type": "markdown",
   "id": "b22c9609-2417-4004-9bf6-b34139fb2ab2",
   "metadata": {},
   "source": [
    "Export as a 300dpi tiff"
   ]
  },
  {
   "cell_type": "code",
   "execution_count": null,
   "id": "c3abfda6-3ee1-4b37-8c27-89bbea21b5e3",
   "metadata": {},
   "outputs": [],
   "source": [
    "tiff_exp <- paste0(sample, \"_pca_markers.tiff\")\n",
    "ggsave(file = tiff_exp, dpi = 300, compression = \"lzw\", device = \"tiff\", plot = p, width = 20, height = 20, units = \"cm\")"
   ]
  },
  {
   "cell_type": "markdown",
   "id": "f6a3e2fd-341f-485a-ab0b-8804d9409241",
   "metadata": {},
   "source": [
    "Export as a pdf"
   ]
  },
  {
   "cell_type": "code",
   "execution_count": null,
   "id": "10a73a51-bbdb-40c5-9122-7c9e1b81ba43",
   "metadata": {},
   "outputs": [],
   "source": [
    "pdf_exp <- paste0(sample, \"_pca_markers.pdf\")\n",
    "ggsave(file = pdf_exp, device = \"pdf\", plot = p, width = 20, height = 20, units = \"cm\")"
   ]
  },
  {
   "cell_type": "markdown",
   "id": "9851422b-3a18-4e3c-80a8-5b52f8587e21",
   "metadata": {},
   "source": [
    "### UMAP"
   ]
  },
  {
   "cell_type": "code",
   "execution_count": null,
   "id": "372bb1dc-de0b-4176-9b41-468cd1cdcd2e",
   "metadata": {},
   "outputs": [],
   "source": [
    "p <- FeaturePlot(mat3, features = markers, reduction = \"umap\", cols = c(\"red\", \"lightgrey\"), pt.size = 1)\n",
    "p"
   ]
  },
  {
   "cell_type": "markdown",
   "id": "45467b15-c64a-4bf2-913e-8a76367f7fcf",
   "metadata": {},
   "source": [
    "Export as a 300dpi tiff"
   ]
  },
  {
   "cell_type": "code",
   "execution_count": null,
   "id": "66e062fb-7245-40ba-9ebf-089902d7f664",
   "metadata": {},
   "outputs": [],
   "source": [
    "tiff_exp <- paste0(sample, \"_umap_markers.tiff\")\n",
    "ggsave(file = tiff_exp, dpi = 300, compression = \"lzw\", device = \"tiff\", plot = p, width = 20, height = 20, units = \"cm\")"
   ]
  },
  {
   "cell_type": "markdown",
   "id": "250ae808-8676-4c85-9e1d-62231cd98be8",
   "metadata": {},
   "source": [
    "Export as a pdf"
   ]
  },
  {
   "cell_type": "code",
   "execution_count": null,
   "id": "2040f06f-f33c-4224-abe1-18421c6f6dfe",
   "metadata": {},
   "outputs": [],
   "source": [
    "pdf_exp <- paste0(sample, \"_umap_markers.pdf\")\n",
    "ggsave(file = pdf_exp, device = \"pdf\", plot = p, width = 20, height = 20, units = \"cm\")"
   ]
  },
  {
   "cell_type": "markdown",
   "id": "b578400c-5600-49f2-acd1-3c8a4fc04e7c",
   "metadata": {},
   "source": [
    "### t-SNE"
   ]
  },
  {
   "cell_type": "code",
   "execution_count": null,
   "id": "041e1576-70e5-4c08-8cad-ead2f04a9b23",
   "metadata": {},
   "outputs": [],
   "source": [
    "p <- FeaturePlot(mat3, features = markers, reduction = \"tsne\", cols = c(\"red\", \"lightgrey\"), pt.size = 1)\n",
    "p"
   ]
  },
  {
   "cell_type": "markdown",
   "id": "d6556200-4571-4170-9e11-8912c07d01b0",
   "metadata": {},
   "source": [
    "Export as a 300dpi tiff"
   ]
  },
  {
   "cell_type": "code",
   "execution_count": null,
   "id": "8c7a743a-09f8-405a-8f33-9286cf639d51",
   "metadata": {},
   "outputs": [],
   "source": [
    "tiff_exp <- paste0(sample, \"_tsne_markers.tiff\")\n",
    "ggsave(file = tiff_exp, dpi = 300, compression = \"lzw\", device = \"tiff\", plot = p, width = 20, height = 20, units = \"cm\")"
   ]
  },
  {
   "cell_type": "markdown",
   "id": "52b1c85e-c5e3-4c53-82b3-5467d1650d75",
   "metadata": {},
   "source": [
    "Export as a pdf"
   ]
  },
  {
   "cell_type": "code",
   "execution_count": null,
   "id": "2cda5da8-4ad4-45c3-a039-2fd99abd84b5",
   "metadata": {},
   "outputs": [],
   "source": [
    "pdf_exp <- paste0(sample, \"_tsne_markers.pdf\")\n",
    "ggsave(file = pdf_exp, device = \"pdf\", plot = p, width = 20, height = 20, units = \"cm\")"
   ]
  },
  {
   "cell_type": "markdown",
   "id": "aa239259-9199-4cd8-8f67-2e395042390b",
   "metadata": {},
   "source": [
    "### Heatmap"
   ]
  },
  {
   "cell_type": "markdown",
   "id": "3f652cce-ddb7-44db-ab3e-346d1b2f3a1f",
   "metadata": {},
   "source": [
    "In addition to the dimensionality reduction plots, you can visualise expression for your selected markers with a heat map (note: this requires at least 2 markers, preferably several, to be visually meaningful). You can change the colour range as you like by providing a high, centre and low colour (`scale_fill_gradientn(colors = c(\"darkorange\", \"floralwhite\", \"dodgerblue4\"))`)"
   ]
  },
  {
   "cell_type": "code",
   "execution_count": null,
   "id": "14d3c66d-7c7c-4db8-8221-4d48470ba04c",
   "metadata": {},
   "outputs": [],
   "source": [
    "p <- DoHeatmap(mat3, features = markers, group.bar = FALSE) + \n",
    "scale_fill_gradientn(colors = c(\"darkorange\", \"floralwhite\", \"dodgerblue4\")) + \n",
    "theme(text = element_text(size = 16))\n",
    "p"
   ]
  },
  {
   "cell_type": "markdown",
   "id": "c8801199-5ea6-4e5a-b71a-ff096597471b",
   "metadata": {},
   "source": [
    "Export as a 300dpi tiff"
   ]
  },
  {
   "cell_type": "code",
   "execution_count": null,
   "id": "fb90a71a-284e-47fc-84c3-a8c230baf33f",
   "metadata": {},
   "outputs": [],
   "source": [
    "tiff_exp <- paste0(sample, \"_hmap_markers.tiff\")\n",
    "ggsave(file = tiff_exp, dpi = 300, compression = \"lzw\", device = \"tiff\", plot = p, width = 20, height = 20, units = \"cm\")"
   ]
  },
  {
   "cell_type": "markdown",
   "id": "01f70615-afa0-482c-90ba-fef047b02e9e",
   "metadata": {},
   "source": [
    "Export as a pdf"
   ]
  },
  {
   "cell_type": "code",
   "execution_count": null,
   "id": "d62c8257-402e-4859-a1ab-2098c4dc547f",
   "metadata": {},
   "outputs": [],
   "source": [
    "pdf_exp <- paste0(sample, \"_hmap_markers.pdf\")\n",
    "ggsave(file = pdf_exp, device = \"pdf\", plot = p, width = 20, height = 20, units = \"cm\")"
   ]
  },
  {
   "cell_type": "markdown",
   "id": "d9f82857-9b90-4c4a-903e-444c0cbf908c",
   "metadata": {},
   "source": [
    "### Clustered heatmap"
   ]
  },
  {
   "cell_type": "markdown",
   "id": "7420c80b-d16b-40e2-9a0e-93f94d3a7957",
   "metadata": {},
   "source": [
    "You can also cluster the cells and then plot a heatmap based on this cluster data, to see if expression of your chosen markers is related to clusters"
   ]
  },
  {
   "cell_type": "markdown",
   "id": "8c5e0eb7-5ed7-4202-8f27-b36905c33b5f",
   "metadata": {},
   "source": [
    "First, generate the clusters for your sample\n",
    "\n",
    "**Important: this will generate the clusters for the remainder of your analysis. Choose the `resolution =` score carefully. A lower score means fewer clusters. You can adjust this higher or lower to see how it affects your clusters.**"
   ]
  },
  {
   "cell_type": "code",
   "execution_count": null,
   "id": "44c9ddf7-d5bc-400a-a554-414f3a20da89",
   "metadata": {},
   "outputs": [],
   "source": [
    "mat3 <- FindNeighbors(mat3, dims = 1:10)\n",
    "mat3 <- FindClusters(mat3, resolution = 0.5)"
   ]
  },
  {
   "cell_type": "markdown",
   "id": "c29c322b-52ec-4419-b0b6-a8818705e527",
   "metadata": {},
   "source": [
    "Then generate the heatmap"
   ]
  },
  {
   "cell_type": "code",
   "execution_count": null,
   "id": "e8add1cf-001c-4b5d-ab10-4d55f13b3ddd",
   "metadata": {},
   "outputs": [],
   "source": [
    "p <- DoHeatmap(mat3, features = markers, raster = T) + \n",
    "scale_fill_gradientn(colors = c(\"darkorange\", \"floralwhite\", \"dodgerblue4\")) + \n",
    "theme(text = element_text(size = 16)) + labs(color = \"Dose (mg)\")\n",
    "p"
   ]
  },
  {
   "cell_type": "markdown",
   "id": "1c1bd92e-5498-4023-9e2d-b5104528d200",
   "metadata": {},
   "source": [
    "Export as a 300dpi tiff"
   ]
  },
  {
   "cell_type": "code",
   "execution_count": null,
   "id": "f2d88478-5d48-4568-9ea3-32947e04842e",
   "metadata": {},
   "outputs": [],
   "source": [
    "tiff_exp <- paste0(sample, \"_hmap_markers_clustered.tiff\")\n",
    "ggsave(file = tiff_exp, dpi = 300, compression = \"lzw\", device = \"tiff\", plot = p, width = 20, height = 20, units = \"cm\")"
   ]
  },
  {
   "cell_type": "markdown",
   "id": "a8c43f32-32b4-4dad-8f27-20f6c1c2fa28",
   "metadata": {},
   "source": [
    "Export as a pdf"
   ]
  },
  {
   "cell_type": "code",
   "execution_count": null,
   "id": "94c2854c-18a1-47bf-84a4-c51d4fc737bb",
   "metadata": {},
   "outputs": [],
   "source": [
    "pdf_exp <- paste0(sample, \"_hmap_markers_clustered.pdf\")\n",
    "ggsave(file = pdf_exp, device = \"pdf\", plot = p, width = 20, height = 20, units = \"cm\")"
   ]
  },
  {
   "cell_type": "markdown",
   "id": "583c9acb-d062-4f74-97ca-313e53aa68a9",
   "metadata": {},
   "source": [
    "******************************"
   ]
  },
  {
   "cell_type": "markdown",
   "id": "909a90e0-9959-4eca-99d7-021c65ed1726",
   "metadata": {},
   "source": [
    "## 5i. Remove non-target cells <a class=\"anchor\" id=\"remove\"></a>"
   ]
  },
  {
   "cell_type": "markdown",
   "id": "f1f64d5c-f129-4c0f-a9cb-f26e66fa8ed3",
   "metadata": {},
   "source": [
    "In this section we will remove any 'non-target' cells from our dataset. 'Non-target' cells are defined as those with 0 reads (i.e. 0 expression) for our marker(s) of choice.\n",
    "\n",
    "**If you don't want to remove any cells based on expression of specific markers, skip this section**"
   ]
  },
  {
   "cell_type": "markdown",
   "id": "0a71f0e1-cdae-4da4-ae5d-9e2de908c217",
   "metadata": {},
   "source": [
    "Once again, we can view our chosen markers"
   ]
  },
  {
   "cell_type": "code",
   "execution_count": null,
   "id": "38d4af1a-2a81-47b9-89fe-28d7df94b9b0",
   "metadata": {},
   "outputs": [],
   "source": [
    "zm <- mat[row.names(mat) %in% markers, ]\n",
    "as.matrix(zm)"
   ]
  },
  {
   "cell_type": "markdown",
   "id": "4c7db7b2-1ad6-432d-af0d-cbb61c936492",
   "metadata": {},
   "source": [
    "Then we can again see a count of cells that had 0 reads (thus 0 expression) for each marker. **The 'All markers' row indicates the number of cells that have zero expression in <u>any</u> of the provided markers. <u>These are the cells that will be filtered out from your dataset</u>**"
   ]
  },
  {
   "cell_type": "code",
   "execution_count": null,
   "id": "12594b68-2d04-423b-b5c5-fe49fd42f9e8",
   "metadata": {},
   "outputs": [],
   "source": [
    "a <- length(colnames(zm))\n",
    "for (i in 1:length(markers)) {\n",
    "  \n",
    "  a <- c(a, sum(zm[i,] == 0))\n",
    "  \n",
    "}\n",
    "a <- c(a, length(colnames(zm)) - sum(apply(as.matrix(zm) == 0, 2, sum) == 0))\n",
    "names(a) <- c(\"Total cells\", markers, \"All markers\")\n",
    "as.data.frame(a)"
   ]
  },
  {
   "cell_type": "markdown",
   "id": "d9574017-c62f-4795-a0eb-7c37102b7a06",
   "metadata": {},
   "source": [
    "Based on these results, we can choose which markers we wish to use for removing '0 expression' cells. We may decide to keep all markers, keep only some of the markers, or use different markers (in which case we should re-run the 'Identify markers in cells' section, with a different set of markers). Once you have decided on your set of diagnostic markers, enter them in the `marker_rem` object below."
   ]
  },
  {
   "cell_type": "code",
   "execution_count": null,
   "id": "6df09159-6f36-43e7-abcd-99b03a35a6e3",
   "metadata": {},
   "outputs": [],
   "source": [
    "marker_rem <- c(\"P2ry12\", \"Tmem119\")"
   ]
  },
  {
   "cell_type": "markdown",
   "id": "c6d72a79-eb0a-4ebc-9306-a8aa0f0421e9",
   "metadata": {},
   "source": [
    "Remove cells from main Seurat object that have zero expression for **any** of these markers."
   ]
  },
  {
   "cell_type": "code",
   "execution_count": null,
   "id": "0768de4d-0d02-4161-aba6-aef6770f7004",
   "metadata": {},
   "outputs": [],
   "source": [
    "zm <- mat[row.names(mat) %in% marker_rem, ]\n",
    "# This line does a sum of every column and then outputs column where this = 0 (if any cell contains reads, this will at least = 1).\n",
    "zm_1 <- as.matrix(zm)[, apply(as.matrix(zm) == 0, 2, sum) == 0]\n",
    "# Then we can filter the Seurat object to contain just these cell (i.e. barcode) IDs\n",
    "mat3_filt <- subset(mat3_filt, cells = colnames(zm_1))"
   ]
  },
  {
   "cell_type": "code",
   "execution_count": null,
   "id": "477de08a-9e18-4fcc-b4c1-6e077e489ef9",
   "metadata": {},
   "outputs": [],
   "source": [
    "mat3_filt"
   ]
  },
  {
   "cell_type": "markdown",
   "id": "0d11bd6f-0fef-4ee2-aabd-47d49c502ac6",
   "metadata": {},
   "source": [
    "***********************************"
   ]
  },
  {
   "cell_type": "markdown",
   "id": "c6f9da63-929a-4b2b-8d20-87228432a391",
   "metadata": {},
   "source": [
    "## 5j. Clustering by gene expression <a class=\"anchor\" id=\"befaft\"></a>"
   ]
  },
  {
   "cell_type": "markdown",
   "id": "1fbcca97-b107-40b0-ae70-6cdfe3533d26",
   "metadata": {},
   "source": [
    "this section examines clustering by gene expression similarity for each sample. PCA, t-SNE and UMAP plots are used to visualize the gene expression patterns and clusters.\n",
    "\n",
    "This clustering visualisation section is included in this 'Filtering cells using markers' Notebook, because we will also examine here how filtration has affected clustering.\n",
    "\n",
    "We can generate some 'before and after' plots, to visualise how removing the non-target cells changed the data structure. You can use this section to examine if your cell filtration had a meaningful effect on your data structure. If it didn't, you may want to choose a different set of markers or filtering parameters to filter with."
   ]
  },
  {
   "cell_type": "markdown",
   "id": "a8d9b978-15d4-4db9-923f-0b0ed7121907",
   "metadata": {
    "tags": []
   },
   "source": [
    "### Choosing the correct resolution"
   ]
  },
  {
   "cell_type": "markdown",
   "id": "4b0a0245-378d-4693-9bd9-ddce1c8f6a4b",
   "metadata": {},
   "source": [
    "A cluster represents a unique group of cells, based on gene expression patterns. But what consitutes 'unique'? When you calculate the clustering (using Seurat's `FindClusters()` function), it's important to use the correct `resolution` score to generate accurate, biologically meaningful clusters. Using a lower `resolution` score will generate fewer clusters (but you risk combining two clusters that should be distinct), a higher score will generate more clusters (but you risk falsely splitting a biologically relevant cluster of cells). Every single cell dataset is different (cell population similarity, sequencing depth, etc) and as such the optimal `resolution` score needs to be chosen for each dataset."
   ]
  },
  {
   "cell_type": "markdown",
   "id": "2e319767-33c7-45c4-87a5-b168485b0028",
   "metadata": {},
   "source": [
    "The package [clustree](https://cran.r-project.org/web/packages/clustree/vignettes/clustree.html) generates a tree based on multiple `resolution` scores, which can help you in picking the optimal score.\n",
    "\n",
    "Read the clustree manual to understand how to interpret the generated tree: https://cran.r-project.org/web/packages/clustree/vignettes/clustree.html"
   ]
  },
  {
   "cell_type": "markdown",
   "id": "a86be38c-9916-4dab-92eb-a4d33c69d39e",
   "metadata": {},
   "source": [
    "Install and load the clustree package:"
   ]
  },
  {
   "cell_type": "code",
   "execution_count": null,
   "id": "bb0e3b2d-27ae-4b45-8a61-3d285cd7fb34",
   "metadata": {},
   "outputs": [],
   "source": [
    "install.packages(\"clustree\")\n",
    "library(clustree)"
   ]
  },
  {
   "cell_type": "markdown",
   "id": "1e6ece51-ea54-4b67-8994-8931be6a4159",
   "metadata": {},
   "source": [
    "Then generate a range of clusters, from 0 to 1, at 0.1 increments (`resolution = seq(0, 1, 0.1)`)."
   ]
  },
  {
   "cell_type": "code",
   "execution_count": null,
   "id": "551153ce-24e9-4e3f-8f9d-bb4db0272932",
   "metadata": {},
   "outputs": [],
   "source": [
    "mat3_clust <- FindNeighbors(mat3_filt, dims = 1:10)\n",
    "mat3_clust <- FindClusters(mat3_clust, resolution = seq(0, 1, 0.1), verbose = F)"
   ]
  },
  {
   "cell_type": "markdown",
   "id": "976575b3-db27-46ea-85e6-31ac9838cab0",
   "metadata": {},
   "source": [
    "Convert the results into a Seurat object, which can be used as input into `clustree()`"
   ]
  },
  {
   "cell_type": "code",
   "execution_count": null,
   "id": "76e65e2b-3647-42aa-9dc2-1ee052b99d90",
   "metadata": {
    "tags": []
   },
   "outputs": [],
   "source": [
    "clus_seurat <- CreateSeuratObject(counts = mat3_clust@assays$RNA@counts, meta.data = mat3_clust[[]])\n",
    "clus_seurat[['TSNE']] <- CreateDimReducObject(embeddings = Embeddings(object = mat3_clust, reduction = \"pca\"), key = \"tSNE_\")"
   ]
  },
  {
   "cell_type": "markdown",
   "id": "44d87845-8cd1-49b1-b3e8-e0693fc417b5",
   "metadata": {},
   "source": [
    "Then generate the tree. Refer to the [clustree manual](https://cran.r-project.org/web/packages/clustree/vignettes/clustree.html) for tips on how to use this tree to choose the optimal `resolution`"
   ]
  },
  {
   "cell_type": "code",
   "execution_count": null,
   "id": "0c2cb668-a5b1-4261-abac-748c0a79f4b2",
   "metadata": {},
   "outputs": [],
   "source": [
    "clustree(clus_seurat, prefix = \"RNA_snn_res.\") + scale_color_manual(values=c25) + scale_edge_color_continuous(low = \"blue\", high = \"red\")"
   ]
  },
  {
   "cell_type": "markdown",
   "id": "097dfa04-a673-41e1-b30a-f4eb29c4adf5",
   "metadata": {},
   "source": [
    "### Calculate the clusters"
   ]
  },
  {
   "cell_type": "markdown",
   "id": "6759843a-d31e-41d0-90e9-8f4abe716526",
   "metadata": {},
   "source": [
    "First you need to re-run the variable feature calculation, scaling, dimensionality reduction (PCA, t-SNE and UMAP). This may take several minutes to run."
   ]
  },
  {
   "cell_type": "code",
   "execution_count": null,
   "id": "eb702a78-443b-42f5-b4dc-f781f2600032",
   "metadata": {},
   "outputs": [],
   "source": [
    "mat3_filt <- FindVariableFeatures(mat3_filt, selection.method = \"vst\", nfeatures = nrow(mat3_filt))\n",
    "all.genes <- rownames(mat3_filt)\n",
    "mat3_filt <- ScaleData(mat3_filt, features = all.genes)\n",
    "mat3_filt <- RunPCA(mat3_filt, dims = 1:3, verbose = F)\n",
    "mat3_filt <- RunUMAP(mat3_filt, dims = 1:3, verbose = F)\n",
    "mat3_filt <- RunTSNE(mat3_filt, dims = 1:3, verbose = F)"
   ]
  },
  {
   "cell_type": "markdown",
   "id": "2f68c909-9cc0-4efa-b685-d17bc6d78f04",
   "metadata": {},
   "source": [
    "Then you generate a 'nearest neighbor' graph by calculating the neighborhood overlap (Jaccard index) between every cell and identify clusters of cells based on shared nearest neighbor (SNN).\n",
    "\n",
    "**Remember to choose the the `resolution =` score in `FindClusters()` based on the above 'Choosing the correct resolution' section.**"
   ]
  },
  {
   "cell_type": "code",
   "execution_count": null,
   "id": "dc014928-a192-4f69-a674-09d85e29d5c4",
   "metadata": {},
   "outputs": [],
   "source": [
    "mat3_filt <- FindNeighbors(mat3_filt, dims = 1:10)\n",
    "mat3_filt <- FindClusters(mat3_filt, resolution = 0.6)"
   ]
  },
  {
   "cell_type": "markdown",
   "id": "2bf13f6e-b1ff-40a0-967e-6a310ecba6ea",
   "metadata": {},
   "source": [
    "You can see how many cells there are per cluster like so:"
   ]
  },
  {
   "cell_type": "code",
   "execution_count": null,
   "id": "14a4adcd-d171-4a51-9197-427db536addf",
   "metadata": {},
   "outputs": [],
   "source": [
    "cellcount <- as.data.frame(table(mat3_filt@meta.data[4]))\n",
    "names(cellcount) <- c(\"Cluster\", \"Cell_count\")\n",
    "cellcount"
   ]
  },
  {
   "cell_type": "markdown",
   "id": "351250f4-8b05-49c5-aac4-5641f5fa610f",
   "metadata": {},
   "source": [
    "Now we can plot the results."
   ]
  },
  {
   "cell_type": "markdown",
   "id": "63563f60-0f32-4f10-9bf5-dd22c9d2394d",
   "metadata": {},
   "source": [
    "### Clusters - PCA plot"
   ]
  },
  {
   "cell_type": "markdown",
   "id": "3e24cfd1-0d5b-432b-9b35-87f78aa4b41f",
   "metadata": {},
   "source": [
    "**Before filtration:**"
   ]
  },
  {
   "cell_type": "code",
   "execution_count": null,
   "id": "5d6f94b8-985d-41d9-9cd3-dba9b46a14df",
   "metadata": {},
   "outputs": [],
   "source": [
    "p <- DimPlot(mat3, reduction = \"pca\", pt.size = 2, cols = c25) + \n",
    "theme_bw() +\n",
    "theme(legend.title=element_text(size=14), legend.text = element_text(size = 14), axis.title=element_text(size=18), axis.text=element_text(size=14)) + labs(color=\"Cluster\")\n",
    "p"
   ]
  },
  {
   "cell_type": "markdown",
   "id": "a773a29d-3dc3-41ba-a4a2-aa35f4a41e67",
   "metadata": {},
   "source": [
    "**After filtration:**"
   ]
  },
  {
   "cell_type": "code",
   "execution_count": null,
   "id": "713eabc5-d564-4f17-9928-b1925dd59e4e",
   "metadata": {},
   "outputs": [],
   "source": [
    "p <- DimPlot(mat3_filt, reduction = \"pca\", pt.size = 2, cols = c25) + \n",
    "theme_bw() +\n",
    "theme(legend.title=element_text(size=14), legend.text = element_text(size = 14), axis.title=element_text(size=18), axis.text=element_text(size=14)) + labs(color=\"Cluster\")\n",
    "p"
   ]
  },
  {
   "cell_type": "markdown",
   "id": "03726fd1-508b-44b0-aa7b-c2d6ce91203d",
   "metadata": {},
   "source": [
    "Export as a 300dpi tiff"
   ]
  },
  {
   "cell_type": "code",
   "execution_count": null,
   "id": "f8679ea7-a6d9-4cb5-9c90-2bf5fdfc9171",
   "metadata": {},
   "outputs": [],
   "source": [
    "tiff_exp <- paste0(sample, \"_pca_filtered.tiff\")\n",
    "ggsave(file = tiff_exp, dpi = 300, compression = \"lzw\", device = \"tiff\", plot = p, width = 20, height = 20, units = \"cm\")"
   ]
  },
  {
   "cell_type": "markdown",
   "id": "be5888f2-c853-4d4f-a4d7-212a58c64819",
   "metadata": {},
   "source": [
    "Export as a pdf"
   ]
  },
  {
   "cell_type": "code",
   "execution_count": null,
   "id": "756b7997-b35a-4735-ba8f-313c0e11ca73",
   "metadata": {},
   "outputs": [],
   "source": [
    "pdf_exp <- paste0(sample, \"_pca_filtered.pdf\")\n",
    "ggsave(file = pdf_exp, device = \"pdf\", plot = p, width = 20, height = 20, units = \"cm\")"
   ]
  },
  {
   "cell_type": "markdown",
   "id": "c546ab29-bfd5-4dfe-aed9-83b8667bc864",
   "metadata": {},
   "source": [
    "**Plot one individual cluster**"
   ]
  },
  {
   "cell_type": "markdown",
   "id": "8ddcfd15-2b22-4c80-9de8-9a39c23972d9",
   "metadata": {},
   "source": [
    "Here you can visualise a single cluster by colouring it red (or a colour of your choice) and colouring all the other clusters grey."
   ]
  },
  {
   "cell_type": "markdown",
   "id": "1e8963be-be95-4690-9075-be982c76ac51",
   "metadata": {},
   "source": [
    "First define the colours, based on the cluster information in your seurat data. You can change the background colours (`\"gray70\"`) and the highlighted cluster colour (`\"red\"`) to whatever you like. See http://www.stat.columbia.edu/~tzheng/files/Rcolor.pdf for the list of R colours. "
   ]
  },
  {
   "cell_type": "code",
   "execution_count": null,
   "id": "d6b21ec1-8e7f-4733-ba4d-52c7447b2f87",
   "metadata": {},
   "outputs": [],
   "source": [
    "newcols <- rep(\"gray70\", length(levels(mat3_filt))-1)\n",
    "newcols <- c(newcols, \"red\")"
   ]
  },
  {
   "cell_type": "markdown",
   "id": "a541d5bf-a5af-414a-866e-330bae76f13b",
   "metadata": {},
   "source": [
    "Now we need to order your clusters, so that your target cluster is plotted on top of all other clusters. Enter which cluster you want to visualise in the `myclust` variable below. This is based on the cluster numbers in the previous plot. E.g. if you want to plot cluster 5, change `myclust <- 3` to `myclust <- 5`"
   ]
  },
  {
   "cell_type": "code",
   "execution_count": null,
   "id": "53e0e5fa-77ac-4936-b354-4df5ce72922a",
   "metadata": {},
   "outputs": [],
   "source": [
    "myclust <- 3"
   ]
  },
  {
   "cell_type": "markdown",
   "id": "69ab4854-3bbd-4b4a-bb68-b236318095d8",
   "metadata": {},
   "source": [
    "Now we can plot the cluster, placing this cluster on top (the `order` parameter)."
   ]
  },
  {
   "cell_type": "code",
   "execution_count": null,
   "id": "d08b7e1a-717b-4392-b2c6-309b07bfa7f3",
   "metadata": {},
   "outputs": [],
   "source": [
    "p <- DimPlot(mat3_filt, reduction = \"pca\", pt.size = 2, cols = newcols, order = myclust) + \n",
    "theme_bw() +\n",
    "theme(legend.title=element_text(size=14), legend.text = element_text(size = 14), axis.title=element_text(size=18), axis.text=element_text(size=14)) + labs(color=\"Cluster\")\n",
    "p"
   ]
  },
  {
   "cell_type": "markdown",
   "id": "3a256806-fc0d-4c69-a19a-f3b71310bf86",
   "metadata": {},
   "source": [
    "Now we can export this plot as a pdf and tiff."
   ]
  },
  {
   "cell_type": "markdown",
   "id": "5a2e10e4-d729-4edc-bf8c-6de1ae538c0a",
   "metadata": {},
   "source": [
    "Export as a 300dpi tiff"
   ]
  },
  {
   "cell_type": "code",
   "execution_count": null,
   "id": "96e53b35-359e-4a5e-8db7-2c424e6b2275",
   "metadata": {},
   "outputs": [],
   "source": [
    "tiff_exp <- paste0(sample, \"clust_\", myclust, \"_pca_filtered.tiff\")\n",
    "ggsave(file = tiff_exp, dpi = 300, compression = \"lzw\", device = \"tiff\", plot = p, width = 20, height = 20, units = \"cm\")"
   ]
  },
  {
   "cell_type": "markdown",
   "id": "e58997c0-0558-4337-850b-22318b3bae53",
   "metadata": {},
   "source": [
    "Export as a pdf"
   ]
  },
  {
   "cell_type": "code",
   "execution_count": null,
   "id": "6ad6d38a-5d39-421b-b054-d66f35f7fc1d",
   "metadata": {},
   "outputs": [],
   "source": [
    "pdf_exp <- paste0(sample, \"clust_\", myclust, \"_pca_filtered.pdf\")\n",
    "ggsave(file = pdf_exp, device = \"pdf\", plot = p, width = 20, height = 20, units = \"cm\")"
   ]
  },
  {
   "cell_type": "markdown",
   "id": "64b6d299-55f2-4209-ae38-08acd2f7c21a",
   "metadata": {},
   "source": [
    "### Clusters - UMAP"
   ]
  },
  {
   "cell_type": "markdown",
   "id": "74067fb8-f01a-486d-9f97-040b27217ea9",
   "metadata": {},
   "source": [
    "**Before filtration:**"
   ]
  },
  {
   "cell_type": "code",
   "execution_count": null,
   "id": "eb71a591-3d8b-4629-b071-cf4cd7ac6bce",
   "metadata": {},
   "outputs": [],
   "source": [
    "p <- DimPlot(mat3, reduction = \"umap\", pt.size = 2, cols = c25) + \n",
    "theme_bw() +\n",
    "theme(legend.title=element_text(size=14), legend.text = element_text(size = 14), axis.title=element_text(size=16), axis.text=element_text(size=14)) + labs(color=\"Cluster\")\n",
    "p"
   ]
  },
  {
   "cell_type": "markdown",
   "id": "1b05e2be-eeac-4a58-83f0-048276cffd42",
   "metadata": {},
   "source": [
    "**After filtration:**"
   ]
  },
  {
   "cell_type": "code",
   "execution_count": null,
   "id": "9ab1d1db-1f91-4974-8e39-1c3c4f1bb3d8",
   "metadata": {},
   "outputs": [],
   "source": [
    "p <- DimPlot(mat3_filt, reduction = \"umap\", pt.size = 2, cols = c25) + \n",
    "theme_bw() +\n",
    "theme(legend.title=element_text(size=14), legend.text = element_text(size = 14), axis.title=element_text(size=18), axis.text=element_text(size=14)) + labs(color=\"Cluster\")\n",
    "p"
   ]
  },
  {
   "cell_type": "markdown",
   "id": "18d92bb4-b8fb-4602-8c76-a46f40366f54",
   "metadata": {},
   "source": [
    "Export as a 300dpi tiff"
   ]
  },
  {
   "cell_type": "code",
   "execution_count": null,
   "id": "40e4da9f-27d4-495f-aec2-0cf66cd1d0fb",
   "metadata": {},
   "outputs": [],
   "source": [
    "tiff_exp <- paste0(sample, \"_umap_filtered.tiff\")\n",
    "ggsave(file = tiff_exp, dpi = 300, compression = \"lzw\", device = \"tiff\", plot = p, width = 20, height = 20, units = \"cm\")"
   ]
  },
  {
   "cell_type": "markdown",
   "id": "c66ae255-a918-4e76-a62b-d4297c24fbba",
   "metadata": {},
   "source": [
    "Export as a pdf"
   ]
  },
  {
   "cell_type": "code",
   "execution_count": null,
   "id": "8e1d30e7-73ee-4140-ac52-eeae696707d5",
   "metadata": {},
   "outputs": [],
   "source": [
    "pdf_exp <- paste0(sample, \"_umap_filtered.pdf\")\n",
    "ggsave(file = pdf_exp, device = \"pdf\", plot = p, width = 20, height = 20, units = \"cm\")"
   ]
  },
  {
   "cell_type": "markdown",
   "id": "5de3fd1b-843e-4509-8c48-b60f509020e2",
   "metadata": {},
   "source": [
    "**Plot individual clusters**"
   ]
  },
  {
   "cell_type": "markdown",
   "id": "c3032835-e0e0-4d48-8a70-222bc1f99af7",
   "metadata": {},
   "source": [
    "Select your colours."
   ]
  },
  {
   "cell_type": "code",
   "execution_count": null,
   "id": "cb44ab2a-2c67-4ed0-925d-0411d5020409",
   "metadata": {},
   "outputs": [],
   "source": [
    "newcols <- rep(\"gray70\", length(levels(mat3_filt))-1)\n",
    "newcols <- c(newcols, \"red\")"
   ]
  },
  {
   "cell_type": "markdown",
   "id": "4c3cfc4e-8de3-4bc1-a39e-8d682b669da6",
   "metadata": {},
   "source": [
    "Select your cluster and then plot it."
   ]
  },
  {
   "cell_type": "code",
   "execution_count": null,
   "id": "dd484154-bcb9-44d0-8d9f-4babf967a48b",
   "metadata": {},
   "outputs": [],
   "source": [
    "myclust <- 3"
   ]
  },
  {
   "cell_type": "code",
   "execution_count": null,
   "id": "27fd37e0-97b5-457e-a1e1-35fcd7292840",
   "metadata": {},
   "outputs": [],
   "source": [
    "p <- DimPlot(mat3_filt, reduction = \"umap\", pt.size = 2, cols = newcols, order = myclust) + \n",
    "theme_bw() +\n",
    "theme(legend.title=element_text(size=14), legend.text = element_text(size = 14), axis.title=element_text(size=18), axis.text=element_text(size=14)) + labs(color=\"Cluster\")\n",
    "p"
   ]
  },
  {
   "cell_type": "markdown",
   "id": "7a382232-b424-4d1a-907f-cd72e27c7e60",
   "metadata": {},
   "source": [
    "Export as a 300dpi tiff"
   ]
  },
  {
   "cell_type": "code",
   "execution_count": null,
   "id": "bb41d347-03a1-49e0-8b5e-683431040d13",
   "metadata": {},
   "outputs": [],
   "source": [
    "tiff_exp <- paste0(sample, \"clust_\", myclust, \"_umap_filtered.tiff\")\n",
    "ggsave(file = tiff_exp, dpi = 300, compression = \"lzw\", device = \"tiff\", plot = p, width = 20, height = 20, units = \"cm\")"
   ]
  },
  {
   "cell_type": "markdown",
   "id": "34bbeb78-9c45-4526-a98e-c94cf8cb7e7c",
   "metadata": {},
   "source": [
    "Export as a pdf"
   ]
  },
  {
   "cell_type": "code",
   "execution_count": null,
   "id": "af03ff70-37d7-4653-9649-8bc84e18c947",
   "metadata": {},
   "outputs": [],
   "source": [
    "pdf_exp <- paste0(sample, \"clust_\", myclust, \"_umap_filtered.pdf\")\n",
    "ggsave(file = pdf_exp, device = \"pdf\", plot = p, width = 20, height = 20, units = \"cm\")"
   ]
  },
  {
   "cell_type": "markdown",
   "id": "f403abf8-8449-400d-8adf-1e40451efd57",
   "metadata": {},
   "source": [
    "### Clusters - T-sne"
   ]
  },
  {
   "cell_type": "markdown",
   "id": "97bfa29f-ccc0-4510-9e9a-909f5cd0ebfb",
   "metadata": {},
   "source": [
    "**Before filtration:**"
   ]
  },
  {
   "cell_type": "code",
   "execution_count": null,
   "id": "57277aae-fb4b-44a7-8e42-fb5be38473e8",
   "metadata": {},
   "outputs": [],
   "source": [
    "p <- DimPlot(mat3, reduction = \"tsne\", pt.size = 2, cols = c25) + \n",
    "theme_bw() +\n",
    "theme(legend.title=element_text(size=14), legend.text = element_text(size = 14), axis.title=element_text(size=18), axis.text=element_text(size=14)) + labs(color=\"Cluster\")\n",
    "p"
   ]
  },
  {
   "cell_type": "markdown",
   "id": "9b727ba5-58fa-4d39-a847-7f9cf7506326",
   "metadata": {},
   "source": [
    "**After filtration:**"
   ]
  },
  {
   "cell_type": "code",
   "execution_count": null,
   "id": "d6f17029-560a-4fac-9f4a-f99b29fc24de",
   "metadata": {},
   "outputs": [],
   "source": [
    "p <- DimPlot(mat3_filt, reduction = \"tsne\", pt.size = 2, cols = c25) + \n",
    "theme_bw() +\n",
    "theme(legend.title=element_text(size=14), legend.text = element_text(size = 14), axis.title=element_text(size=18), axis.text=element_text(size=14)) + labs(color=\"Cluster\")\n",
    "p"
   ]
  },
  {
   "cell_type": "markdown",
   "id": "6d6606c5-0b9b-45b9-8337-5914a5378e43",
   "metadata": {},
   "source": [
    "Export as a 300dpi tiff"
   ]
  },
  {
   "cell_type": "code",
   "execution_count": null,
   "id": "9a026c38-99ff-4daf-b839-d342ecfdf8fd",
   "metadata": {},
   "outputs": [],
   "source": [
    "tiff_exp <- paste0(sample, \"_tsne_filtered.tiff\")\n",
    "ggsave(file = tiff_exp, dpi = 300, compression = \"lzw\", device = \"tiff\", plot = p, width = 20, height = 20, units = \"cm\")"
   ]
  },
  {
   "cell_type": "markdown",
   "id": "1d9fed40-c52e-44d2-a059-7c7be9f64154",
   "metadata": {},
   "source": [
    "Export as a pdf"
   ]
  },
  {
   "cell_type": "code",
   "execution_count": null,
   "id": "593aa7ae-fe34-423a-a33d-3f4f6d427818",
   "metadata": {},
   "outputs": [],
   "source": [
    "pdf_exp <- paste0(sample, \"_tsne_filtered.pdf\")\n",
    "ggsave(file = pdf_exp, device = \"pdf\", plot = p, width = 20, height = 20, units = \"cm\")"
   ]
  },
  {
   "cell_type": "markdown",
   "id": "150c5539-607e-40dc-a86e-ebca0dbdee0c",
   "metadata": {},
   "source": [
    "**Plot individual clusters**"
   ]
  },
  {
   "cell_type": "markdown",
   "id": "24a1dcbf-cd39-442c-85c5-8d8747e2ea60",
   "metadata": {},
   "source": [
    "Select your colours."
   ]
  },
  {
   "cell_type": "code",
   "execution_count": null,
   "id": "e24f95b2-0936-4f2c-903e-be99aa36e22c",
   "metadata": {},
   "outputs": [],
   "source": [
    "newcols <- rep(\"gray70\", length(levels(mat3_filt))-1)\n",
    "newcols <- c(newcols, \"red\")"
   ]
  },
  {
   "cell_type": "markdown",
   "id": "656b72ed-6af9-4b0f-89e4-df4dff8727b1",
   "metadata": {},
   "source": [
    "Select your cluster and then plot it."
   ]
  },
  {
   "cell_type": "code",
   "execution_count": null,
   "id": "1928a329-6f4f-416b-b1c9-867ad4c9bcca",
   "metadata": {},
   "outputs": [],
   "source": [
    "myclust <- 3"
   ]
  },
  {
   "cell_type": "code",
   "execution_count": null,
   "id": "08732b85-cd80-4e83-9eaf-16fdb0a6ebe8",
   "metadata": {},
   "outputs": [],
   "source": [
    "p <- DimPlot(mat3_filt, reduction = \"tsne\", pt.size = 2, cols = newcols, order = myclust) + \n",
    "theme_bw() +\n",
    "theme(legend.title=element_text(size=14), legend.text = element_text(size = 14), axis.title=element_text(size=18), axis.text=element_text(size=14)) + labs(color=\"Cluster\")\n",
    "p"
   ]
  },
  {
   "cell_type": "markdown",
   "id": "af833844-2d66-479e-9576-c37618aba293",
   "metadata": {},
   "source": [
    "Export as a 300dpi tiff"
   ]
  },
  {
   "cell_type": "code",
   "execution_count": null,
   "id": "9b97a894-f70d-4ea3-b164-1455df936f93",
   "metadata": {},
   "outputs": [],
   "source": [
    "tiff_exp <- paste0(sample, \"clust_\", myclust, \"_tsne_filtered.tiff\")\n",
    "ggsave(file = tiff_exp, dpi = 300, compression = \"lzw\", device = \"tiff\", plot = p, width = 20, height = 20, units = \"cm\")"
   ]
  },
  {
   "cell_type": "markdown",
   "id": "6ab276e0-361a-45bc-8536-4638e2e614a1",
   "metadata": {},
   "source": [
    "Export as a pdf"
   ]
  },
  {
   "cell_type": "code",
   "execution_count": null,
   "id": "d65ea018-231d-4e63-bc35-072faad18bf7",
   "metadata": {},
   "outputs": [],
   "source": [
    "pdf_exp <- paste0(sample, \"clust_\", myclust, \"_tsne_filtered.pdf\")\n",
    "ggsave(file = pdf_exp, device = \"pdf\", plot = p, width = 20, height = 20, units = \"cm\")"
   ]
  },
  {
   "cell_type": "markdown",
   "id": "c7c114fa-7e52-4e18-b5c9-91475fc3ab71",
   "metadata": {},
   "source": [
    "### Clusters - Heatmap of selected markers"
   ]
  },
  {
   "cell_type": "markdown",
   "id": "bd922406-843c-449f-8619-f918ee725a62",
   "metadata": {},
   "source": [
    "Recall which markers you previously defined:"
   ]
  },
  {
   "cell_type": "code",
   "execution_count": null,
   "id": "a9de72e7-2283-4dfd-8f0a-c1b927f93673",
   "metadata": {},
   "outputs": [],
   "source": [
    "markers"
   ]
  },
  {
   "cell_type": "markdown",
   "id": "d522abac-e60d-4be4-a309-174981101822",
   "metadata": {},
   "source": [
    "**Before filtration:**"
   ]
  },
  {
   "cell_type": "code",
   "execution_count": null,
   "id": "feae6112-ea06-4826-af60-7bf7c2e91329",
   "metadata": {},
   "outputs": [],
   "source": [
    "p <- DoHeatmap(mat3, features = markers, raster = T) + \n",
    "scale_fill_gradientn(colors = c(\"darkorange\", \"floralwhite\", \"dodgerblue4\")) + \n",
    "theme(text = element_text(size = 16)) + labs(color = \"Dose (mg)\")\n",
    "p"
   ]
  },
  {
   "cell_type": "markdown",
   "id": "330f05ad-1fbe-4319-9952-1d8aa87441f2",
   "metadata": {},
   "source": [
    "**After filtration:**"
   ]
  },
  {
   "cell_type": "code",
   "execution_count": null,
   "id": "58121e86-516e-4284-8357-92a344188c55",
   "metadata": {},
   "outputs": [],
   "source": [
    "p <- DoHeatmap(mat3_filt, features = markers, raster = T) + \n",
    "scale_fill_gradientn(colors = c(\"darkorange\", \"floralwhite\", \"dodgerblue4\")) + \n",
    "theme(text = element_text(size = 16)) + labs(color = \"Dose (mg)\")\n",
    "p"
   ]
  },
  {
   "cell_type": "markdown",
   "id": "861f6948-f82d-48dd-b446-2400608e9444",
   "metadata": {},
   "source": [
    "Export as a 300dpi tiff"
   ]
  },
  {
   "cell_type": "code",
   "execution_count": null,
   "id": "c6de7413-02f4-4dc6-b26a-41c622180c91",
   "metadata": {},
   "outputs": [],
   "source": [
    "tiff_exp <- paste0(sample, \"_hmap_filtered.tiff\")\n",
    "ggsave(file = tiff_exp, dpi = 300, compression = \"lzw\", device = \"tiff\", plot = p, width = 20, height = 20, units = \"cm\")"
   ]
  },
  {
   "cell_type": "markdown",
   "id": "ef978150-49ab-45e7-835b-eef17c1f8e7d",
   "metadata": {},
   "source": [
    "Export as a pdf"
   ]
  },
  {
   "cell_type": "code",
   "execution_count": null,
   "id": "3525b0a8-ffdf-4022-89a2-7820b169255f",
   "metadata": {},
   "outputs": [],
   "source": [
    "pdf_exp <- paste0(sample, \"_hmap_filtered.pdf\")\n",
    "ggsave(file = pdf_exp, device = \"pdf\", plot = p, width = 20, height = 20, units = \"cm\")"
   ]
  },
  {
   "cell_type": "markdown",
   "id": "6319a5d8-a524-432f-ae37-60a967c54365",
   "metadata": {},
   "source": [
    "**********************************"
   ]
  },
  {
   "cell_type": "markdown",
   "id": "f9564667-f545-407e-88b3-fbed954369b2",
   "metadata": {},
   "source": [
    "## 5k. Plot marker expression before and after filtration <a class=\"anchor\" id=\"mfilt\"></a>"
   ]
  },
  {
   "cell_type": "markdown",
   "id": "416ea5f1-11f5-40b6-a141-61648e934b81",
   "metadata": {},
   "source": [
    "Finally, we can see how the expression of specific markers changed before and after filtration"
   ]
  },
  {
   "cell_type": "markdown",
   "id": "39a227b5-1479-417b-ab2c-a04529fa4775",
   "metadata": {},
   "source": [
    "Again, select your set of markers (you could re-enter the same ones you used earlier, or use a different set):"
   ]
  },
  {
   "cell_type": "code",
   "execution_count": null,
   "id": "e4be894b-a74a-4162-bd9f-874818c90094",
   "metadata": {},
   "outputs": [],
   "source": [
    "markers <- c(\"P2ry12\", \"Tmem119\")"
   ]
  },
  {
   "cell_type": "markdown",
   "id": "3877b8d0-61a7-4054-b86f-0e9b1d698117",
   "metadata": {},
   "source": [
    "Select which type of plot you want to generate (\"pca\", \"umap\" or \"tsne\"):"
   ]
  },
  {
   "cell_type": "code",
   "execution_count": null,
   "id": "d25a549f-7fc0-427c-81dc-30afe8799d4b",
   "metadata": {},
   "outputs": [],
   "source": [
    "redplot <- \"pca\""
   ]
  },
  {
   "cell_type": "markdown",
   "id": "76ce2e8c-ef7b-4f55-878b-895b53db89bb",
   "metadata": {},
   "source": [
    "### Before filtration"
   ]
  },
  {
   "cell_type": "code",
   "execution_count": null,
   "id": "d3efb24d-a846-49f0-ac71-2ad0437a9646",
   "metadata": {},
   "outputs": [],
   "source": [
    "p <- FeaturePlot(mat3, features = markers, reduction = redplot, cols = c(\"lightgrey\", \"red\"), pt.size = 1)\n",
    "p"
   ]
  },
  {
   "cell_type": "markdown",
   "id": "6deda6c9-2e82-4d94-be67-e934a978b122",
   "metadata": {},
   "source": [
    "Export as a 300dpi tiff"
   ]
  },
  {
   "cell_type": "code",
   "execution_count": null,
   "id": "d9f7edf4-c98b-4b3c-8b0d-283bcd256031",
   "metadata": {},
   "outputs": [],
   "source": [
    "tiff_exp <- paste0(sample, \"_\", redplot, \"_markers.tiff\")\n",
    "ggsave(file = tiff_exp, dpi = 300, compression = \"lzw\", device = \"tiff\", plot = p, width = 20, height = 20, units = \"cm\")"
   ]
  },
  {
   "cell_type": "markdown",
   "id": "7b0641e0-2d47-4ce2-8622-2eaa6d4003eb",
   "metadata": {},
   "source": [
    "Export as a pdf"
   ]
  },
  {
   "cell_type": "code",
   "execution_count": null,
   "id": "f8e75567-837c-4c2f-a450-451c819c8972",
   "metadata": {},
   "outputs": [],
   "source": [
    "pdf_exp <- paste0(sample, \"_\", redplot, \"_markers.pdf\")\n",
    "ggsave(file = pdf_exp, device = \"pdf\", plot = p, width = 20, height = 20, units = \"cm\")"
   ]
  },
  {
   "cell_type": "markdown",
   "id": "fc03e911-77db-487c-9992-37f14e01cf7a",
   "metadata": {},
   "source": [
    "### After filtration"
   ]
  },
  {
   "cell_type": "code",
   "execution_count": null,
   "id": "947e9a2e-3526-4ad6-937b-a7006614cb5f",
   "metadata": {},
   "outputs": [],
   "source": [
    "p <- FeaturePlot(mat3_filt, features = markers, reduction = redplot, cols = c(\"lightgrey\", \"red\"), pt.size = 1)\n",
    "p"
   ]
  },
  {
   "cell_type": "markdown",
   "id": "b32741ff-6877-47fc-826b-39ea2c4e0995",
   "metadata": {},
   "source": [
    "Export as a 300dpi tiff"
   ]
  },
  {
   "cell_type": "code",
   "execution_count": null,
   "id": "9b6dd856-f282-422e-9b5b-964cb260110d",
   "metadata": {},
   "outputs": [],
   "source": [
    "tiff_exp <- paste0(sample, \"_\", redplot, \"_markers_filtered.tiff\")\n",
    "ggsave(file = tiff_exp, dpi = 300, compression = \"lzw\", device = \"tiff\", plot = p, width = 20, height = 20, units = \"cm\")"
   ]
  },
  {
   "cell_type": "markdown",
   "id": "ce03dc25-4491-495a-b592-3047640dfb55",
   "metadata": {},
   "source": [
    "Export as a pdf"
   ]
  },
  {
   "cell_type": "code",
   "execution_count": null,
   "id": "d9c0ecdb-506e-4b39-a351-c1726cb7ed6c",
   "metadata": {},
   "outputs": [],
   "source": [
    "pdf_exp <- paste0(sample, \"_\", redplot, \"_markers_filtered.pdf\")\n",
    "ggsave(file = pdf_exp, device = \"pdf\", plot = p, width = 20, height = 20, units = \"cm\")"
   ]
  },
  {
   "cell_type": "markdown",
   "id": "313baad0-bb19-4fe1-94f1-1c2a6525ff61",
   "metadata": {},
   "source": [
    "*********************************"
   ]
  },
  {
   "cell_type": "markdown",
   "id": "aa6054cb-a372-4861-9b6c-cd8893b04781",
   "metadata": {},
   "source": [
    "## 5l. Output filtered results <a class=\"anchor\" id=\"output\"></a>"
   ]
  },
  {
   "cell_type": "markdown",
   "id": "79b83582-ce6c-49de-8fba-ee1d22ba132d",
   "metadata": {},
   "source": [
    "In this last section we will export the filtered dataset (non-target cells removed, other filtration applied), for analysis in the next sections of this analysis workflow. **You need to run this entire '5. Filtering cells using markers' Notebook once for every sample you have, because the other sections rely on the output created here for each sample.**"
   ]
  },
  {
   "cell_type": "markdown",
   "id": "9bfc6fd3-5a80-48e3-a074-74c3ae5639dd",
   "metadata": {},
   "source": [
    "Output the filtered Seurat object as a file, to be imported in the other sections of this workflow (this is a large amount of data, so may take a few minutes):"
   ]
  },
  {
   "cell_type": "code",
   "execution_count": null,
   "id": "90319c75-fba3-41cb-bc03-fa78416a8d37",
   "metadata": {},
   "outputs": [],
   "source": [
    "saveRDS(mat3_filt, file = paste0(sample, \"_seurat_filtered.rds\"))"
   ]
  },
  {
   "cell_type": "markdown",
   "id": "6cc54557-1d88-4c40-b9ef-c210462889dc",
   "metadata": {},
   "source": [
    "[Click here to go to the next section: Aggregate clustering](./scRNASeq_6_aggregate_cluster.ipynb)"
   ]
  }
 ],
 "metadata": {
  "kernelspec": {
   "display_name": "R",
   "language": "R",
   "name": "ir"
  },
  "language_info": {
   "codemirror_mode": "r",
   "file_extension": ".r",
   "mimetype": "text/x-r-source",
   "name": "R",
   "pygments_lexer": "r",
   "version": "4.1.3"
  }
 },
 "nbformat": 4,
 "nbformat_minor": 5
}
